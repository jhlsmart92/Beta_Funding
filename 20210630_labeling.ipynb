{
 "cells": [
  {
   "cell_type": "code",
   "execution_count": 1,
   "metadata": {},
   "outputs": [],
   "source": [
    "import requests\n",
    "from bs4 import BeautifulSoup as bsp\n",
    "import numpy as np\n",
    "import pandas as pd\n",
    "import matplotlib as mpl\n",
    "import matplotlib.pyplot as plt\n",
    "import sqlite3\n",
    "\n",
    "import json\n",
    "import time\n",
    "from datetime import datetime, timedelta\n",
    "from selenium import webdriver\n",
    "from selenium.webdriver.common.keys import Keys"
   ]
  },
  {
   "cell_type": "code",
   "execution_count": 2,
   "metadata": {},
   "outputs": [],
   "source": [
    "# PYTHON으로 SQLITE3의 DB에 데이터 담기\n",
    "dbname='20210630_wadizDB_최종.db'\n",
    "def insData(d, tblname='wadiztable'):\n",
    "    with sqlite3.connect(dbname) as conn:\n",
    "        cur=conn.cursor()\n",
    "        sql='select * from '+tblname+' where ncategory=\"'+d+'\"'\n",
    "        ckkey=cur.execute(sql).fetchall()\n",
    "        if ckkey:\n",
    "            return ckkey\n",
    "#             print('{}',ckkey)\n",
    "\n"
   ]
  },
  {
   "cell_type": "code",
   "execution_count": 3,
   "metadata": {},
   "outputs": [
    {
     "name": "stdout",
     "output_type": "stream",
     "text": [
      "[와디즈 단독] 지친 일상에 건강충전! 강력한 캐나다산 베리 습관  \n"
     ]
    }
   ],
   "source": [
    "d = '푸드'\n",
    "data = insData(d)\n",
    "print(data[1][2])\n"
   ]
  },
  {
   "cell_type": "code",
   "execution_count": 4,
   "metadata": {},
   "outputs": [
    {
     "data": {
      "text/html": [
       "<div>\n",
       "<style scoped>\n",
       "    .dataframe tbody tr th:only-of-type {\n",
       "        vertical-align: middle;\n",
       "    }\n",
       "\n",
       "    .dataframe tbody tr th {\n",
       "        vertical-align: top;\n",
       "    }\n",
       "\n",
       "    .dataframe thead th {\n",
       "        text-align: right;\n",
       "    }\n",
       "</style>\n",
       "<table border=\"1\" class=\"dataframe\">\n",
       "  <thead>\n",
       "    <tr style=\"text-align: right;\">\n",
       "      <th></th>\n",
       "      <th>0</th>\n",
       "      <th>1</th>\n",
       "      <th>2</th>\n",
       "      <th>3</th>\n",
       "      <th>4</th>\n",
       "      <th>5</th>\n",
       "      <th>6</th>\n",
       "      <th>7</th>\n",
       "    </tr>\n",
       "  </thead>\n",
       "  <tbody>\n",
       "    <tr>\n",
       "      <th>0</th>\n",
       "      <td>8236</td>\n",
       "      <td>푸드</td>\n",
       "      <td>[이게 마늘 꽃이라구요?] 입안 가득 풍미 팡! 마늘종 페스토</td>\n",
       "      <td>\\n    우리집 빵도둑!!! 깊고 진한 풍미의 향연을 느낄 수 있는 '마늘종페스토...</td>\n",
       "      <td>114</td>\n",
       "      <td>5,627,710</td>\n",
       "      <td>1125</td>\n",
       "      <td>https://www.wadiz.kr/web/campaign/detail/113318</td>\n",
       "    </tr>\n",
       "    <tr>\n",
       "      <th>1</th>\n",
       "      <td>8237</td>\n",
       "      <td>푸드</td>\n",
       "      <td>[와디즈 단독] 지친 일상에 건강충전! 강력한 캐나다산 베리 습관</td>\n",
       "      <td>\\n    바쁜 현대인들의 건강을 충전해 줄 과일들만 쏙 모았어요! \\n캐나다산 건...</td>\n",
       "      <td>55</td>\n",
       "      <td>1,513,100</td>\n",
       "      <td>302</td>\n",
       "      <td>https://www.wadiz.kr/web/campaign/detail/111527</td>\n",
       "    </tr>\n",
       "    <tr>\n",
       "      <th>2</th>\n",
       "      <td>8238</td>\n",
       "      <td>푸드</td>\n",
       "      <td>[3차 앵콜] 갓 생산해 보내드리는 신선한 오징어! 올 여름 주전부리!</td>\n",
       "      <td>\\n    [앵콜 3차] 갓 생산해 보내드리는 신선한 국산 오징어!! 만능 촉촉오징...</td>\n",
       "      <td>4</td>\n",
       "      <td>308,000</td>\n",
       "      <td>30</td>\n",
       "      <td>https://www.wadiz.kr/web/campaign/detail/119839</td>\n",
       "    </tr>\n",
       "    <tr>\n",
       "      <th>3</th>\n",
       "      <td>8239</td>\n",
       "      <td>푸드</td>\n",
       "      <td>[체리+자두] 체리?자두? 두과일이 합쳐진 7월 한정 신품종 나디아자두!</td>\n",
       "      <td>\\n    체리와 자두가 만난 신품종 나디아 자두를 소개합니다! 7월 한달 만날 수...</td>\n",
       "      <td>505</td>\n",
       "      <td>19,284,000</td>\n",
       "      <td>3856</td>\n",
       "      <td>https://www.wadiz.kr/web/campaign/detail/117627</td>\n",
       "    </tr>\n",
       "    <tr>\n",
       "      <th>4</th>\n",
       "      <td>8240</td>\n",
       "      <td>푸드</td>\n",
       "      <td>떡볶이에 명란이?!? 사장님 떡볶이에 무슨 짓을 한거에요?</td>\n",
       "      <td>\\n    \"떡볶이에 대체 무슨 짓을 한 거냐구요?\"\\n매콤한 떡볶이와 명란이 만나...</td>\n",
       "      <td>132</td>\n",
       "      <td>4,409,500</td>\n",
       "      <td>146</td>\n",
       "      <td>https://www.wadiz.kr/web/campaign/detail/115809</td>\n",
       "    </tr>\n",
       "    <tr>\n",
       "      <th>...</th>\n",
       "      <td>...</td>\n",
       "      <td>...</td>\n",
       "      <td>...</td>\n",
       "      <td>...</td>\n",
       "      <td>...</td>\n",
       "      <td>...</td>\n",
       "      <td>...</td>\n",
       "      <td>...</td>\n",
       "    </tr>\n",
       "    <tr>\n",
       "      <th>3067</th>\n",
       "      <td>11303</td>\n",
       "      <td>푸드</td>\n",
       "      <td>[앵콜펀딩] 사람은 효소와 공생합니다.</td>\n",
       "      <td>\\n    효소는 생명체가 아닌 물질이며, 사람은 효소와 공생합니다. #꽃송이버섯 ...</td>\n",
       "      <td>20</td>\n",
       "      <td>1,339,400</td>\n",
       "      <td>167</td>\n",
       "      <td>https://www.wadiz.kr/web/campaign/detail/38696</td>\n",
       "    </tr>\n",
       "    <tr>\n",
       "      <th>3068</th>\n",
       "      <td>11304</td>\n",
       "      <td>푸드</td>\n",
       "      <td>한국을 대표하는 명품 독도 꽃새우</td>\n",
       "      <td>\\n    대한민국을 대표하는 명품 독도꽃새우입니다. \\n꽃보다 더 화려해서 더 맛...</td>\n",
       "      <td>100</td>\n",
       "      <td>8,353,000</td>\n",
       "      <td>167</td>\n",
       "      <td>https://www.wadiz.kr/web/campaign/detail/63746</td>\n",
       "    </tr>\n",
       "    <tr>\n",
       "      <th>3069</th>\n",
       "      <td>11305</td>\n",
       "      <td>푸드</td>\n",
       "      <td>[인생디저트] 최초공개!! 떡후의방앗간 인절미 3종</td>\n",
       "      <td>\\n    떡도 완벽한 디저트가 될 수있다.\\r\\n\\r\\n전통식품인 떡을 현대인의 ...</td>\n",
       "      <td>66</td>\n",
       "      <td>1,675,600</td>\n",
       "      <td>167</td>\n",
       "      <td>https://www.wadiz.kr/web/campaign/detail/34611</td>\n",
       "    </tr>\n",
       "    <tr>\n",
       "      <th>3070</th>\n",
       "      <td>11306</td>\n",
       "      <td>푸드</td>\n",
       "      <td>[하루200원대] 오메가+비타민12종=단 1캡슐로 종결낸 영양소 신세계!</td>\n",
       "      <td>\\n    오메가 + 12종의 비타민&amp;미네랄 = 비현실적인 영양 성분 그러나 합리적...</td>\n",
       "      <td>215</td>\n",
       "      <td>11,738,500</td>\n",
       "      <td>167</td>\n",
       "      <td>https://www.wadiz.kr/web/campaign/detail/107019</td>\n",
       "    </tr>\n",
       "    <tr>\n",
       "      <th>3071</th>\n",
       "      <td>11307</td>\n",
       "      <td>푸드</td>\n",
       "      <td>민초단의 필수품! 내 일상의 민트초코포션!</td>\n",
       "      <td>\\n    달콤함을 가져다 주는 나만의 포션, 민트초코포션 #힐링포션 #부스트포션 ...</td>\n",
       "      <td>68</td>\n",
       "      <td>1,678,900</td>\n",
       "      <td>167</td>\n",
       "      <td>https://www.wadiz.kr/web/campaign/detail/110971</td>\n",
       "    </tr>\n",
       "  </tbody>\n",
       "</table>\n",
       "<p>3072 rows × 8 columns</p>\n",
       "</div>"
      ],
      "text/plain": [
       "          0   1                                         2  \\\n",
       "0      8236  푸드        [이게 마늘 꽃이라구요?] 입안 가득 풍미 팡! 마늘종 페스토   \n",
       "1      8237  푸드    [와디즈 단독] 지친 일상에 건강충전! 강력한 캐나다산 베리 습관     \n",
       "2      8238  푸드   [3차 앵콜] 갓 생산해 보내드리는 신선한 오징어! 올 여름 주전부리!   \n",
       "3      8239  푸드  [체리+자두] 체리?자두? 두과일이 합쳐진 7월 한정 신품종 나디아자두!   \n",
       "4      8240  푸드         떡볶이에 명란이?!? 사장님 떡볶이에 무슨 짓을 한거에요?    \n",
       "...     ...  ..                                       ...   \n",
       "3067  11303  푸드                     [앵콜펀딩] 사람은 효소와 공생합니다.   \n",
       "3068  11304  푸드                        한국을 대표하는 명품 독도 꽃새우   \n",
       "3069  11305  푸드              [인생디저트] 최초공개!! 떡후의방앗간 인절미 3종   \n",
       "3070  11306  푸드  [하루200원대] 오메가+비타민12종=단 1캡슐로 종결낸 영양소 신세계!   \n",
       "3071  11307  푸드                   민초단의 필수품! 내 일상의 민트초코포션!   \n",
       "\n",
       "                                                      3    4           5  \\\n",
       "0     \\n    우리집 빵도둑!!! 깊고 진한 풍미의 향연을 느낄 수 있는 '마늘종페스토...  114   5,627,710   \n",
       "1     \\n    바쁜 현대인들의 건강을 충전해 줄 과일들만 쏙 모았어요! \\n캐나다산 건...   55   1,513,100   \n",
       "2     \\n    [앵콜 3차] 갓 생산해 보내드리는 신선한 국산 오징어!! 만능 촉촉오징...    4     308,000   \n",
       "3     \\n    체리와 자두가 만난 신품종 나디아 자두를 소개합니다! 7월 한달 만날 수...  505  19,284,000   \n",
       "4     \\n    \"떡볶이에 대체 무슨 짓을 한 거냐구요?\"\\n매콤한 떡볶이와 명란이 만나...  132   4,409,500   \n",
       "...                                                 ...  ...         ...   \n",
       "3067  \\n    효소는 생명체가 아닌 물질이며, 사람은 효소와 공생합니다. #꽃송이버섯 ...   20   1,339,400   \n",
       "3068  \\n    대한민국을 대표하는 명품 독도꽃새우입니다. \\n꽃보다 더 화려해서 더 맛...  100   8,353,000   \n",
       "3069  \\n    떡도 완벽한 디저트가 될 수있다.\\r\\n\\r\\n전통식품인 떡을 현대인의 ...   66   1,675,600   \n",
       "3070  \\n    오메가 + 12종의 비타민&미네랄 = 비현실적인 영양 성분 그러나 합리적...  215  11,738,500   \n",
       "3071  \\n    달콤함을 가져다 주는 나만의 포션, 민트초코포션 #힐링포션 #부스트포션 ...   68   1,678,900   \n",
       "\n",
       "         6                                                7  \n",
       "0     1125  https://www.wadiz.kr/web/campaign/detail/113318  \n",
       "1      302  https://www.wadiz.kr/web/campaign/detail/111527  \n",
       "2       30  https://www.wadiz.kr/web/campaign/detail/119839  \n",
       "3     3856  https://www.wadiz.kr/web/campaign/detail/117627  \n",
       "4      146  https://www.wadiz.kr/web/campaign/detail/115809  \n",
       "...    ...                                              ...  \n",
       "3067   167   https://www.wadiz.kr/web/campaign/detail/38696  \n",
       "3068   167   https://www.wadiz.kr/web/campaign/detail/63746  \n",
       "3069   167   https://www.wadiz.kr/web/campaign/detail/34611  \n",
       "3070   167  https://www.wadiz.kr/web/campaign/detail/107019  \n",
       "3071   167  https://www.wadiz.kr/web/campaign/detail/110971  \n",
       "\n",
       "[3072 rows x 8 columns]"
      ]
     },
     "execution_count": 4,
     "metadata": {},
     "output_type": "execute_result"
    }
   ],
   "source": [
    "df = pd.DataFrame(data)\n",
    "df"
   ]
  },
  {
   "cell_type": "code",
   "execution_count": 5,
   "metadata": {},
   "outputs": [
    {
     "data": {
      "text/html": [
       "<div>\n",
       "<style scoped>\n",
       "    .dataframe tbody tr th:only-of-type {\n",
       "        vertical-align: middle;\n",
       "    }\n",
       "\n",
       "    .dataframe tbody tr th {\n",
       "        vertical-align: top;\n",
       "    }\n",
       "\n",
       "    .dataframe thead th {\n",
       "        text-align: right;\n",
       "    }\n",
       "</style>\n",
       "<table border=\"1\" class=\"dataframe\">\n",
       "  <thead>\n",
       "    <tr style=\"text-align: right;\">\n",
       "      <th></th>\n",
       "      <th>idx</th>\n",
       "      <th>category</th>\n",
       "      <th>title</th>\n",
       "      <th>content</th>\n",
       "      <th>supporter</th>\n",
       "      <th>amount</th>\n",
       "      <th>percent</th>\n",
       "      <th>key</th>\n",
       "    </tr>\n",
       "  </thead>\n",
       "  <tbody>\n",
       "    <tr>\n",
       "      <th>0</th>\n",
       "      <td>8236</td>\n",
       "      <td>푸드</td>\n",
       "      <td>[이게 마늘 꽃이라구요?] 입안 가득 풍미 팡! 마늘종 페스토</td>\n",
       "      <td>\\n    우리집 빵도둑!!! 깊고 진한 풍미의 향연을 느낄 수 있는 '마늘종페스토...</td>\n",
       "      <td>114</td>\n",
       "      <td>5,627,710</td>\n",
       "      <td>1125</td>\n",
       "      <td>https://www.wadiz.kr/web/campaign/detail/113318</td>\n",
       "    </tr>\n",
       "    <tr>\n",
       "      <th>1</th>\n",
       "      <td>8237</td>\n",
       "      <td>푸드</td>\n",
       "      <td>[와디즈 단독] 지친 일상에 건강충전! 강력한 캐나다산 베리 습관</td>\n",
       "      <td>\\n    바쁜 현대인들의 건강을 충전해 줄 과일들만 쏙 모았어요! \\n캐나다산 건...</td>\n",
       "      <td>55</td>\n",
       "      <td>1,513,100</td>\n",
       "      <td>302</td>\n",
       "      <td>https://www.wadiz.kr/web/campaign/detail/111527</td>\n",
       "    </tr>\n",
       "    <tr>\n",
       "      <th>2</th>\n",
       "      <td>8238</td>\n",
       "      <td>푸드</td>\n",
       "      <td>[3차 앵콜] 갓 생산해 보내드리는 신선한 오징어! 올 여름 주전부리!</td>\n",
       "      <td>\\n    [앵콜 3차] 갓 생산해 보내드리는 신선한 국산 오징어!! 만능 촉촉오징...</td>\n",
       "      <td>4</td>\n",
       "      <td>308,000</td>\n",
       "      <td>30</td>\n",
       "      <td>https://www.wadiz.kr/web/campaign/detail/119839</td>\n",
       "    </tr>\n",
       "    <tr>\n",
       "      <th>3</th>\n",
       "      <td>8239</td>\n",
       "      <td>푸드</td>\n",
       "      <td>[체리+자두] 체리?자두? 두과일이 합쳐진 7월 한정 신품종 나디아자두!</td>\n",
       "      <td>\\n    체리와 자두가 만난 신품종 나디아 자두를 소개합니다! 7월 한달 만날 수...</td>\n",
       "      <td>505</td>\n",
       "      <td>19,284,000</td>\n",
       "      <td>3856</td>\n",
       "      <td>https://www.wadiz.kr/web/campaign/detail/117627</td>\n",
       "    </tr>\n",
       "    <tr>\n",
       "      <th>4</th>\n",
       "      <td>8240</td>\n",
       "      <td>푸드</td>\n",
       "      <td>떡볶이에 명란이?!? 사장님 떡볶이에 무슨 짓을 한거에요?</td>\n",
       "      <td>\\n    \"떡볶이에 대체 무슨 짓을 한 거냐구요?\"\\n매콤한 떡볶이와 명란이 만나...</td>\n",
       "      <td>132</td>\n",
       "      <td>4,409,500</td>\n",
       "      <td>146</td>\n",
       "      <td>https://www.wadiz.kr/web/campaign/detail/115809</td>\n",
       "    </tr>\n",
       "    <tr>\n",
       "      <th>...</th>\n",
       "      <td>...</td>\n",
       "      <td>...</td>\n",
       "      <td>...</td>\n",
       "      <td>...</td>\n",
       "      <td>...</td>\n",
       "      <td>...</td>\n",
       "      <td>...</td>\n",
       "      <td>...</td>\n",
       "    </tr>\n",
       "    <tr>\n",
       "      <th>3067</th>\n",
       "      <td>11303</td>\n",
       "      <td>푸드</td>\n",
       "      <td>[앵콜펀딩] 사람은 효소와 공생합니다.</td>\n",
       "      <td>\\n    효소는 생명체가 아닌 물질이며, 사람은 효소와 공생합니다. #꽃송이버섯 ...</td>\n",
       "      <td>20</td>\n",
       "      <td>1,339,400</td>\n",
       "      <td>167</td>\n",
       "      <td>https://www.wadiz.kr/web/campaign/detail/38696</td>\n",
       "    </tr>\n",
       "    <tr>\n",
       "      <th>3068</th>\n",
       "      <td>11304</td>\n",
       "      <td>푸드</td>\n",
       "      <td>한국을 대표하는 명품 독도 꽃새우</td>\n",
       "      <td>\\n    대한민국을 대표하는 명품 독도꽃새우입니다. \\n꽃보다 더 화려해서 더 맛...</td>\n",
       "      <td>100</td>\n",
       "      <td>8,353,000</td>\n",
       "      <td>167</td>\n",
       "      <td>https://www.wadiz.kr/web/campaign/detail/63746</td>\n",
       "    </tr>\n",
       "    <tr>\n",
       "      <th>3069</th>\n",
       "      <td>11305</td>\n",
       "      <td>푸드</td>\n",
       "      <td>[인생디저트] 최초공개!! 떡후의방앗간 인절미 3종</td>\n",
       "      <td>\\n    떡도 완벽한 디저트가 될 수있다.\\r\\n\\r\\n전통식품인 떡을 현대인의 ...</td>\n",
       "      <td>66</td>\n",
       "      <td>1,675,600</td>\n",
       "      <td>167</td>\n",
       "      <td>https://www.wadiz.kr/web/campaign/detail/34611</td>\n",
       "    </tr>\n",
       "    <tr>\n",
       "      <th>3070</th>\n",
       "      <td>11306</td>\n",
       "      <td>푸드</td>\n",
       "      <td>[하루200원대] 오메가+비타민12종=단 1캡슐로 종결낸 영양소 신세계!</td>\n",
       "      <td>\\n    오메가 + 12종의 비타민&amp;미네랄 = 비현실적인 영양 성분 그러나 합리적...</td>\n",
       "      <td>215</td>\n",
       "      <td>11,738,500</td>\n",
       "      <td>167</td>\n",
       "      <td>https://www.wadiz.kr/web/campaign/detail/107019</td>\n",
       "    </tr>\n",
       "    <tr>\n",
       "      <th>3071</th>\n",
       "      <td>11307</td>\n",
       "      <td>푸드</td>\n",
       "      <td>민초단의 필수품! 내 일상의 민트초코포션!</td>\n",
       "      <td>\\n    달콤함을 가져다 주는 나만의 포션, 민트초코포션 #힐링포션 #부스트포션 ...</td>\n",
       "      <td>68</td>\n",
       "      <td>1,678,900</td>\n",
       "      <td>167</td>\n",
       "      <td>https://www.wadiz.kr/web/campaign/detail/110971</td>\n",
       "    </tr>\n",
       "  </tbody>\n",
       "</table>\n",
       "<p>3072 rows × 8 columns</p>\n",
       "</div>"
      ],
      "text/plain": [
       "        idx category                                     title  \\\n",
       "0      8236       푸드        [이게 마늘 꽃이라구요?] 입안 가득 풍미 팡! 마늘종 페스토   \n",
       "1      8237       푸드    [와디즈 단독] 지친 일상에 건강충전! 강력한 캐나다산 베리 습관     \n",
       "2      8238       푸드   [3차 앵콜] 갓 생산해 보내드리는 신선한 오징어! 올 여름 주전부리!   \n",
       "3      8239       푸드  [체리+자두] 체리?자두? 두과일이 합쳐진 7월 한정 신품종 나디아자두!   \n",
       "4      8240       푸드         떡볶이에 명란이?!? 사장님 떡볶이에 무슨 짓을 한거에요?    \n",
       "...     ...      ...                                       ...   \n",
       "3067  11303       푸드                     [앵콜펀딩] 사람은 효소와 공생합니다.   \n",
       "3068  11304       푸드                        한국을 대표하는 명품 독도 꽃새우   \n",
       "3069  11305       푸드              [인생디저트] 최초공개!! 떡후의방앗간 인절미 3종   \n",
       "3070  11306       푸드  [하루200원대] 오메가+비타민12종=단 1캡슐로 종결낸 영양소 신세계!   \n",
       "3071  11307       푸드                   민초단의 필수품! 내 일상의 민트초코포션!   \n",
       "\n",
       "                                                content supporter      amount  \\\n",
       "0     \\n    우리집 빵도둑!!! 깊고 진한 풍미의 향연을 느낄 수 있는 '마늘종페스토...       114   5,627,710   \n",
       "1     \\n    바쁜 현대인들의 건강을 충전해 줄 과일들만 쏙 모았어요! \\n캐나다산 건...        55   1,513,100   \n",
       "2     \\n    [앵콜 3차] 갓 생산해 보내드리는 신선한 국산 오징어!! 만능 촉촉오징...         4     308,000   \n",
       "3     \\n    체리와 자두가 만난 신품종 나디아 자두를 소개합니다! 7월 한달 만날 수...       505  19,284,000   \n",
       "4     \\n    \"떡볶이에 대체 무슨 짓을 한 거냐구요?\"\\n매콤한 떡볶이와 명란이 만나...       132   4,409,500   \n",
       "...                                                 ...       ...         ...   \n",
       "3067  \\n    효소는 생명체가 아닌 물질이며, 사람은 효소와 공생합니다. #꽃송이버섯 ...        20   1,339,400   \n",
       "3068  \\n    대한민국을 대표하는 명품 독도꽃새우입니다. \\n꽃보다 더 화려해서 더 맛...       100   8,353,000   \n",
       "3069  \\n    떡도 완벽한 디저트가 될 수있다.\\r\\n\\r\\n전통식품인 떡을 현대인의 ...        66   1,675,600   \n",
       "3070  \\n    오메가 + 12종의 비타민&미네랄 = 비현실적인 영양 성분 그러나 합리적...       215  11,738,500   \n",
       "3071  \\n    달콤함을 가져다 주는 나만의 포션, 민트초코포션 #힐링포션 #부스트포션 ...        68   1,678,900   \n",
       "\n",
       "     percent                                              key  \n",
       "0       1125  https://www.wadiz.kr/web/campaign/detail/113318  \n",
       "1        302  https://www.wadiz.kr/web/campaign/detail/111527  \n",
       "2         30  https://www.wadiz.kr/web/campaign/detail/119839  \n",
       "3       3856  https://www.wadiz.kr/web/campaign/detail/117627  \n",
       "4        146  https://www.wadiz.kr/web/campaign/detail/115809  \n",
       "...      ...                                              ...  \n",
       "3067     167   https://www.wadiz.kr/web/campaign/detail/38696  \n",
       "3068     167   https://www.wadiz.kr/web/campaign/detail/63746  \n",
       "3069     167   https://www.wadiz.kr/web/campaign/detail/34611  \n",
       "3070     167  https://www.wadiz.kr/web/campaign/detail/107019  \n",
       "3071     167  https://www.wadiz.kr/web/campaign/detail/110971  \n",
       "\n",
       "[3072 rows x 8 columns]"
      ]
     },
     "execution_count": 5,
     "metadata": {},
     "output_type": "execute_result"
    }
   ],
   "source": [
    "names = ['idx', 'category', 'title', 'content', 'supporter', 'amount', 'percent','key']\n",
    "df.columns = names\n",
    "df"
   ]
  },
  {
   "cell_type": "code",
   "execution_count": 6,
   "metadata": {},
   "outputs": [
    {
     "data": {
      "text/plain": [
       "3072"
      ]
     },
     "execution_count": 6,
     "metadata": {},
     "output_type": "execute_result"
    }
   ],
   "source": [
    "len(data)\n"
   ]
  },
  {
   "cell_type": "code",
   "execution_count": 7,
   "metadata": {},
   "outputs": [
    {
     "name": "stderr",
     "output_type": "stream",
     "text": [
      "C:\\Users\\pc\\AppData\\Roaming\\Python\\Python38\\site-packages\\pandas\\core\\indexing.py:1636: SettingWithCopyWarning: \n",
      "A value is trying to be set on a copy of a slice from a DataFrame\n",
      "\n",
      "See the caveats in the documentation: https://pandas.pydata.org/pandas-docs/stable/user_guide/indexing.html#returning-a-view-versus-a-copy\n",
      "  self._setitem_single_block(indexer, value, name)\n"
     ]
    }
   ],
   "source": [
    "encore = \"앵콜\"\n",
    "df['label'] = 0\n",
    "\n",
    "for i, title in enumerate(df['title']):\n",
    "#     print(title)\n",
    "#     print(i)\n",
    "    if title.find(encore) > 0:\n",
    "        df['label'].iloc[i] = 1\n"
   ]
  },
  {
   "cell_type": "code",
   "execution_count": 8,
   "metadata": {},
   "outputs": [
    {
     "data": {
      "text/html": [
       "<div>\n",
       "<style scoped>\n",
       "    .dataframe tbody tr th:only-of-type {\n",
       "        vertical-align: middle;\n",
       "    }\n",
       "\n",
       "    .dataframe tbody tr th {\n",
       "        vertical-align: top;\n",
       "    }\n",
       "\n",
       "    .dataframe thead th {\n",
       "        text-align: right;\n",
       "    }\n",
       "</style>\n",
       "<table border=\"1\" class=\"dataframe\">\n",
       "  <thead>\n",
       "    <tr style=\"text-align: right;\">\n",
       "      <th></th>\n",
       "      <th>idx</th>\n",
       "      <th>category</th>\n",
       "      <th>title</th>\n",
       "      <th>content</th>\n",
       "      <th>supporter</th>\n",
       "      <th>amount</th>\n",
       "      <th>percent</th>\n",
       "      <th>key</th>\n",
       "      <th>label</th>\n",
       "    </tr>\n",
       "  </thead>\n",
       "  <tbody>\n",
       "    <tr>\n",
       "      <th>0</th>\n",
       "      <td>8236</td>\n",
       "      <td>푸드</td>\n",
       "      <td>[이게 마늘 꽃이라구요?] 입안 가득 풍미 팡! 마늘종 페스토</td>\n",
       "      <td>\\n    우리집 빵도둑!!! 깊고 진한 풍미의 향연을 느낄 수 있는 '마늘종페스토...</td>\n",
       "      <td>114</td>\n",
       "      <td>5,627,710</td>\n",
       "      <td>1125</td>\n",
       "      <td>https://www.wadiz.kr/web/campaign/detail/113318</td>\n",
       "      <td>0</td>\n",
       "    </tr>\n",
       "    <tr>\n",
       "      <th>1</th>\n",
       "      <td>8237</td>\n",
       "      <td>푸드</td>\n",
       "      <td>[와디즈 단독] 지친 일상에 건강충전! 강력한 캐나다산 베리 습관</td>\n",
       "      <td>\\n    바쁜 현대인들의 건강을 충전해 줄 과일들만 쏙 모았어요! \\n캐나다산 건...</td>\n",
       "      <td>55</td>\n",
       "      <td>1,513,100</td>\n",
       "      <td>302</td>\n",
       "      <td>https://www.wadiz.kr/web/campaign/detail/111527</td>\n",
       "      <td>0</td>\n",
       "    </tr>\n",
       "    <tr>\n",
       "      <th>2</th>\n",
       "      <td>8238</td>\n",
       "      <td>푸드</td>\n",
       "      <td>[3차 앵콜] 갓 생산해 보내드리는 신선한 오징어! 올 여름 주전부리!</td>\n",
       "      <td>\\n    [앵콜 3차] 갓 생산해 보내드리는 신선한 국산 오징어!! 만능 촉촉오징...</td>\n",
       "      <td>4</td>\n",
       "      <td>308,000</td>\n",
       "      <td>30</td>\n",
       "      <td>https://www.wadiz.kr/web/campaign/detail/119839</td>\n",
       "      <td>1</td>\n",
       "    </tr>\n",
       "    <tr>\n",
       "      <th>3</th>\n",
       "      <td>8239</td>\n",
       "      <td>푸드</td>\n",
       "      <td>[체리+자두] 체리?자두? 두과일이 합쳐진 7월 한정 신품종 나디아자두!</td>\n",
       "      <td>\\n    체리와 자두가 만난 신품종 나디아 자두를 소개합니다! 7월 한달 만날 수...</td>\n",
       "      <td>505</td>\n",
       "      <td>19,284,000</td>\n",
       "      <td>3856</td>\n",
       "      <td>https://www.wadiz.kr/web/campaign/detail/117627</td>\n",
       "      <td>0</td>\n",
       "    </tr>\n",
       "    <tr>\n",
       "      <th>4</th>\n",
       "      <td>8240</td>\n",
       "      <td>푸드</td>\n",
       "      <td>떡볶이에 명란이?!? 사장님 떡볶이에 무슨 짓을 한거에요?</td>\n",
       "      <td>\\n    \"떡볶이에 대체 무슨 짓을 한 거냐구요?\"\\n매콤한 떡볶이와 명란이 만나...</td>\n",
       "      <td>132</td>\n",
       "      <td>4,409,500</td>\n",
       "      <td>146</td>\n",
       "      <td>https://www.wadiz.kr/web/campaign/detail/115809</td>\n",
       "      <td>0</td>\n",
       "    </tr>\n",
       "    <tr>\n",
       "      <th>...</th>\n",
       "      <td>...</td>\n",
       "      <td>...</td>\n",
       "      <td>...</td>\n",
       "      <td>...</td>\n",
       "      <td>...</td>\n",
       "      <td>...</td>\n",
       "      <td>...</td>\n",
       "      <td>...</td>\n",
       "      <td>...</td>\n",
       "    </tr>\n",
       "    <tr>\n",
       "      <th>3067</th>\n",
       "      <td>11303</td>\n",
       "      <td>푸드</td>\n",
       "      <td>[앵콜펀딩] 사람은 효소와 공생합니다.</td>\n",
       "      <td>\\n    효소는 생명체가 아닌 물질이며, 사람은 효소와 공생합니다. #꽃송이버섯 ...</td>\n",
       "      <td>20</td>\n",
       "      <td>1,339,400</td>\n",
       "      <td>167</td>\n",
       "      <td>https://www.wadiz.kr/web/campaign/detail/38696</td>\n",
       "      <td>1</td>\n",
       "    </tr>\n",
       "    <tr>\n",
       "      <th>3068</th>\n",
       "      <td>11304</td>\n",
       "      <td>푸드</td>\n",
       "      <td>한국을 대표하는 명품 독도 꽃새우</td>\n",
       "      <td>\\n    대한민국을 대표하는 명품 독도꽃새우입니다. \\n꽃보다 더 화려해서 더 맛...</td>\n",
       "      <td>100</td>\n",
       "      <td>8,353,000</td>\n",
       "      <td>167</td>\n",
       "      <td>https://www.wadiz.kr/web/campaign/detail/63746</td>\n",
       "      <td>0</td>\n",
       "    </tr>\n",
       "    <tr>\n",
       "      <th>3069</th>\n",
       "      <td>11305</td>\n",
       "      <td>푸드</td>\n",
       "      <td>[인생디저트] 최초공개!! 떡후의방앗간 인절미 3종</td>\n",
       "      <td>\\n    떡도 완벽한 디저트가 될 수있다.\\r\\n\\r\\n전통식품인 떡을 현대인의 ...</td>\n",
       "      <td>66</td>\n",
       "      <td>1,675,600</td>\n",
       "      <td>167</td>\n",
       "      <td>https://www.wadiz.kr/web/campaign/detail/34611</td>\n",
       "      <td>0</td>\n",
       "    </tr>\n",
       "    <tr>\n",
       "      <th>3070</th>\n",
       "      <td>11306</td>\n",
       "      <td>푸드</td>\n",
       "      <td>[하루200원대] 오메가+비타민12종=단 1캡슐로 종결낸 영양소 신세계!</td>\n",
       "      <td>\\n    오메가 + 12종의 비타민&amp;미네랄 = 비현실적인 영양 성분 그러나 합리적...</td>\n",
       "      <td>215</td>\n",
       "      <td>11,738,500</td>\n",
       "      <td>167</td>\n",
       "      <td>https://www.wadiz.kr/web/campaign/detail/107019</td>\n",
       "      <td>0</td>\n",
       "    </tr>\n",
       "    <tr>\n",
       "      <th>3071</th>\n",
       "      <td>11307</td>\n",
       "      <td>푸드</td>\n",
       "      <td>민초단의 필수품! 내 일상의 민트초코포션!</td>\n",
       "      <td>\\n    달콤함을 가져다 주는 나만의 포션, 민트초코포션 #힐링포션 #부스트포션 ...</td>\n",
       "      <td>68</td>\n",
       "      <td>1,678,900</td>\n",
       "      <td>167</td>\n",
       "      <td>https://www.wadiz.kr/web/campaign/detail/110971</td>\n",
       "      <td>0</td>\n",
       "    </tr>\n",
       "  </tbody>\n",
       "</table>\n",
       "<p>3072 rows × 9 columns</p>\n",
       "</div>"
      ],
      "text/plain": [
       "        idx category                                     title  \\\n",
       "0      8236       푸드        [이게 마늘 꽃이라구요?] 입안 가득 풍미 팡! 마늘종 페스토   \n",
       "1      8237       푸드    [와디즈 단독] 지친 일상에 건강충전! 강력한 캐나다산 베리 습관     \n",
       "2      8238       푸드   [3차 앵콜] 갓 생산해 보내드리는 신선한 오징어! 올 여름 주전부리!   \n",
       "3      8239       푸드  [체리+자두] 체리?자두? 두과일이 합쳐진 7월 한정 신품종 나디아자두!   \n",
       "4      8240       푸드         떡볶이에 명란이?!? 사장님 떡볶이에 무슨 짓을 한거에요?    \n",
       "...     ...      ...                                       ...   \n",
       "3067  11303       푸드                     [앵콜펀딩] 사람은 효소와 공생합니다.   \n",
       "3068  11304       푸드                        한국을 대표하는 명품 독도 꽃새우   \n",
       "3069  11305       푸드              [인생디저트] 최초공개!! 떡후의방앗간 인절미 3종   \n",
       "3070  11306       푸드  [하루200원대] 오메가+비타민12종=단 1캡슐로 종결낸 영양소 신세계!   \n",
       "3071  11307       푸드                   민초단의 필수품! 내 일상의 민트초코포션!   \n",
       "\n",
       "                                                content supporter      amount  \\\n",
       "0     \\n    우리집 빵도둑!!! 깊고 진한 풍미의 향연을 느낄 수 있는 '마늘종페스토...       114   5,627,710   \n",
       "1     \\n    바쁜 현대인들의 건강을 충전해 줄 과일들만 쏙 모았어요! \\n캐나다산 건...        55   1,513,100   \n",
       "2     \\n    [앵콜 3차] 갓 생산해 보내드리는 신선한 국산 오징어!! 만능 촉촉오징...         4     308,000   \n",
       "3     \\n    체리와 자두가 만난 신품종 나디아 자두를 소개합니다! 7월 한달 만날 수...       505  19,284,000   \n",
       "4     \\n    \"떡볶이에 대체 무슨 짓을 한 거냐구요?\"\\n매콤한 떡볶이와 명란이 만나...       132   4,409,500   \n",
       "...                                                 ...       ...         ...   \n",
       "3067  \\n    효소는 생명체가 아닌 물질이며, 사람은 효소와 공생합니다. #꽃송이버섯 ...        20   1,339,400   \n",
       "3068  \\n    대한민국을 대표하는 명품 독도꽃새우입니다. \\n꽃보다 더 화려해서 더 맛...       100   8,353,000   \n",
       "3069  \\n    떡도 완벽한 디저트가 될 수있다.\\r\\n\\r\\n전통식품인 떡을 현대인의 ...        66   1,675,600   \n",
       "3070  \\n    오메가 + 12종의 비타민&미네랄 = 비현실적인 영양 성분 그러나 합리적...       215  11,738,500   \n",
       "3071  \\n    달콤함을 가져다 주는 나만의 포션, 민트초코포션 #힐링포션 #부스트포션 ...        68   1,678,900   \n",
       "\n",
       "     percent                                              key  label  \n",
       "0       1125  https://www.wadiz.kr/web/campaign/detail/113318      0  \n",
       "1        302  https://www.wadiz.kr/web/campaign/detail/111527      0  \n",
       "2         30  https://www.wadiz.kr/web/campaign/detail/119839      1  \n",
       "3       3856  https://www.wadiz.kr/web/campaign/detail/117627      0  \n",
       "4        146  https://www.wadiz.kr/web/campaign/detail/115809      0  \n",
       "...      ...                                              ...    ...  \n",
       "3067     167   https://www.wadiz.kr/web/campaign/detail/38696      1  \n",
       "3068     167   https://www.wadiz.kr/web/campaign/detail/63746      0  \n",
       "3069     167   https://www.wadiz.kr/web/campaign/detail/34611      0  \n",
       "3070     167  https://www.wadiz.kr/web/campaign/detail/107019      0  \n",
       "3071     167  https://www.wadiz.kr/web/campaign/detail/110971      0  \n",
       "\n",
       "[3072 rows x 9 columns]"
      ]
     },
     "execution_count": 8,
     "metadata": {},
     "output_type": "execute_result"
    }
   ],
   "source": [
    "df"
   ]
  },
  {
   "cell_type": "code",
   "execution_count": 9,
   "metadata": {},
   "outputs": [],
   "source": [
    "df['text'] = df['title'] + df['content']"
   ]
  },
  {
   "cell_type": "code",
   "execution_count": 10,
   "metadata": {},
   "outputs": [
    {
     "data": {
      "text/plain": [
       "\"[이게 마늘 꽃이라구요?] 입안 가득 풍미 팡! 마늘종 페스토\\n    우리집 빵도둑!!! 깊고 진한 풍미의 향연을 느낄 수 있는 '마늘종페스토'\\n그리고 '썬드라이토마토'입니다.\\n로컬 농산물로 만들어가는 참신하고 매력적인 푸드를 지금 경험해보세요.\\n    \\n      지난 2월 용산 아이파크몰, 자투리마켓에서 깜짝 신제품을 첫 공개했습니다.정식 출시하기 전에 오프라인 마켓에서 집적 만나 뵙고 시식 평을 통해 더 좋은 제품으로 보완하고 싶었거든요!    한분 한분 시식평을 여쭈었고 정말 귀하고 값진 피드백들을 얻을 수 있었어요.첫 도전이었지만 뜨거운 반응 덕분에 마늘종 페스토는 전일 품절되었고 이후에도 구매 문의가 쇄도했어요.    많은 분들의 성원 덕분에 와디즈에 도전하기로 결심했고,소중한 피드백을 제품에 적!극! 반영하여 업그레이드하였습니다.온라인에서 정식으로 공개되는 마늘종페스토 & 썬드라이토마토를 와디즈에서 제일 처음 만나보세요.  마늘종으로 만든 페스토라구요?  네.. 푸드계의 신박기획..저희 쿠클리가 또 일냈습니다.이번 캐스팅은 마늘 농가에서도 가치를 외면받던 마늘종이에요. 마늘종은 마늘에 비하여 가치를 인정받지 못하는 농산물이지만사실은 우리가 먹는 마늘만큼 영양가도 풍부하고 엽산, 비타민 K 까지\\xa0갖추고 있답니다.  저희는 '넥스트로컬'에 참여하여 의성 지역조사 중, 의성이 마늘 최대 생산지임에도 불구하고마늘 수확 전 대부분의 마늘종이 버려진다는 사실을 알게 되었습니다.     저번 펀딩에서 국내산 등급외 양파를 이용한 '양파 카라멜라이징'으로 만나 뵈었던 것 기억하시나요?\\x08\\x08이번에도 농산물의 새로운 가치를 전파하기 위하여 저희가 나섰습니다.    만족도 5.0 의 자부심으로 다시 돌아온 두 번째 프로젝트는\\xa0마늘종을 이용한\\xa0'마늘종페스토'에요! 국내 농산물의 새로운 가치를 또 한 번 맛있게 소개해드릴께요. (쿠~야호!!!)   재택근무가 많아지고 주말에도 집에서 보내는 날이 많아진 요즘 시국!나를 위한 근사한 홈브런치 어떠세요?       빵이면 빵! 밥이면 밥! 면이면 면!한 스푼에 풍미 팡~! 마늘종페스토와 썬드라이토마토를 조합하여 정말 다양한 브런치 메뉴에 활용해 볼 수 있답니다!    시판 잼이나 소스의 식상함에서 벗어날 수 있는 손쉬운 요리들 추천해드릴께요!      열처리 없는 생 페스토는 유통기한은 짧아지지만 원재료 본연의 맛과 신선함이 살아있어 차원이 다른 맛을 냅니다.쿠클리는 생 페스토만을 고집하여 갈변 현상이 적고 초록 빛깔이 살아있는 신선한 페스토를 만듭니다.   또 생페스토이기 때문에 은은한 마늘종과 바질 향이 살아있고 상큼함 또한 느낄 수 있어요. 노력이 더 들더라도 자체생산,\\xa0소량 생산을 통해 집에서 갓 만든 것 같은 페스토를 만들고자 합니다.  페스토러버 서포터분들!!와디즈에 등장했을 때 얼른 겟해야 가장 프레시하고 맛있답니다.   마늘종페스토와 썬드라이토마토의 디테일한 원재료들을 소개할께요.합성 첨가물 및 착향료 등은 일체 없구요,재료 하나하나 따져 집적 수급한 건강한 농산물 및 재료들만 담겨 있습니다.  쿠클리 마늘종페스토는 마늘종에 바질과 레몬을 더하여 더욱 풍부한 맛을 냅니다.로스팅 된 캐슈넛의 고소함도 은은하게 느낄 수 있구요.소금은 최소화하고 그라나파다노, 파마산 두 가지 치즈를 사용하여 짭짤함을 잡아주었기 때문에그냥 먹기에도 좋고 다른 재료와 섞여도 간을 조절하기 쉽답니다!   쿠클리 썬드라이 토마토는 유기농\\xa0대추 방울토마토를 정성껏 건조하여 사용해요.토마토를 오랜시간 알맞은 온도로 건조하면 본연의 새콤달콤 + 짭조름한 맛이 극대화되고 수분이 날아가며 식감도 쫀득하게\\xa0변해요! 생토마토보다 영양가도 높아지는건 덤!또 엑스트라 버진 올리브유에 마늘과 바질, 오레가노 등의 허브와 함께 절여 향긋한 감칠맛을 느낄 수 있어요. 쿠클리는 서울시 청년과 로컬이 상생하는 프로젝트 <넥스트로컬>에 선정되어 국내의 농가와 협업하여 집적 주재료를 수급하고 있어요.국내산 농산물로 만드는 이탈리안 페스토라니 매력적이지 않나요? ‘쿠클리’의 제품은 공유주방 '위쿡'에서 철저한 위생관리하에 자체 생산합니다.이번 페스토는 신선함에 사활을 걸었기 때문에 와디즈 펀딩을 통해 적정 생산하고 신속하게 유통할 계획입니다.   마늘종을 현대인들의 입맛을 사로잡을 수 있는 식품으로 만드는 것은 쉽지만은 않았습니다.1여년 동안 고민하고 연구하며 여러 사람들에게 많은 도움을 구했습니다.다양한 제품개발 시도와 소비자 테스트 끝에 이탈리안 바질 페스토에서 착안한 마늘종페스토가 탄생하였습니다. 작년 말에 와디즈에서\\xa0‘양파 카라멜라이징’ 프로젝트를 진행하여 성공적인 첫 프로젝트를 선보인 이후마늘종 페스토로 다시 돌아왔답니다. (지금은 오늘의식탁에서 쿠클리로 팀명이 바뀌었어요 :)    ‘어쩌다 사장'이 되었지만 많은 분들의 응원과 호응 덕에 지금은 누구보다도 진지한 부부 창업단이 되었습니다.\\xa0 저번 펀딩에서도 지역 농가의 양파를 이용하여 ‘간편하고 맛있는 양파 카라멜라이징'이라는 새로운 경험을 선사해드렸던 것처럼 이번에도 지역 농가의 마늘종과 토마토를 이용하여 새로운 경험을 전해드리고자 합니다.\\xa0   특히 이번엔 외면받는 마늘종을 이용한 새로운 시도였기 때문에 농가에서의 수확에도 참여하면서 농부 분들과 함께 땀 흘리며 진심을 더하였습니다.\\xa0 저희가 만들어가는 먹거리들이 서포터님들 일상의 소소한 행복에 보탬이 되길 바랍니다. 쿠클리 마늘종페스토는 다른 데에 서는 쉽게 볼 수 없는 도전적인 제품이랍니다.와디즈 서포터 분들은 새로움을 받아들이시는 데에 열려 계시고 트랜드를 선도하는 먹리어답터 분들이 많으시기에 와디즈 펀딩을 통하여 제품 첫선을 보이게 되었답니다!   펀딩이 성공하게 된다면 계획은 다음과 같습니다! - 색다르고 맛있는 경험을 제공해줄 식품 패키지 생산 - 신선하게 제품을 전달할 배송 관련 비용 문의 채널 : 카카오톡 플러스친구/공식 인스타그램 DM으로 문의주세요.카카오톡 플러스친구 바로가기공식 인스타그램 바로가기  \""
      ]
     },
     "execution_count": 10,
     "metadata": {},
     "output_type": "execute_result"
    }
   ],
   "source": [
    "df['text'][0]"
   ]
  },
  {
   "cell_type": "code",
   "execution_count": 11,
   "metadata": {},
   "outputs": [
    {
     "data": {
      "text/plain": [
       "<AxesSubplot:>"
      ]
     },
     "execution_count": 11,
     "metadata": {},
     "output_type": "execute_result"
    },
    {
     "data": {
      "image/png": "[encoded data removed]",
      "text/plain": [
       "<Figure size 432x288 with 1 Axes>"
      ]
     },
     "metadata": {
      "needs_background": "light"
     },
     "output_type": "display_data"
    }
   ],
   "source": [
    "df['label'].value_counts().plot(kind = 'bar')"
   ]
  },
  {
   "cell_type": "code",
   "execution_count": 12,
   "metadata": {},
   "outputs": [
    {
     "name": "stdout",
     "output_type": "stream",
     "text": [
      "False\n"
     ]
    }
   ],
   "source": [
    "print(df.isnull().values.any())"
   ]
  },
  {
   "cell_type": "code",
   "execution_count": 13,
   "metadata": {},
   "outputs": [
    {
     "name": "stdout",
     "output_type": "stream",
     "text": [
      "Requirement already satisfied: nltk in c:\\users\\pc\\anaconda3\\lib\\site-packages (3.5)\n",
      "Requirement already satisfied: regex in c:\\users\\pc\\anaconda3\\lib\\site-packages (from nltk) (2020.10.15)\n",
      "Requirement already satisfied: joblib in c:\\users\\pc\\anaconda3\\lib\\site-packages (from nltk) (0.17.0)\n",
      "Requirement already satisfied: click in c:\\users\\pc\\anaconda3\\lib\\site-packages (from nltk) (7.1.2)\n",
      "Requirement already satisfied: tqdm in c:\\users\\pc\\anaconda3\\lib\\site-packages (from nltk) (4.50.2)\n"
     ]
    }
   ],
   "source": [
    "!pip install nltk"
   ]
  },
  {
   "cell_type": "code",
   "execution_count": 14,
   "metadata": {},
   "outputs": [
    {
     "name": "stderr",
     "output_type": "stream",
     "text": [
      "[nltk_data] Downloading package punkt to\n",
      "[nltk_data]     C:\\Users\\pc\\AppData\\Roaming\\nltk_data...\n",
      "[nltk_data]   Package punkt is already up-to-date!\n"
     ]
    },
    {
     "data": {
      "text/plain": [
       "True"
      ]
     },
     "execution_count": 14,
     "metadata": {},
     "output_type": "execute_result"
    }
   ],
   "source": [
    "from konlpy.tag import Kkma\n",
    "kkma=Kkma()\n",
    "# 정수 인코딩\n",
    "import nltk\n",
    "from nltk import FreqDist\n",
    "from nltk.tokenize import word_tokenize,WhitespaceTokenizer,WordPunctTokenizer\n",
    "nltk.download('punkt')"
   ]
  },
  {
   "cell_type": "code",
   "execution_count": 15,
   "metadata": {},
   "outputs": [],
   "source": [
    "\n",
    "def makeWmap(txt,mc_num=100):\n",
    "    # 전처리\n",
    "    txt=txt.lower()\n",
    "    #stopword\n",
    "    \n",
    "    #filtering\n",
    "    \n",
    "    # 한글 형태소 분석\n",
    "    kps=kkma.pos(txt)\n",
    "    kp=[k[0] for k in kps]\n",
    "    nltkkr=' '.join(kp) # 단어 join\n",
    "    nltkkr # 한국어의 구조 영어화\n",
    "    words=word_tokenize(nltkkr)\n",
    "    wfreq=FreqDist(words) # 단어:언급횟수\n",
    "    mostcom=wfreq.most_common(mc_num) # 가장많이 언급된 100개\n",
    "    return mostcom"
   ]
  },
  {
   "cell_type": "code",
   "execution_count": 16,
   "metadata": {},
   "outputs": [],
   "source": [
    "def tknWord(txt):\n",
    "    kkma=Kkma()\n",
    "    kpos=kkma.pos(txt)\n",
    "    cate=['NNG','MAG','VV','NNP','NNB','VA','VCP','VCN','MAC']\n",
    "    tkn=[]\n",
    "    #print(kpos)\n",
    "    for k in kpos:\n",
    "        if(k[1] in cate):\n",
    "            if(len(k[0])>1):\n",
    "                tkn.append(k[0])\n",
    "    return tkn"
   ]
  },
  {
   "cell_type": "code",
   "execution_count": 17,
   "metadata": {},
   "outputs": [],
   "source": [
    "res = df['text'].loc[:10]"
   ]
  },
  {
   "cell_type": "code",
   "execution_count": 18,
   "metadata": {},
   "outputs": [
    {
     "data": {
      "text/plain": [
       "0     [이게 마늘 꽃이라구요?] 입안 가득 풍미 팡! 마늘종 페스토\\n    우리집 빵도...\n",
       "1     [와디즈 단독] 지친 일상에 건강충전! 강력한 캐나다산 베리 습관  \\n    바쁜...\n",
       "2     [3차 앵콜] 갓 생산해 보내드리는 신선한 오징어! 올 여름 주전부리!\\n    [...\n",
       "3     [체리+자두] 체리?자두? 두과일이 합쳐진 7월 한정 신품종 나디아자두!\\n    ...\n",
       "4      떡볶이에 명란이?!? 사장님 떡볶이에 무슨 짓을 한거에요? \\n    \"떡볶이에 ...\n",
       "5     [술꾼, 알쓰 다모여~] 단 10초면 소주1잔이 하이볼이 되는 기적\\n    술꾼들...\n",
       "6     [2분 조리끝] 마라카레 최초출시ㅣ이제 휘카레만 찾게 될 거예요\\n    마라덕후,...\n",
       "7     [만족도4.8 앵콜] 올 여름, 내 몸을 가꿔 줄 2kcal 유럽대란템!\\n    ...\n",
       "8     [고단백#17g] 해동없이 1초만에 쓱! 바로 먹는 닭가슴살 비엔나\\n    언제 ...\n",
       "9     달달한 과즙 팡팡! 과일옥수수! 제주도 초당옥수수, 백초당옥수수!\\n    과일보다...\n",
       "10    [무료배송]밥도둑/술도둑으로 탄생한 낙지와 쭈꾸미ㅣ불맛나는 불쭈낙볶음\\n    따로...\n",
       "Name: text, dtype: object"
      ]
     },
     "execution_count": 18,
     "metadata": {},
     "output_type": "execute_result"
    }
   ],
   "source": [
    "res"
   ]
  },
  {
   "cell_type": "code",
   "execution_count": 19,
   "metadata": {},
   "outputs": [],
   "source": [
    "rn=np.ravel(res)\n",
    "totsen=[]\n",
    "for r in rn:\n",
    "    sen=' '.join(tknWord(r))\n",
    "    totsen.append(sen)\n",
    "totalw =' '.join(totsen)\n",
    "    "
   ]
  },
  {
   "cell_type": "code",
   "execution_count": 20,
   "metadata": {},
   "outputs": [
    {
     "data": {
      "text/plain": [
       "'무료 배송 밥도둑 도둑 탄생 낙지 볶음 따로 맛있 낙지 쭈꾸미 만나 탱탱 캠핑 어울리 맛있 밥도둑 도둑 볶음 와디 최초 공개 낙지 쭈꾸미 엄선 조리 쭈꾸미 낙지 줄어들 탱글탱글 감이 유지 원물 수분 빼주 원물 수분 많이 머금 그만큼 중량 조리 시모 쪼그라들 그리고 분말 특제 가루 쭈꾸미 낙지 합하 특제 분말 가루 양념 겉돌 원물 베이 양념 그리고 정온 냉장 시간 배합 숙성 시간 가지 그렇 배합 시간 숙성 원물 상형 특제 양념 소스 배합 들어가 그리고 한번 정온 냉장 시간 배합 숙성 시간 가지 수년 만들 노하우 자체 개발 특제 비법 양념 사용 만들 때문 좋아하 매운맛 보통 신라 매운맛 감기 맛있 정도 아니 매운맛 드시 보시 권장 선택 후회 야식 볶음 드시 보신 브랜드 제품 한번 드시 보시 권장 어떻 다르 원물 얼마나 분명 느끼 야식 호불호 갈리 테스트 가지 브랜드 절대 아니 노하우 만들 진짜 맛있 야식 특제 양념 원물 그리고 배합 공정 거치 남다르 제조 공법 좋아하 맛있 자랑 요식업 업체 가공 식품 공급 손님 내놓 대하 고민 무수히 많이 제조사 비교 선택 맛과 서비스 우선 요식 업체 사장님 손잡 매년 거래 그만큼 대하 검증 반증 시간 축적 노하우 바탕 검증 탄생 불호 정말 맛있 매운맛 자랑 우선 당연히 인증 제조사 식품 제조 공장 안되 인증 사항 작업자 위생 관리 위생 대하 엄격 기준 가장 중요 생각 번째 약속 모든 원물 단계 세척 과정 거치 아주 중요 단계 세척 과정 절대로 우선 원물 망가지 공기 방울 때리 워터젯 버블 시스템 세척 세척 원물 물줄기 샤워 샤워 마치 원물 또다시 워터젯 버블 세척 진행하 정도 사실 사람 보다 훨씬 위생적 세척 하지만 아직 끝나 세척 과정 충분히 세척 원물 마지막 샤워 먹거리 준비 이렇게 세척 과정 거치 원물 마지막 선별 작업 이루어지 선별 관리자 위생 복장 완벽 갖추 혹시 모르 이물질 걸르 선별 작업 모두 거치 비로소 식품 만들 준비 시작 먹거리 무조건 안전 만들 신념 정량 소분 위하 자체 개발 도입 시스템 직접 설계 기기 기기 사람 일일 작업 소분 실제로 대기업 제외 대부분 식품 제조 시설 여전히 사람 필요 공정 유지 중량 어떻 원물 양념 많이 실상 별로 제품 만들 사실 중량 미달 제품 무게 센서 감지 하여가 없이 걸르 사람 역시 사람 정확 핵심 정량 정확히 지키 제조 시설 따르 어렵 정량 분기 원물 함량 더욱 높이 만들 때문 선보이 야식 드시 원물 중량 무려 이상 가장 이상적 원물 양념 중량 중원 가득 그렇 만들 싱겁 양념 들어가 그래서 낙지 쭈꾸미 비율 이상 가득 채우 아니 정직 인분 만들 물론 결정 이렇게 내드리 이익 정말 하지만 이번 리워드 통하 이익 위하 아니 좀더 소개 드시 보시 목표 그리고 정말 맛있 한번 다시 바라 진심 다하 마음 준비 리워드 이익 최소 한의 운영비 도로 리워드 돌리 그대로 드림 리워드 말씀드리 지금껏 수년 전국 이즈 대기업 식품 제조 납품 해오 식품 제조 공장 생산 시설 규모 제조사 지금껏 요식 업체 요구 사항 충족 거래처 원하 가공 식품 만들 납품 바쁘 제조사 갑자기 아프 이야기 조심 꺼내 안타깝 현재 가지 바꾸 시국 인하 고통 사람 사라지 기업 늘어나 영업시간 인원 제한 요식 업체 주점 결국 주로 거래 요식 업체 힘들 제조사 역시 일거리 힘들 마찬가지 직접 우리 브랜드 만들 제일 잘하 식품 제조 간의 노하우 생산력 바탕 만들 세상 알리 야식 안주 기본 야식 그리하 힘들 지금 한잔 땡기 볶음 구이 검증 피로 제대 만들 사람 즐겁 야식 만들 배경 통하 처음 선보이 볶음 양심 열정 선보이'"
      ]
     },
     "execution_count": 20,
     "metadata": {},
     "output_type": "execute_result"
    }
   ],
   "source": [
    "sen"
   ]
  },
  {
   "cell_type": "code",
   "execution_count": 21,
   "metadata": {},
   "outputs": [
    {
     "data": {
      "text/plain": [
       "['마늘 가득 풍미 마늘종 우리집 도둑 진하 풍미 향연 느끼 마늘종 그리고 드라이 토마토 로컬 농산물 만들 매력적 푸드 지금 경험 지나 아이 파크 자투리 마켓 깜짝 제품 공개 정식 출시 오프 라인 마켓 집적 시식 통하 제품 보완 시식 여쭈 정말 귀하 값지 피드백 도전 뜨겁 반응 덕분 마늘종 전일 품절 이후 구매 문의 쇄도 성원 덕분 도전 결심 피드백 제품 반영 업그레이드 온라인 정식 공개 마늘 드라이 토마토 제일 처음 마늘종 만들 푸드 기획 이번 캐스팅 마늘 농가 가치 외면 마늘 마늘종 마늘 비하 가치 인정받 농산물 사실 마늘 영양가 엽산 비타민 갖추 넥스트 참여 의성 지역 조사 의성 마늘 최대 생산지 마늘 수확 대부분 마늘종 버리 사실 저번 국내산 등급 양파 이용 라이징 기억 이번 농산물 새롭 가치 전파 위하 나서 만족도 자부심 다시 돌아오 번째 프로젝트 마늘 이용 마늘종 국내 농산물 새롭 가치 맛있 소개 재택근무 주말 보내 요즘 시국 위하 떠세 이면 스푼 풍미 마늘종 드라이 토마토 조합 정말 다양 메뉴 활용 시판 소스 식상 벗어나 손쉽 요리 추천 열처리 유통 기한 짧아지 원재료 본연 차원 다르 고집 현상 초록 빛깔 신선 만들 토이기 때문 마늘 바지 또한 느끼 노력 자체 생산 생산 통하 만들 만들 러버 서포터 와디 등장 얼르 가장 맛있 마늘종 드라이 토마토 디테일 원재료 소개 합성 첨가물 착향료 일체 재료 하나하나 따지 집적 수급 건강 농산물 재료 담기 마늘종 마늘종 바지 레몬 더하 더욱 로스 고소 느끼 소금 최소화 그라나 마산 가지 치즈 사용 때문 그냥 재료 섞이 조절 드라이 토마토 유기농 대추 방울 토마토 정성껏 건조 사용하 토마토 시간 알맞 온도 건조 본연 극대화 수분 날아가 감도 변해 토마토 영양가 엑스트라 버진 올리브유 마늘 바지 허브 함께 절이 향긋 감칠맛 느끼 서울시 청년 로컬 상생 프로젝트 넥스트 로컬 선정 국내 농가 협업 집적 주재료 수급 국내산 농산물 만들 이탈 매력적 제품 공유 주방 철저 위생 관리 자체 생산 사활 때문 와디 통하 적정 생산 신속 유통 계획 마늘종 현대인 입맛 사로잡 식품 만들 동안 고민 연구 사람 도움 구하 다양 제품 개발 시도 소비자 테스트 이탈 바지 착안 마늘 탄생 작년 라이징 프로젝트 진행하 성공적 프로젝트 선보이 이후 마늘종 다시 돌아오 지금 오늘 식탁 명이 바뀌 어쩌다 사장 응원 호응 지금 부부 창업 지역 농가 양파 이용 간편 맛있 양파 라이징 경험 선사 이번 지역 농가 마늘종 토마토 이용 새롭 경험 전하 특히 이번 외면 마늘 이용 시도 때문 농가 수확 참여 농부 함께 흘리 진심 더하 만들 먹거리 서포터 일상 행복 보탬 바라 마늘종 다르 도전적 제품 와디 서포터 새로 받아들이 열리 선도 어답터 와디 통하 제품 첫선 보이 성공 계획 다음 색다르 맛있 경험 제공 식품 패키지 생산 제품 전달 배송 관련 비용 문의 채널 카카오 플러스 친구 공식 스타 문의 카카오 플러스 친구 바로 가기 공식 스타 그램 바로 가기',\n",
       " '와디 단독 지친 일상 건강 충전 강력 캐나다 베리 습관 바쁘 현대인 건강 충전 과일 모으 캐나다 건강 충전 베리 베리 와디 서포터 국내 단독 피곤 운동 중요 하지만 바쁘 바쁘 일상 간편 건강 충전 방법 과일 베리 블루 베리 체리 스트로 베리 라즈베리 베리 과일 영양 알리 하지만 과일 비하 가격대 매일 힘들 사실 베리 과일 부담 없이 간편 베리 베리 과일 이제 건강 충전 필요 베리 골고루 음식 풍미 더하 식품 공기 건강 햇빛 영양분 시작하 철학 청정 자연 국가 캐나다 골르 건강 지키 캐나다 세계 식품 안전 지수 독일 덴마크 프랑스 영국 그리고 일본 한국 월등히 순위 다양 베리 나라 까다롭 조건 고르 캐나다 원산지 이렇게 정성 만들 베리 베리 필요 순간 필요 순간 마음 참고 식품 안전 칼로리 리스트 공량 기준 바사삭 미치 진짜 과일 순간 스트레스 풀리 기분 사장님 과일 과일 어떻 이래 원물 그대로 건조 공법 가공 알록달록 과일 고르 즐거움 충족 당도 산미 바나나 블루 베리 달달 새콤 딸기 사과 어우러지 당도 산미 음미 달달 하면서 건강 채우 베리 믹스 도움 도가 새콤 도드라지 선명 블루 베리 달달 살짝 감돌 베리 체리 라즈베리 무게 새콤 쌉쌀 스며들 독특 단맛 새콤 쌉쌀 베리 느끼 건강 채우 베리 체리 선택 황금 비율 베리 체리 경우 캐나다 현지 농장 정성 재배 베리 체리 블루 베리 라즈베리 최첨단 동결 건조 공법 수분 이상 제거 그렇 순수 과육 남기 베리 체리 담기 현대인 건강 일상 위하 하루 과일 권장량 한국 영양 학회 과일 과일 채소 하루 권장량 하루 과일 지금 그렇 챙기 자신 현대인 매일 과일 챙기 불가능 가깝 왜냐하면 귀찮 불편 가버리 간편 건강 충전 떠세 고프 과일 소화 부담 흡수 때문 그래서 식사 시간 식사 마치 시간 후인 오전 오후 추천 캐나다 가장 동결 건조 제조 시설 이상 식품 동결 건조 공법 전문가 구성 직접 원재료 수급 생산 포장 승인 인증 프로그램 식품 원료 제조 가공 유통 과정 어떠하 위해 요소 식품 침투 오염 사전 예방 위하 시스템 기반 캐나다 음료 제조 업체 대표 비영리 산업 협회 베리 베리 생산 제조 시설 멤버 소속 사람 건강 지구 건강 생각 노력 바다 떠돌 쓰레기 플라스틱 완전히 분해 위하 소요 기사 그래서 베리 베리 환경오염 유발 플라스틱 사용 멀리하 지퍼 잠금 파우치 제작 쓰레기 부피 줄이 노력 리워드 이벤트 소식 안내 드리 안녕하 서포터 건강 생각 착하 제품 취급 바쁘 현대인 매일 스트레스 긴장 노출 건강 신선 과일 매일 챙기 불가능 가깝 그래서 생각 과일 과일 건강 충전 도움 바쁘 지치 일상 서포터 즐거움 건강 도움 우리나라 과일 주로 디저트 많이 사실 과일 건강 위하 허기지 시간 식사 시간 식사 시간 가장 그래서 과일 건강 방법 대하 서포터 정보 공유 색소 포함 아니 색소 보존제 화학 처리 보관 어떻 직사 광선 피한 실온 보관 일반적 추천 드리 개봉 제품 어떻 보관 포장지 지퍼 잠금 누르 공기 완전히 차단 직사 광선 피하 실온 보관 개봉 공기 수분 흡수 해지 최대한 빨리 드시 추천 드리 이내 하루 적정 권장량 어떻 한국 영양 학회 권장 하루 과일 베리 베리 원물 베리 체리 베리 믹스 이르 기준 성인 하루 또는 최대 권장 유통 기한 어떻 수분 최대 제거 과일 최대한 오래 유지 조하 베리 체리 베리 믹스 패키지 하단 보다 정확 일정 기재 국내 출시 제품 트렌드 만들 서포터 함께 소통 베리 과일 새롭 경험 전하 의견 주시 적극 반영 최선 다하 이번 공개 제품 베리 체리 베리 믹스 통하 포터 들이 지해 주신 후원금 건강 다양 만들 서포터 다시 찾아뵙 다양 버전 베리 베리 영도 구상 새롭 기대 취향 따르 골르 건강 습관 위하 베리 베리 다음 기대 감사',\n",
       " '생산 신선 오징어 여름 주전부리 생산 신선 국산 오징어 만능 촉촉 오징어 말리 오징어 맛있 여름밤 선사 여름 미리 미리 준비 금번 슈퍼 추가 혜택 안녕 행시 오징어 메이커 법성포 사람 여름 만들 신선 오징어 시작하 말리 행시 오징어 더욱이 한마리 개별 위생 포장 바람 통하 오징어 촉촉 오징어 말리 오징어 모두 냉동 보관 세요 반건조 오징어 일컫 지역 조금씩 다르 흔히 경상도 지역 울릉도 말리 하루 하루 바리 부르 요즘 당일 바리 오징어 단어 검색어 등장 당일 오징어 시간 손질 신선도 자랑 사실 대부분 오징어 덕장 들어오 오징어 손질 말리 어획 함께 말리 시기 때문 그때그때 손질 말리 내내 공급 오징어 중한 바로 중량 사실 특대 특대 호칭 정해지 규격 주인장 오징어 중량 중량 확인 하세 오징어 크기 인위적 늘리 줄이 중량 속이 때문 건조 정도 따르 조금 차이 촉촉 오징어 말리 오징어 정도 요즘 인터넷 쇼핑 판매 반건조 오징어 고속도 휴게 소의 오동통 맥반석 오징어 멀티 플레이어 각광 요즘 국으로 끓이 데치 초장 바로 다용도 조리 현대식 반건조 오징어 하지만 정확히 반건조 오징어 아니 반건조 이름 그대로 정도 말리 그래서 법성 사람 이르 촉촉 오징어 명하 요거 요거 지금 사랑받 마른 오징어 남녀노소 없이 사랑 듬뿍 사실 마르 오징어 생산 하기 까다롭 너무 마르 딱딱 세척 잘못하 너무 게다 자연 건조 정도 말리 변덕 날씨 때문 고생 이만저만 아니 밤낮 가리 없이 봐주 잘생기 마른 오징어 말리 오징어 생산 때문 리워드 구성 제주도 도서 산간 지역 불가 멀티플 이어 현대식 반건조 오징어 촉촉 오징어 불허 말리 오징어 소스 세트 리워드 발송 안내 리워드 주의 사항 정책 리워드 수령 이내 와디 반환 정책 우선 교환 과정 경과 반환 어렵 리워드 수령 이후 손상 파손 불량 고시 교환 반환 불가 따르 리워드 하자 교환 반환 하나 신중히 결정 바라 리워드 특성 아래 항목 발생 리워드 하자 불량 아니 유의 오징어 메이커 법성포 사람 안녕 지금 무엇 혼자 하기 함께 만들 정성 깃들 맛있 음식 그래서 법성포 사람 이름 어부 직접 전하 제철 수산물 특히 서포터 영광군 생산 정성 깃들 음식 전하 와디 리워드 선택 보내주 차후 신제품 제작 사용 감사',\n",
       " '체리 자두 체리 자두 두과 합치 한정 품종 나디아 자두 체리 자두 만나 품종 나디아 자두 소개 만나 새콤 체리 과즙 두가 합치 특대 나디아 자두 팔도 이야기 번째 자두 이야기 체리 자두 만남 나디아 자두 소개 아직 많이 나디아 자두 호주 체리 자두 장점 살리 만들 품종 호주 묘목 정식 유통 시작 아주 과일 하트 모양 새빨갛 자두 모양 들여다보 자두 노란빛 아니 체리 빨갛 과육 아직 대한민국 창과 안성 지역 아주 재배 나디아 자두 수확 시기 아주 수확 흔하 튜브 다양 매체 소개 많이 과일 튜브 다양 매체 나디아 자두 검색 나오 이야기 정말 맛있 그만큼 신맛 강해 너무 신맛 강하 체리 자두 신맛 강하 후기 확인 후기 말하 나디아 자두 신맛 강하 과일 하지만 어떻 농사 얼마나 나무 숙과 수확 과실 크기 지에 따르 과일 천차만별 그렇 신맛 줄이 단맛 최대한 올리 방법 나디아 자두 신맛 강하 이유 바로 나무 정도 수확 유통 때문 기나길 유통 과정 나디아 자두 상하 방지 최소한 유통 과정 나무 영양분 이상 숙과 기다리 수확 숙과 자두 수확 자두 드시 보시 다르 느끼 숙과 자두 신맛 나디아 자두 깊이 느끼 농사 경력 가지 농부 여러번 시도 농장 다르 신맛 줄이 농사 비법 농사 농부 특별 농사 비법 농부 비법 때문 설명 드리 농장 나디아 자두 맛보 통하 입소문 미리 예약 주문 시기 지나 예약 어렵 농장 과일 조생종 크기 두들 강하 나디아 자두 크기 따르 신맛 단맛 달라지 나디아 자두 사이즈 나뉘 보통 나디아 자두 크기 크기 자두 아니 사이즈 나디아 자두 수확 사이즈 자두 선별 나디아 자두 한과 과즙 팡팡 즐기 내외 사이즈 선별 과일 상태 생물 크기 혼합 배송 나디아 자두 과일 신맛 선호 수령 바로 드시 시키 수록 체리 강하 나디아 자두 특별 강하 숙하 방법 자두 수령 상하 우려 냉장보관 먼저 주신 드시 만큼 두르 실온 하루 이틀 정도 시키 껍질 원래 진하 검붉 과육 체리 가깝 진하 숙이 나디아 자두 일반 자두 자랑 혹시 신맛 드시 신맛 가지 껍질 벗기 신맛 단맛 느끼 전도 일반 자두 자랑 하루 이틀 나디아 자두 일반 자두 가지 당도 무려 브릭스 올라가 사실 한가지 주의 나디아 자두 방법 배송 실온 보관 자칫 잘못하 과일 상하 받으 냉장보관 과육 해지 드시 만큼 꺼내 하루 이틀 정도 숙하 드시 가장 방법 냉장보관 최대 싱싱 보관 나무 오래 매달리 과일 과육 부드럽 당도 올라가 하지만 과육 부드럽 배송 과육 무르 상하 단점 생기 그래서 이렇 단점 보완 위하 새벽 일찍 수확 배송 시간 반나절 저온 창고 보관 배송 저온 창고 보관 나디아 자두 과육 당도 그대로 해지 배송 과정 생기 상처 최소화 안전 스티로폼 박스 나디아 자두 함께 배송 아이스 나디아 자두 배송 과정 충격 안전 지키 노력 키우 나디아 자두 키우 경상남도 원래 사과 특산품 지역 일교차 기상 여건 토양 사과 소비자 인정 하지만 최근 기후 거듭 해지 겨울 여름 사과 생산성 떨어트리 어려움 극복 위하 호주 나디아 자두 묘목 들여오 키우 시작 나디아 자두 특산품 자리잡 지원 아끼 위치 농장 화학 비료 사용 거름 자연 화적 비만 사용 건강 농장 그렇 토질 우수 자두 영양분 듬뿍 받으 건강 자라나 농장 위치 햇볕 남향 받이 자두 햇빛 지역 특성 교차로 나디아 자두 농사 가장 이상적 위치 농장 잡초 제거 위하 제초제 입히 위하 착색료 그리고 인위적 방법 만들 생장 조정제 사용 건강 농장 간편 인위적 방법 사용 아니 번거롭 농부 관심 손길 한번 더욱 건강 키우 위하 노력 농장 이렇게 건강 나디아 자두 키우 농부 소개 사과 농사 사과 생산성 지속적 떨어지 느끼 농부 과감히 사과 포기 나디아 자두 키우 시작 벌써 나디아 자두 알리 장점 더욱 살리 위하 신맛 줄이 단맛 올리 시행착오 나디아 자두 연구 비법 찾아내 과일 농부 손길 정신과 마음 신념 철학 좌우 항상 생각 건강 나디아 자두 위하 매년 노력 해내 농부 노력 보답 매년 농부 나디아 자두 농부 나디아 자두 매년 늘어나 예약 주문 해지 여름철 가장 걱정 부분 바로 배송 자두 과육 무르 배송 충격 상하 문제 해결 위하 저온 창고 보관 나디아 자두 과일 스티로폼 박스 과일 안전 패드 함께 포장 기온 올라가 물러지 방지 위하 아이스 함께 포장 아이스 과일 직접 사진 같이 상단 부분 따로 과일 온도 유지 포장 저온 창고 보관 나디아 자두 온도 유지 스티로폼 박스 아이스 덕분 과육 해지 배송 충격 날씨 인하 과육 물러지 대비 이제 안전 배송 나디아 자두 편하 즐기 자두 가루 잔류농약 오해 농약 아니 자두 과육 당분 나오 가루 농약 이물질 아니 때문 굳이 없애 껍질 박박 문지르 필요 흐르 가볍 드시 나디아 자두 체리 자두 결합 품종 아직 대중화되 안성 지역 수확 자두 와디 서포터 소개 복잡 유통 과정 거치 시스템 이용 농가 나디아 자두 산지 직송 위하 플랫폼 선택 나디아 자두 수확 다음 수확 위하 준비 사용 계획 제품명 나디아 자두 구성 나디아 자두 원산지 대한민국 재배지 대한민국 경상남도 유통 기한 최대한 빨리 드시 냉장보관 보관 가능 리워드 수확 포장 배송 과정 스크래치 생기 리워드 하자 해당 생물 특성 개인 입맛 리워드 크기 설명 크기 현저히 경우 제외 대하 이슈 리워드 하자 해당 배송 나디아 자두 물러지 상처 훼손 심하 경우 시간 메이커 문의 문의 답변 드리 하루 이상 지나 문의 주시 교환 반환 어렵 리워드 특성 간만 수확 리워드 교환 어렵 확인 부탁드리 리워드 수령 이내 와디 반환 정책 우선 교환 과정 경과 반환 어렵 리워드 수령 이후 손상 파손 불량 고시 교환 반환 불가 따르 리워드 하자 교환 반환 하나 신중히 결정 바라',\n",
       " '떡볶이 명란 사장님 떡볶이 떡볶이 대체 떡볶이 명란 감치 맛나 알알이 씹히 재미있 떡볶이 후분 장답하 비비 지금껏 떡볶이 드시 보시 배민 동네 숙성 명란 특제 소스 고급 감칠맛 맛보 계속 생각나 사장님 도대체 떡볶이 대파 지나치 많이 드시 보세 마무리 세요 그리고 맛있 이즈 의미 이자 마음가짐 식사 즐거움 선물 음식 기준 마음 달려오 되어가 소스 맛과 비율 길이 어묵 크기 테스트 시식 세상 선보이 입술 명란 떡볶이 새롭 소개 입술 명란 떡볶이 떡볶이 명란 새롭 발견 궁합 지금껏 떡볶이 식탁 즐거움 드리 이즈 명란 입술 명란 입술 명란 입술 명란 떡볶이 이번 후원 주신 서포터 과의 상품 돌아오 약속 지키 돌아오 통하 후원금 이후 새롭 선보이 제품 개발 사용 계획 다양 제품 행복 고민 만들 이즈 달려가 리워드 발송 정보',\n",
       " '술꾼 모이 소주 하이볼 기적 술꾼 모두 모이 세계 바텐더 개발 퀄리티 하이볼 블렌드 소개 소주 탄산수 하이볼 베이스 포만 등극 직사 광선 고온 피하 보관 개봉 변질 바로 섭취 파우치 팽창 또는 변형 섭취 파우치 담기 채로 전자렌지 데우 직접 가열 제품 고유 성분 따르 약간 침전물 생기 이물질 아니 안심 흔들 일상 블렌딩 하다 레비 테이트 과일 다양 재료 블렌딩 하이 퀄리티 음료 즐기 제품 만들 브랜드 만들 회사 스틱 액상 형태 탄산수 주류 우유 등에 첨가 하여 기호 목적 음료 즐기 제품 만들 언제 일상 간편 맛있 즐기 개발 여행 시점 세계 유명 여행지 테마 하이볼 칵테일 만들 베이스 기획 통하 선보이 블렌드 포만 퀄리티 하이볼 보여드리 자주 여행지 감성 느끼 만하 그러 코로나 유행 시작 여행 사람 생겨나 지나 추억 그리워하 그리움 해소 방법 대하 오랫동안 고민 오래 기간 연구 개발 하이볼 블렌드 와디 서포터 조금 위로 지치 일상 잠시 제품 바라 와디 서포터 가장 먼저 선보이 참여 주신 리워드 제작 신규 라인업 개발 사용 계획 진행 추가 적인 제품 개발 빠르 진행 여름 이전 한번 새롭 제품 진행 일부 시설 장비 진행 등에 비용 활용 다양 상품 빠르 선보이 사용 소주 이외 주류 하이볼 만들 맛과 가미 주류 상관없이 풍미 즐기 과실주 특별 주류 피하 보드카 하이볼 만들 경우 소주 도수 주류 도로 조절 하이볼 블렌드 장점 하이볼 소주 기준 개발 독특 제품 월드 클래스 바텐더 개발 제품 주변 구하 소주 색다르 경험 간편 형태 캠핑 사용',\n",
       " '조리 마라 카레 최초 출시 이제 마라 카레 귀신 모두 집중 드디어 만나 마라 크림 크림 카레 상상 이상 미치 조합 한남동 소문나 카레 만들 마라 카레 사실 한남 동의 카레 눈치채 스토리 이야기 잠시 향연 느껴지 스크롤 빠르 내리 형제 어리 해외 유학 타지 고향 향수 특히 어머니 가장 손쉽 만나 음식 책임지 고맙 요리 그런데 그렇 카레 너무 좋아지 재료 금새 만들 형제 맛있 만들 카레 제대로 한번 만들 카레 다니 맛보 개발 만들 만들 만들 그렇 형제 풍미 강하 건더기 그저 맛있 카레 만들 피로 결국 한국 돌아오 한남동 카레 식당 도전 고되 예상 연속 위하 보람 감사 카레 금새 북적이 카레 좋아하 고객 인사 나누 보람차 보내 그리고 정확히 형제 유학 생활 마무리 위하 가게 정리 다시 미국 돌아가 카레 흐르 지금 가정 가장 그리고 아빠 종종 추억 안주 그런데 시중 즉석 카레 다시 카레 만들 카레 건더기 풍미 만들 생각 함께 제대로 카레 만들 그렇 다시 만들 결심 돌아오 남동 프로젝트 시작 즉석 카레 세상 카레 보다 풍미 건더기 그러 카레 손쉽 다시 움직이 야심 준비 비프 양송이 카레 오리지널 매운맛 고객 사랑 무지 감사 여전히 기억 고객 전혀 모르 입소문 주시 그래서 서둘르 번째 생각 번째 만들 가장 먼저 중독 가능 목표 세우 고객 자꾸만 떠올리 카레 그러 자주 마라 마라 유레카 외치 크림 크림 풍미 카레 마라 들어가 어떻 카레 마라 모두 개성 강하 향신료 상상 곧바로 마라 카레 만들기 돌입 카레 풍미 살리 소비자 좋아하 마라 그러 카레 만들 위하 수많 시행착오 그리고 지나 드디어 최종 샘플 그렇 번째 마라 카레 탄생 실제로 카레 결정 도움 아래 마라 카레 설명 오리지널 매운맛 함께 드시 보시 세가지 품목 함께 구성 리워드 이번 프로젝트 통하 처음 선보이 마라 직후 곧바로 일반 유통 채널 점하 서포터 피드백 취합 마라 완성도 천천히 잡아가 계획 최대 이번 소개 물론 프로젝트 순항 전제 조건 천천히 두루 살피 부족 부분 채우 관심 성원 부탁 드리 와디 만큼 도전 정신 강하 커뮤니티 없다 생각 그리고 새롭 경험 추구 메이커 강하 지지 서포터 많이 선택 이번 선보이 마라 오직 와디 서포터 품평 성장 도전 함께 지지 주실 너무 감사 드리 겨우 안되 브랜드 성원 통하 급격히 성장 어린 아가 어른 입맛 사로잡 최근 매운맛 뜨겁 사랑 와디 계기 세상 마라 카레 선보이 카레 사상 업적 함께 기록하 서포터 대부분 마라 생산 사용 아이 보호 보육 기관 찾아가 선물 자선 사업 또한 사용 예정 자세 내용 추후 소식 계정 통하 공유 보내주 관심 성원 보답 위하 최선 다하 감사 올림 약간 매운맛 오리지날 제품 정도 약간 매운맛 전체적 부드럽 후춧가루 정도 생각 어린 아이 부담 없이 정도 어떻 보관 레토르트 멸균 제품 실온 보관 가능 파우치 그대로 전자 레인지 괜찮 전자레인지 조리 모두 안심 사용하 뜨겁 조심 타사 즉석 카레 제품 대비 가격대 이유 타사 제품 비하 다소 가격 책정 사실 그러 호주 등심 엑스트라 버진 코코넛 오일 양송이 재료 아낌없이 사용하 제조 원가 타사 제품 비하 실제 제품 드시 보시 건더기 월등 확인 제품 종류 오리지날 약간 매운맛 매운맛 그리고 이번 와디 서포터 선보이 마라',\n",
       " '만족 여름 가꾸 유럽 대란 하루 맛있 마시 방법 유럽인 워터 볼레로 특히 식단 관리 노폐물 배출 통하 이너 뷰티 개선 위하 마시 더욱 중요 그리고 마시 약간 허기 달래 주기 도움 하지만 맹물 비리 맛없 매일 공부 근무 혼자 박물 보리차 매번 챙기 사실 맛있 편하 건강 해결 당류 가지 맛있 수분 보충 언제 마시 부담 건강 생각 수분 섭취 볼레로 시작하 희석 볼레로 과일 워터 볼레로 소개 볼레로 코리아 지나 통하 과일 워터 볼레로 진행하 서포터 지지 응원 기록 세우 성공적 마치 유럽 대란 여름 가꾸 과일 워터 리워드 만족도 메이 만족 정말 놀랍 사랑 함께 요청 현재 기준 서포터 정말 감사 드리 유럽 난리 너무 맛있 서포터 약속 드리 대로 기존 소개 새롭 먼저 만나 업그레이드 준비 레몬 복숭아 레몬 복숭아 저칼로리 음료 여행 접하 열대 과일 주스 건강 물씬 느껴지 비타민 운동 상상 음료 이제 스트레스 없이 기분 따르 다양 즐기 매일 매일 하루 생수 프로젝트 도와주 친구 더욱이 볼레로 부피 보관 볼레로 준비 친구 가족 함께 캠핑 언제 즐겁 볼레로 타임 가방 하루 희석 볼레로 즐기 음료수 마시 철저 식단 관리 받으 스트레스 내가 들이 노력 얼마 더이상 허무 칼로리 걱정 그만 단맛 칼로리 걱정 일하 잠깐 휴식 위하 달달 음료 그립 탄산 짜릿 그리 우신 칼로리 걱정 없이 생수 마시 단맛 칼로리 빠지 빠지 공식 과일 일단 볼레로 지금 느끼 아쉬움 완전히 날리 따라오 갈증 근육 생수 얼음 함께 과일 찬물 뭉치 섞이 볼레로 진리 재택 근무 두뇌 과열 탄산 함께 즐기 카페 에이드 예쁘 유리잔 얼음 탄산수 함께 톡톡 청량감 느끼 음료 부담 커피 대신 맛있 한잔 그립 볼레로 함께 마음 채우 힐링 티타임 과일 우유 과일 요거트 생각 플레인 요거트 우유 볼레로 더하 칼로리 걱정 없이 과일 레벨 여름 물론 위하 볼레로 아이스 만들 당류 간식 아이 너무 좋아하 볼레로 함께 아이스크림 부럽 볼레로 식단 관리 필요 니스 피플 또는 질병 때문 저칼로리 식품 당류 음료 필요 사람 유럽 인기 브랜드 식습관 자극적 변하 한국인 당류 섭취 대하 주의 필요 상황 그렇 하루 아침 당분 없이 자연인 며칠 지나 보상 심리 악순환 반복 볼레로 상큼 달달 국화과 허브 식물 추출 비아 사용 건강 더하 착하 단맛 체내 흡수 혈당 영향 설탕 대체 주목받 만큼 안심 드시 당류 음료 저칼로리 음료 들어가 설탕 대체재 고민 가요 볼레로 비아 비올 배당체 베이스 아세 적정 비율 기분 단맛 느끼 볼레로 글루텐 프리 프리 보존료 첨가 더욱 건강 드시 괜히 말하기 유난 건강 위하 식단 관리 괜히 주변 난리 경우 볼레로 가볍 가방 주머니 게다 맛있 친구 함께 나누 유난 보이 효과 편하 챙기 다니 수분 보충 준비 볼레로 클래 기호 따르 생수 드시 포장 구성 사이즈 가족 편하 즐기 볼레로 스틱 생수 바로 드시 포장 형태 간편 휴대 휴식 필요 시간 기분 전환 준비 가격 비싸 게다 매일 지속성 떨어지 볼레로 클래식 기준 그동안 매번 끓이 텀블러 편의점 카페 주문 직접 이동 볼레로 바로 착하 가격 편리함 갖추 품질 경영 시스템 바탕 원칙 절차 모두 포함 시스템 통합 통하 농장 식탁 소비자 안심 식품 드시 식품 안전 보장 식품 위해 요소 사전 예방 관리 식품 안전 관리 시스템 볼레로 제조 시설 위생적 안전 생산 볼레로 모두 성공 종료 통하 약속 드리 새롭 가장 먼저 선보이 먼저 새롭 볼레로 경험 맛보 바라 소개 한국 소비자 테스트 거치 가장 선호 가지 역시 선택 서포터 응원 빠르 시일 볼레로 들여오 새롭 볼레로 경험 선사 준비 일정 금액 이상 참여 하루 물마 시기 워터 플랜 함께 트라이 볼레로 전용 선물 드리 트라이 젖병 소재 사용 환경 친화 소재 변형 환경 호르몬 검출 소재 어떠 상황 워터 볼레로 즐기 안성맞춤 워터 활동적 건강 라이프 스타일 추구 사람 위하 볼레로 개발 스포츠 선수 개인 필요 의하 철저 식단 관리 사람 수분 보충 매우 중요 문제 많이 마시 솔루션 매번 시기 어려움 따르 마련 그래서 사람 원하 개발 당류 저칼로리 기본 볼레로 개발 초기 분말 형태 지향 플라스틱 병이 해변 오염 쓰레기 해변 쓰레기 유형 조사 결과 과대 포장 플라스틱 사용 발생 환경 오염 줄이 음료 완성품 아니 봉지 가루 형태 생각 볼레로 함께 지구 지키기 동참 지나 수많 유럽인 사랑받 개발 현재 계속 개발 전세계 소비자 볼레로 즐기 성공 진행 이벤트 성공 진행 이벤트 글로벌 시장 건강관리 우수 제품 수입 유통 푸드 라이프 스타일 회사 라이프 스타일 식습관 변화 인하 수시로 식단 관리 요구 하지만 대하 아쉬움 배고프 대하 괴로움 다시 되풀이 이벤트 단기적 포기 줄이 집중 제품 아니 즐거움 보장 지속 가능성 보장 제품 통하 건강 라이프 스타 일로 변화 만들 노력 볼레로 관심 애정 가지 주신 서포터 진심 감사 드리 볼레로 클래식 생수 또는 탄산수 그리 볼레로 스틱 희석 드시 준비 하지만 기호 맞추 물의 조절 시기 추천 드리 마시 칼로리 얼마나 볼레로 칼로리 가지 사이즈 마시 생수 볼레로 희석 마시 당분 볼레로 당류 국화과 허브 추출 착하 단맛 비아 로스 흡수 배출 때문 혈당 영향 미치 음용 주의 사항 볼레로 아세 성인 허용 섭취량 각각 매우 안전 물질 분류 볼레로 함유량 아세 희석 마시 경우 몸무게 성인 섭취 허용량 해당 대다수 경우 섭취 문제 평소 설탕 체제 경우 섭취량 줄이 권장 드리 유통 기한 어떻 볼레로 유통 기한 조일 직사 광선 피하 보관 더욱 배송 언제 성공적 끝나 영업 동안 결제 진행 순차적 배송 배송 진행 상황 소식 게시판 통하 전하 송지 결제 정보 변경 어떻 이미 마감일 내역 페이지 수정 교환 정책 어떻 리워드 수령 이내 와디 반환 정책 우선 교환 과정 경과 반환 어렵 리워드 수령 이후 손상 파손 불량 고시 교환 반환 불가 따르 리워드 하자 교환 반환 하나 신중히 결정 바라 리워드 수령 이후 고객 센터 신청 가능 교환 요청 정보 서포터 정보 일치 여부 확인 진행 리워드 하자 인하 교환 발생 비용 전액 메이커 부담 서포터 책임 사유 리워드 멸실 훼손 경우 단지 확인 위하 포장 훼손 제외 서포터 소비 의하 리워드 가치 감소 경우 시간 경과 인하 재판매 곤란 정도 리워드 가치 상실 경우 메이커 통하 교환 반환 접수 절차 없이 임의 반송 경우 단순 변심 경우 교환 반환 불가',\n",
       " '단백 없이 바로 가슴살 비엔나 언제 조리 없이 바로 가슴살 소시지 서포터 최초 선보이 바로 제품 실온 보관 가능 이유 가지 과정 거치 때문 고온 고압 방울 스팀 살균 처리 가슴살 소시지 부드럽 유지 게다가 특수 필름 외부 공기 차단 식품 변질 요소 없애 무려 동안 오래 지속 직사 광선 피하 보관 여름철 이상 고온 일시 냉장 보관 권유 개봉 최대한 빨리 섭취 국내산 닭고기 함량 무려 이상 안심 드시 오리지널 단백질 청양 단백질 직장 생활 공부 하루 영양 밸런스 맞추 가슴살 비엔나 리워드 구성 가슴살 함께 섭취 단백질 가슴살 비엔나 오리지널 바로 가슴살 기준 수화물 과하 치우치 식단 변화 취지 추천 드리 식단 인위적 소시지 아니 풍미 느껴지 오리지널 톡톡 터지 재미 느끼 부드럽 소시지 청양 빨갛 매우 좋아하 팀장 최고 눈물 만들 아주 만족 매운맛 스트레스 자극적 종종 당기 그때 드시 매운맛 비엔나 샐러드 관리 매일 샐러드 지겹 비엔나소시지 느끼 비엔나 치즈 떡볶이 간식 아쉽 탄수화물 떡볶이 비엔나 소시지 비엔나 떡소 가능 고온 조리 안전 폴리프로필렌 소재 포장 내면 재질 만들 데우 바로 드시 맛있 전자 레인지 사용 정도 데우 이때 포장지 부풀 뜨겁 주의 바라 바로 실온 보관 가슴살 비엔나 혹여 매일 질리 가슴살 비엔나 소시지 만들 자신 선보이 식단 관리 사무실 일하 이동 회의 허기지 언제 바로 드시 가슴살 비엔나 안녕하 아침 주식회사 회사 실온 편식 전문 기업 어리 아침 엄마 급히 비닐봉지 주시 달걀 친구 떠들 수업 어느새 엄마 아침 발견 미안 마음 몰래 버리 달걀 마음 엄마 아침 언제나 신선 무균 기술 연구 개발 특허 실온 동안 보관 가능 달걀 가슴살 고구마 단호박 만들 요즘 아침 식사 거르 많이 계시 소비자 건강 식사 책임지 마음 편식 시장 뛰어들 아침 언제나 신선 철저 품질 관리 편식 제조 냉동 냉장 치부 가공 식품 실온 바꾸 연구 끊임없 테스트 통하 최고 감과 찾아내 출시 보람 느끼 제품 개발 연구 위하 이번 참여 와디 통하 후원금 모이 제품 개발 비용 재투자하 예정 다음 제품 평상시 힘들 바닷가 실온 보관 제품 만들 아침 주식회사 언제나 간편 제품 서포터 선보이 위하 최선 다하 연구 약속 드리 프로젝트 종료 결제 진행 종료 영업 동안 매일 오후 배송 시작 가능 순차 발송 택배 대하 통운 제주도 도서 산간 지역 추가 비용 리워드 선택 도서 산간 배송 추가 주세 관련 문의 아침 주식회사 고객 센터',\n",
       " '달달 과즙 팡팡 과일 수수 주도 초당 수수 백초 수수 과일 퍼지 옥수수 함의 끝판 제주도 초당 수수 백초 수수 시작 순차적 배송 하루 최대 발송 가능 개수 대하 통운 택배 이용 포장 상태 종이 박스 포장 관련 문의 메이커 문의 이메일 문의 상담 가능 시간 평일 농부 부탁 고객 센터 정말 생으로 초당 수수 과일 수수 불리 정도 과일 아삭 감과 달달 자랑 물면 입안 수분 터지 감과 달달 매력적 개인 차이 보시 드시 취향 즐기 기가 가능 가요 초당 수수 당분 빠지 기가 서포터 전자 레인지 데우 드시 추천 드리 어떻 보관 수령 초당 수수 가장 속잎 제외 나머지 껍질 제거 흐르 먼지 헹구 그리고 당장 옥수수 남기 두고 모두 지퍼 혹은 반찬 혹은 보관 그리고 밀봉 초당 수수 냉장고 신선 냉장보관 최대 기간 당분 떨어지 초당 수수 오래 보관 방법 오래 보관 초당 수수 혹은 전자 레인지 데우 밀봉 냉동 보관 점차적 당도 떨어지 맛있 드시 최대한 빠르 시일 드시 권장',\n",
       " '무료 배송 밥도둑 도둑 탄생 낙지 볶음 따로 맛있 낙지 쭈꾸미 만나 탱탱 캠핑 어울리 맛있 밥도둑 도둑 볶음 와디 최초 공개 낙지 쭈꾸미 엄선 조리 쭈꾸미 낙지 줄어들 탱글탱글 감이 유지 원물 수분 빼주 원물 수분 많이 머금 그만큼 중량 조리 시모 쪼그라들 그리고 분말 특제 가루 쭈꾸미 낙지 합하 특제 분말 가루 양념 겉돌 원물 베이 양념 그리고 정온 냉장 시간 배합 숙성 시간 가지 그렇 배합 시간 숙성 원물 상형 특제 양념 소스 배합 들어가 그리고 한번 정온 냉장 시간 배합 숙성 시간 가지 수년 만들 노하우 자체 개발 특제 비법 양념 사용 만들 때문 좋아하 매운맛 보통 신라 매운맛 감기 맛있 정도 아니 매운맛 드시 보시 권장 선택 후회 야식 볶음 드시 보신 브랜드 제품 한번 드시 보시 권장 어떻 다르 원물 얼마나 분명 느끼 야식 호불호 갈리 테스트 가지 브랜드 절대 아니 노하우 만들 진짜 맛있 야식 특제 양념 원물 그리고 배합 공정 거치 남다르 제조 공법 좋아하 맛있 자랑 요식업 업체 가공 식품 공급 손님 내놓 대하 고민 무수히 많이 제조사 비교 선택 맛과 서비스 우선 요식 업체 사장님 손잡 매년 거래 그만큼 대하 검증 반증 시간 축적 노하우 바탕 검증 탄생 불호 정말 맛있 매운맛 자랑 우선 당연히 인증 제조사 식품 제조 공장 안되 인증 사항 작업자 위생 관리 위생 대하 엄격 기준 가장 중요 생각 번째 약속 모든 원물 단계 세척 과정 거치 아주 중요 단계 세척 과정 절대로 우선 원물 망가지 공기 방울 때리 워터젯 버블 시스템 세척 세척 원물 물줄기 샤워 샤워 마치 원물 또다시 워터젯 버블 세척 진행하 정도 사실 사람 보다 훨씬 위생적 세척 하지만 아직 끝나 세척 과정 충분히 세척 원물 마지막 샤워 먹거리 준비 이렇게 세척 과정 거치 원물 마지막 선별 작업 이루어지 선별 관리자 위생 복장 완벽 갖추 혹시 모르 이물질 걸르 선별 작업 모두 거치 비로소 식품 만들 준비 시작 먹거리 무조건 안전 만들 신념 정량 소분 위하 자체 개발 도입 시스템 직접 설계 기기 기기 사람 일일 작업 소분 실제로 대기업 제외 대부분 식품 제조 시설 여전히 사람 필요 공정 유지 중량 어떻 원물 양념 많이 실상 별로 제품 만들 사실 중량 미달 제품 무게 센서 감지 하여가 없이 걸르 사람 역시 사람 정확 핵심 정량 정확히 지키 제조 시설 따르 어렵 정량 분기 원물 함량 더욱 높이 만들 때문 선보이 야식 드시 원물 중량 무려 이상 가장 이상적 원물 양념 중량 중원 가득 그렇 만들 싱겁 양념 들어가 그래서 낙지 쭈꾸미 비율 이상 가득 채우 아니 정직 인분 만들 물론 결정 이렇게 내드리 이익 정말 하지만 이번 리워드 통하 이익 위하 아니 좀더 소개 드시 보시 목표 그리고 정말 맛있 한번 다시 바라 진심 다하 마음 준비 리워드 이익 최소 한의 운영비 도로 리워드 돌리 그대로 드림 리워드 말씀드리 지금껏 수년 전국 이즈 대기업 식품 제조 납품 해오 식품 제조 공장 생산 시설 규모 제조사 지금껏 요식 업체 요구 사항 충족 거래처 원하 가공 식품 만들 납품 바쁘 제조사 갑자기 아프 이야기 조심 꺼내 안타깝 현재 가지 바꾸 시국 인하 고통 사람 사라지 기업 늘어나 영업시간 인원 제한 요식 업체 주점 결국 주로 거래 요식 업체 힘들 제조사 역시 일거리 힘들 마찬가지 직접 우리 브랜드 만들 제일 잘하 식품 제조 간의 노하우 생산력 바탕 만들 세상 알리 야식 안주 기본 야식 그리하 힘들 지금 한잔 땡기 볶음 구이 검증 피로 제대 만들 사람 즐겁 야식 만들 배경 통하 처음 선보이 볶음 양심 열정 선보이']"
      ]
     },
     "execution_count": 21,
     "metadata": {},
     "output_type": "execute_result"
    }
   ],
   "source": [
    "totsen"
   ]
  },
  {
   "cell_type": "code",
   "execution_count": 22,
   "metadata": {},
   "outputs": [
    {
     "data": {
      "text/plain": [
       "'마늘 가득 풍미 마늘종 우리집 도둑 진하 풍미 향연 느끼 마늘종 그리고 드라이 토마토 로컬 농산물 만들 매력적 푸드 지금 경험 지나 아이 파크 자투리 마켓 깜짝 제품 공개 정식 출시 오프 라인 마켓 집적 시식 통하 제품 보완 시식 여쭈 정말 귀하 값지 피드백 도전 뜨겁 반응 덕분 마늘종 전일 품절 이후 구매 문의 쇄도 성원 덕분 도전 결심 피드백 제품 반영 업그레이드 온라인 정식 공개 마늘 드라이 토마토 제일 처음 마늘종 만들 푸드 기획 이번 캐스팅 마늘 농가 가치 외면 마늘 마늘종 마늘 비하 가치 인정받 농산물 사실 마늘 영양가 엽산 비타민 갖추 넥스트 참여 의성 지역 조사 의성 마늘 최대 생산지 마늘 수확 대부분 마늘종 버리 사실 저번 국내산 등급 양파 이용 라이징 기억 이번 농산물 새롭 가치 전파 위하 나서 만족도 자부심 다시 돌아오 번째 프로젝트 마늘 이용 마늘종 국내 농산물 새롭 가치 맛있 소개 재택근무 주말 보내 요즘 시국 위하 떠세 이면 스푼 풍미 마늘종 드라이 토마토 조합 정말 다양 메뉴 활용 시판 소스 식상 벗어나 손쉽 요리 추천 열처리 유통 기한 짧아지 원재료 본연 차원 다르 고집 현상 초록 빛깔 신선 만들 토이기 때문 마늘 바지 또한 느끼 노력 자체 생산 생산 통하 만들 만들 러버 서포터 와디 등장 얼르 가장 맛있 마늘종 드라이 토마토 디테일 원재료 소개 합성 첨가물 착향료 일체 재료 하나하나 따지 집적 수급 건강 농산물 재료 담기 마늘종 마늘종 바지 레몬 더하 더욱 로스 고소 느끼 소금 최소화 그라나 마산 가지 치즈 사용 때문 그냥 재료 섞이 조절 드라이 토마토 유기농 대추 방울 토마토 정성껏 건조 사용하 토마토 시간 알맞 온도 건조 본연 극대화 수분 날아가 감도 변해 토마토 영양가 엑스트라 버진 올리브유 마늘 바지 허브 함께 절이 향긋 감칠맛 느끼 서울시 청년 로컬 상생 프로젝트 넥스트 로컬 선정 국내 농가 협업 집적 주재료 수급 국내산 농산물 만들 이탈 매력적 제품 공유 주방 철저 위생 관리 자체 생산 사활 때문 와디 통하 적정 생산 신속 유통 계획 마늘종 현대인 입맛 사로잡 식품 만들 동안 고민 연구 사람 도움 구하 다양 제품 개발 시도 소비자 테스트 이탈 바지 착안 마늘 탄생 작년 라이징 프로젝트 진행하 성공적 프로젝트 선보이 이후 마늘종 다시 돌아오 지금 오늘 식탁 명이 바뀌 어쩌다 사장 응원 호응 지금 부부 창업 지역 농가 양파 이용 간편 맛있 양파 라이징 경험 선사 이번 지역 농가 마늘종 토마토 이용 새롭 경험 전하 특히 이번 외면 마늘 이용 시도 때문 농가 수확 참여 농부 함께 흘리 진심 더하 만들 먹거리 서포터 일상 행복 보탬 바라 마늘종 다르 도전적 제품 와디 서포터 새로 받아들이 열리 선도 어답터 와디 통하 제품 첫선 보이 성공 계획 다음 색다르 맛있 경험 제공 식품 패키지 생산 제품 전달 배송 관련 비용 문의 채널 카카오 플러스 친구 공식 스타 문의 카카오 플러스 친구 바로 가기 공식 스타 그램 바로 가기 와디 단독 지친 일상 건강 충전 강력 캐나다 베리 습관 바쁘 현대인 건강 충전 과일 모으 캐나다 건강 충전 베리 베리 와디 서포터 국내 단독 피곤 운동 중요 하지만 바쁘 바쁘 일상 간편 건강 충전 방법 과일 베리 블루 베리 체리 스트로 베리 라즈베리 베리 과일 영양 알리 하지만 과일 비하 가격대 매일 힘들 사실 베리 과일 부담 없이 간편 베리 베리 과일 이제 건강 충전 필요 베리 골고루 음식 풍미 더하 식품 공기 건강 햇빛 영양분 시작하 철학 청정 자연 국가 캐나다 골르 건강 지키 캐나다 세계 식품 안전 지수 독일 덴마크 프랑스 영국 그리고 일본 한국 월등히 순위 다양 베리 나라 까다롭 조건 고르 캐나다 원산지 이렇게 정성 만들 베리 베리 필요 순간 필요 순간 마음 참고 식품 안전 칼로리 리스트 공량 기준 바사삭 미치 진짜 과일 순간 스트레스 풀리 기분 사장님 과일 과일 어떻 이래 원물 그대로 건조 공법 가공 알록달록 과일 고르 즐거움 충족 당도 산미 바나나 블루 베리 달달 새콤 딸기 사과 어우러지 당도 산미 음미 달달 하면서 건강 채우 베리 믹스 도움 도가 새콤 도드라지 선명 블루 베리 달달 살짝 감돌 베리 체리 라즈베리 무게 새콤 쌉쌀 스며들 독특 단맛 새콤 쌉쌀 베리 느끼 건강 채우 베리 체리 선택 황금 비율 베리 체리 경우 캐나다 현지 농장 정성 재배 베리 체리 블루 베리 라즈베리 최첨단 동결 건조 공법 수분 이상 제거 그렇 순수 과육 남기 베리 체리 담기 현대인 건강 일상 위하 하루 과일 권장량 한국 영양 학회 과일 과일 채소 하루 권장량 하루 과일 지금 그렇 챙기 자신 현대인 매일 과일 챙기 불가능 가깝 왜냐하면 귀찮 불편 가버리 간편 건강 충전 떠세 고프 과일 소화 부담 흡수 때문 그래서 식사 시간 식사 마치 시간 후인 오전 오후 추천 캐나다 가장 동결 건조 제조 시설 이상 식품 동결 건조 공법 전문가 구성 직접 원재료 수급 생산 포장 승인 인증 프로그램 식품 원료 제조 가공 유통 과정 어떠하 위해 요소 식품 침투 오염 사전 예방 위하 시스템 기반 캐나다 음료 제조 업체 대표 비영리 산업 협회 베리 베리 생산 제조 시설 멤버 소속 사람 건강 지구 건강 생각 노력 바다 떠돌 쓰레기 플라스틱 완전히 분해 위하 소요 기사 그래서 베리 베리 환경오염 유발 플라스틱 사용 멀리하 지퍼 잠금 파우치 제작 쓰레기 부피 줄이 노력 리워드 이벤트 소식 안내 드리 안녕하 서포터 건강 생각 착하 제품 취급 바쁘 현대인 매일 스트레스 긴장 노출 건강 신선 과일 매일 챙기 불가능 가깝 그래서 생각 과일 과일 건강 충전 도움 바쁘 지치 일상 서포터 즐거움 건강 도움 우리나라 과일 주로 디저트 많이 사실 과일 건강 위하 허기지 시간 식사 시간 식사 시간 가장 그래서 과일 건강 방법 대하 서포터 정보 공유 색소 포함 아니 색소 보존제 화학 처리 보관 어떻 직사 광선 피한 실온 보관 일반적 추천 드리 개봉 제품 어떻 보관 포장지 지퍼 잠금 누르 공기 완전히 차단 직사 광선 피하 실온 보관 개봉 공기 수분 흡수 해지 최대한 빨리 드시 추천 드리 이내 하루 적정 권장량 어떻 한국 영양 학회 권장 하루 과일 베리 베리 원물 베리 체리 베리 믹스 이르 기준 성인 하루 또는 최대 권장 유통 기한 어떻 수분 최대 제거 과일 최대한 오래 유지 조하 베리 체리 베리 믹스 패키지 하단 보다 정확 일정 기재 국내 출시 제품 트렌드 만들 서포터 함께 소통 베리 과일 새롭 경험 전하 의견 주시 적극 반영 최선 다하 이번 공개 제품 베리 체리 베리 믹스 통하 포터 들이 지해 주신 후원금 건강 다양 만들 서포터 다시 찾아뵙 다양 버전 베리 베리 영도 구상 새롭 기대 취향 따르 골르 건강 습관 위하 베리 베리 다음 기대 감사 생산 신선 오징어 여름 주전부리 생산 신선 국산 오징어 만능 촉촉 오징어 말리 오징어 맛있 여름밤 선사 여름 미리 미리 준비 금번 슈퍼 추가 혜택 안녕 행시 오징어 메이커 법성포 사람 여름 만들 신선 오징어 시작하 말리 행시 오징어 더욱이 한마리 개별 위생 포장 바람 통하 오징어 촉촉 오징어 말리 오징어 모두 냉동 보관 세요 반건조 오징어 일컫 지역 조금씩 다르 흔히 경상도 지역 울릉도 말리 하루 하루 바리 부르 요즘 당일 바리 오징어 단어 검색어 등장 당일 오징어 시간 손질 신선도 자랑 사실 대부분 오징어 덕장 들어오 오징어 손질 말리 어획 함께 말리 시기 때문 그때그때 손질 말리 내내 공급 오징어 중한 바로 중량 사실 특대 특대 호칭 정해지 규격 주인장 오징어 중량 중량 확인 하세 오징어 크기 인위적 늘리 줄이 중량 속이 때문 건조 정도 따르 조금 차이 촉촉 오징어 말리 오징어 정도 요즘 인터넷 쇼핑 판매 반건조 오징어 고속도 휴게 소의 오동통 맥반석 오징어 멀티 플레이어 각광 요즘 국으로 끓이 데치 초장 바로 다용도 조리 현대식 반건조 오징어 하지만 정확히 반건조 오징어 아니 반건조 이름 그대로 정도 말리 그래서 법성 사람 이르 촉촉 오징어 명하 요거 요거 지금 사랑받 마른 오징어 남녀노소 없이 사랑 듬뿍 사실 마르 오징어 생산 하기 까다롭 너무 마르 딱딱 세척 잘못하 너무 게다 자연 건조 정도 말리 변덕 날씨 때문 고생 이만저만 아니 밤낮 가리 없이 봐주 잘생기 마른 오징어 말리 오징어 생산 때문 리워드 구성 제주도 도서 산간 지역 불가 멀티플 이어 현대식 반건조 오징어 촉촉 오징어 불허 말리 오징어 소스 세트 리워드 발송 안내 리워드 주의 사항 정책 리워드 수령 이내 와디 반환 정책 우선 교환 과정 경과 반환 어렵 리워드 수령 이후 손상 파손 불량 고시 교환 반환 불가 따르 리워드 하자 교환 반환 하나 신중히 결정 바라 리워드 특성 아래 항목 발생 리워드 하자 불량 아니 유의 오징어 메이커 법성포 사람 안녕 지금 무엇 혼자 하기 함께 만들 정성 깃들 맛있 음식 그래서 법성포 사람 이름 어부 직접 전하 제철 수산물 특히 서포터 영광군 생산 정성 깃들 음식 전하 와디 리워드 선택 보내주 차후 신제품 제작 사용 감사 체리 자두 체리 자두 두과 합치 한정 품종 나디아 자두 체리 자두 만나 품종 나디아 자두 소개 만나 새콤 체리 과즙 두가 합치 특대 나디아 자두 팔도 이야기 번째 자두 이야기 체리 자두 만남 나디아 자두 소개 아직 많이 나디아 자두 호주 체리 자두 장점 살리 만들 품종 호주 묘목 정식 유통 시작 아주 과일 하트 모양 새빨갛 자두 모양 들여다보 자두 노란빛 아니 체리 빨갛 과육 아직 대한민국 창과 안성 지역 아주 재배 나디아 자두 수확 시기 아주 수확 흔하 튜브 다양 매체 소개 많이 과일 튜브 다양 매체 나디아 자두 검색 나오 이야기 정말 맛있 그만큼 신맛 강해 너무 신맛 강하 체리 자두 신맛 강하 후기 확인 후기 말하 나디아 자두 신맛 강하 과일 하지만 어떻 농사 얼마나 나무 숙과 수확 과실 크기 지에 따르 과일 천차만별 그렇 신맛 줄이 단맛 최대한 올리 방법 나디아 자두 신맛 강하 이유 바로 나무 정도 수확 유통 때문 기나길 유통 과정 나디아 자두 상하 방지 최소한 유통 과정 나무 영양분 이상 숙과 기다리 수확 숙과 자두 수확 자두 드시 보시 다르 느끼 숙과 자두 신맛 나디아 자두 깊이 느끼 농사 경력 가지 농부 여러번 시도 농장 다르 신맛 줄이 농사 비법 농사 농부 특별 농사 비법 농부 비법 때문 설명 드리 농장 나디아 자두 맛보 통하 입소문 미리 예약 주문 시기 지나 예약 어렵 농장 과일 조생종 크기 두들 강하 나디아 자두 크기 따르 신맛 단맛 달라지 나디아 자두 사이즈 나뉘 보통 나디아 자두 크기 크기 자두 아니 사이즈 나디아 자두 수확 사이즈 자두 선별 나디아 자두 한과 과즙 팡팡 즐기 내외 사이즈 선별 과일 상태 생물 크기 혼합 배송 나디아 자두 과일 신맛 선호 수령 바로 드시 시키 수록 체리 강하 나디아 자두 특별 강하 숙하 방법 자두 수령 상하 우려 냉장보관 먼저 주신 드시 만큼 두르 실온 하루 이틀 정도 시키 껍질 원래 진하 검붉 과육 체리 가깝 진하 숙이 나디아 자두 일반 자두 자랑 혹시 신맛 드시 신맛 가지 껍질 벗기 신맛 단맛 느끼 전도 일반 자두 자랑 하루 이틀 나디아 자두 일반 자두 가지 당도 무려 브릭스 올라가 사실 한가지 주의 나디아 자두 방법 배송 실온 보관 자칫 잘못하 과일 상하 받으 냉장보관 과육 해지 드시 만큼 꺼내 하루 이틀 정도 숙하 드시 가장 방법 냉장보관 최대 싱싱 보관 나무 오래 매달리 과일 과육 부드럽 당도 올라가 하지만 과육 부드럽 배송 과육 무르 상하 단점 생기 그래서 이렇 단점 보완 위하 새벽 일찍 수확 배송 시간 반나절 저온 창고 보관 배송 저온 창고 보관 나디아 자두 과육 당도 그대로 해지 배송 과정 생기 상처 최소화 안전 스티로폼 박스 나디아 자두 함께 배송 아이스 나디아 자두 배송 과정 충격 안전 지키 노력 키우 나디아 자두 키우 경상남도 원래 사과 특산품 지역 일교차 기상 여건 토양 사과 소비자 인정 하지만 최근 기후 거듭 해지 겨울 여름 사과 생산성 떨어트리 어려움 극복 위하 호주 나디아 자두 묘목 들여오 키우 시작 나디아 자두 특산품 자리잡 지원 아끼 위치 농장 화학 비료 사용 거름 자연 화적 비만 사용 건강 농장 그렇 토질 우수 자두 영양분 듬뿍 받으 건강 자라나 농장 위치 햇볕 남향 받이 자두 햇빛 지역 특성 교차로 나디아 자두 농사 가장 이상적 위치 농장 잡초 제거 위하 제초제 입히 위하 착색료 그리고 인위적 방법 만들 생장 조정제 사용 건강 농장 간편 인위적 방법 사용 아니 번거롭 농부 관심 손길 한번 더욱 건강 키우 위하 노력 농장 이렇게 건강 나디아 자두 키우 농부 소개 사과 농사 사과 생산성 지속적 떨어지 느끼 농부 과감히 사과 포기 나디아 자두 키우 시작 벌써 나디아 자두 알리 장점 더욱 살리 위하 신맛 줄이 단맛 올리 시행착오 나디아 자두 연구 비법 찾아내 과일 농부 손길 정신과 마음 신념 철학 좌우 항상 생각 건강 나디아 자두 위하 매년 노력 해내 농부 노력 보답 매년 농부 나디아 자두 농부 나디아 자두 매년 늘어나 예약 주문 해지 여름철 가장 걱정 부분 바로 배송 자두 과육 무르 배송 충격 상하 문제 해결 위하 저온 창고 보관 나디아 자두 과일 스티로폼 박스 과일 안전 패드 함께 포장 기온 올라가 물러지 방지 위하 아이스 함께 포장 아이스 과일 직접 사진 같이 상단 부분 따로 과일 온도 유지 포장 저온 창고 보관 나디아 자두 온도 유지 스티로폼 박스 아이스 덕분 과육 해지 배송 충격 날씨 인하 과육 물러지 대비 이제 안전 배송 나디아 자두 편하 즐기 자두 가루 잔류농약 오해 농약 아니 자두 과육 당분 나오 가루 농약 이물질 아니 때문 굳이 없애 껍질 박박 문지르 필요 흐르 가볍 드시 나디아 자두 체리 자두 결합 품종 아직 대중화되 안성 지역 수확 자두 와디 서포터 소개 복잡 유통 과정 거치 시스템 이용 농가 나디아 자두 산지 직송 위하 플랫폼 선택 나디아 자두 수확 다음 수확 위하 준비 사용 계획 제품명 나디아 자두 구성 나디아 자두 원산지 대한민국 재배지 대한민국 경상남도 유통 기한 최대한 빨리 드시 냉장보관 보관 가능 리워드 수확 포장 배송 과정 스크래치 생기 리워드 하자 해당 생물 특성 개인 입맛 리워드 크기 설명 크기 현저히 경우 제외 대하 이슈 리워드 하자 해당 배송 나디아 자두 물러지 상처 훼손 심하 경우 시간 메이커 문의 문의 답변 드리 하루 이상 지나 문의 주시 교환 반환 어렵 리워드 특성 간만 수확 리워드 교환 어렵 확인 부탁드리 리워드 수령 이내 와디 반환 정책 우선 교환 과정 경과 반환 어렵 리워드 수령 이후 손상 파손 불량 고시 교환 반환 불가 따르 리워드 하자 교환 반환 하나 신중히 결정 바라 떡볶이 명란 사장님 떡볶이 떡볶이 대체 떡볶이 명란 감치 맛나 알알이 씹히 재미있 떡볶이 후분 장답하 비비 지금껏 떡볶이 드시 보시 배민 동네 숙성 명란 특제 소스 고급 감칠맛 맛보 계속 생각나 사장님 도대체 떡볶이 대파 지나치 많이 드시 보세 마무리 세요 그리고 맛있 이즈 의미 이자 마음가짐 식사 즐거움 선물 음식 기준 마음 달려오 되어가 소스 맛과 비율 길이 어묵 크기 테스트 시식 세상 선보이 입술 명란 떡볶이 새롭 소개 입술 명란 떡볶이 떡볶이 명란 새롭 발견 궁합 지금껏 떡볶이 식탁 즐거움 드리 이즈 명란 입술 명란 입술 명란 입술 명란 떡볶이 이번 후원 주신 서포터 과의 상품 돌아오 약속 지키 돌아오 통하 후원금 이후 새롭 선보이 제품 개발 사용 계획 다양 제품 행복 고민 만들 이즈 달려가 리워드 발송 정보 술꾼 모이 소주 하이볼 기적 술꾼 모두 모이 세계 바텐더 개발 퀄리티 하이볼 블렌드 소개 소주 탄산수 하이볼 베이스 포만 등극 직사 광선 고온 피하 보관 개봉 변질 바로 섭취 파우치 팽창 또는 변형 섭취 파우치 담기 채로 전자렌지 데우 직접 가열 제품 고유 성분 따르 약간 침전물 생기 이물질 아니 안심 흔들 일상 블렌딩 하다 레비 테이트 과일 다양 재료 블렌딩 하이 퀄리티 음료 즐기 제품 만들 브랜드 만들 회사 스틱 액상 형태 탄산수 주류 우유 등에 첨가 하여 기호 목적 음료 즐기 제품 만들 언제 일상 간편 맛있 즐기 개발 여행 시점 세계 유명 여행지 테마 하이볼 칵테일 만들 베이스 기획 통하 선보이 블렌드 포만 퀄리티 하이볼 보여드리 자주 여행지 감성 느끼 만하 그러 코로나 유행 시작 여행 사람 생겨나 지나 추억 그리워하 그리움 해소 방법 대하 오랫동안 고민 오래 기간 연구 개발 하이볼 블렌드 와디 서포터 조금 위로 지치 일상 잠시 제품 바라 와디 서포터 가장 먼저 선보이 참여 주신 리워드 제작 신규 라인업 개발 사용 계획 진행 추가 적인 제품 개발 빠르 진행 여름 이전 한번 새롭 제품 진행 일부 시설 장비 진행 등에 비용 활용 다양 상품 빠르 선보이 사용 소주 이외 주류 하이볼 만들 맛과 가미 주류 상관없이 풍미 즐기 과실주 특별 주류 피하 보드카 하이볼 만들 경우 소주 도수 주류 도로 조절 하이볼 블렌드 장점 하이볼 소주 기준 개발 독특 제품 월드 클래스 바텐더 개발 제품 주변 구하 소주 색다르 경험 간편 형태 캠핑 사용 조리 마라 카레 최초 출시 이제 마라 카레 귀신 모두 집중 드디어 만나 마라 크림 크림 카레 상상 이상 미치 조합 한남동 소문나 카레 만들 마라 카레 사실 한남 동의 카레 눈치채 스토리 이야기 잠시 향연 느껴지 스크롤 빠르 내리 형제 어리 해외 유학 타지 고향 향수 특히 어머니 가장 손쉽 만나 음식 책임지 고맙 요리 그런데 그렇 카레 너무 좋아지 재료 금새 만들 형제 맛있 만들 카레 제대로 한번 만들 카레 다니 맛보 개발 만들 만들 만들 그렇 형제 풍미 강하 건더기 그저 맛있 카레 만들 피로 결국 한국 돌아오 한남동 카레 식당 도전 고되 예상 연속 위하 보람 감사 카레 금새 북적이 카레 좋아하 고객 인사 나누 보람차 보내 그리고 정확히 형제 유학 생활 마무리 위하 가게 정리 다시 미국 돌아가 카레 흐르 지금 가정 가장 그리고 아빠 종종 추억 안주 그런데 시중 즉석 카레 다시 카레 만들 카레 건더기 풍미 만들 생각 함께 제대로 카레 만들 그렇 다시 만들 결심 돌아오 남동 프로젝트 시작 즉석 카레 세상 카레 보다 풍미 건더기 그러 카레 손쉽 다시 움직이 야심 준비 비프 양송이 카레 오리지널 매운맛 고객 사랑 무지 감사 여전히 기억 고객 전혀 모르 입소문 주시 그래서 서둘르 번째 생각 번째 만들 가장 먼저 중독 가능 목표 세우 고객 자꾸만 떠올리 카레 그러 자주 마라 마라 유레카 외치 크림 크림 풍미 카레 마라 들어가 어떻 카레 마라 모두 개성 강하 향신료 상상 곧바로 마라 카레 만들기 돌입 카레 풍미 살리 소비자 좋아하 마라 그러 카레 만들 위하 수많 시행착오 그리고 지나 드디어 최종 샘플 그렇 번째 마라 카레 탄생 실제로 카레 결정 도움 아래 마라 카레 설명 오리지널 매운맛 함께 드시 보시 세가지 품목 함께 구성 리워드 이번 프로젝트 통하 처음 선보이 마라 직후 곧바로 일반 유통 채널 점하 서포터 피드백 취합 마라 완성도 천천히 잡아가 계획 최대 이번 소개 물론 프로젝트 순항 전제 조건 천천히 두루 살피 부족 부분 채우 관심 성원 부탁 드리 와디 만큼 도전 정신 강하 커뮤니티 없다 생각 그리고 새롭 경험 추구 메이커 강하 지지 서포터 많이 선택 이번 선보이 마라 오직 와디 서포터 품평 성장 도전 함께 지지 주실 너무 감사 드리 겨우 안되 브랜드 성원 통하 급격히 성장 어린 아가 어른 입맛 사로잡 최근 매운맛 뜨겁 사랑 와디 계기 세상 마라 카레 선보이 카레 사상 업적 함께 기록하 서포터 대부분 마라 생산 사용 아이 보호 보육 기관 찾아가 선물 자선 사업 또한 사용 예정 자세 내용 추후 소식 계정 통하 공유 보내주 관심 성원 보답 위하 최선 다하 감사 올림 약간 매운맛 오리지날 제품 정도 약간 매운맛 전체적 부드럽 후춧가루 정도 생각 어린 아이 부담 없이 정도 어떻 보관 레토르트 멸균 제품 실온 보관 가능 파우치 그대로 전자 레인지 괜찮 전자레인지 조리 모두 안심 사용하 뜨겁 조심 타사 즉석 카레 제품 대비 가격대 이유 타사 제품 비하 다소 가격 책정 사실 그러 호주 등심 엑스트라 버진 코코넛 오일 양송이 재료 아낌없이 사용하 제조 원가 타사 제품 비하 실제 제품 드시 보시 건더기 월등 확인 제품 종류 오리지날 약간 매운맛 매운맛 그리고 이번 와디 서포터 선보이 마라 만족 여름 가꾸 유럽 대란 하루 맛있 마시 방법 유럽인 워터 볼레로 특히 식단 관리 노폐물 배출 통하 이너 뷰티 개선 위하 마시 더욱 중요 그리고 마시 약간 허기 달래 주기 도움 하지만 맹물 비리 맛없 매일 공부 근무 혼자 박물 보리차 매번 챙기 사실 맛있 편하 건강 해결 당류 가지 맛있 수분 보충 언제 마시 부담 건강 생각 수분 섭취 볼레로 시작하 희석 볼레로 과일 워터 볼레로 소개 볼레로 코리아 지나 통하 과일 워터 볼레로 진행하 서포터 지지 응원 기록 세우 성공적 마치 유럽 대란 여름 가꾸 과일 워터 리워드 만족도 메이 만족 정말 놀랍 사랑 함께 요청 현재 기준 서포터 정말 감사 드리 유럽 난리 너무 맛있 서포터 약속 드리 대로 기존 소개 새롭 먼저 만나 업그레이드 준비 레몬 복숭아 레몬 복숭아 저칼로리 음료 여행 접하 열대 과일 주스 건강 물씬 느껴지 비타민 운동 상상 음료 이제 스트레스 없이 기분 따르 다양 즐기 매일 매일 하루 생수 프로젝트 도와주 친구 더욱이 볼레로 부피 보관 볼레로 준비 친구 가족 함께 캠핑 언제 즐겁 볼레로 타임 가방 하루 희석 볼레로 즐기 음료수 마시 철저 식단 관리 받으 스트레스 내가 들이 노력 얼마 더이상 허무 칼로리 걱정 그만 단맛 칼로리 걱정 일하 잠깐 휴식 위하 달달 음료 그립 탄산 짜릿 그리 우신 칼로리 걱정 없이 생수 마시 단맛 칼로리 빠지 빠지 공식 과일 일단 볼레로 지금 느끼 아쉬움 완전히 날리 따라오 갈증 근육 생수 얼음 함께 과일 찬물 뭉치 섞이 볼레로 진리 재택 근무 두뇌 과열 탄산 함께 즐기 카페 에이드 예쁘 유리잔 얼음 탄산수 함께 톡톡 청량감 느끼 음료 부담 커피 대신 맛있 한잔 그립 볼레로 함께 마음 채우 힐링 티타임 과일 우유 과일 요거트 생각 플레인 요거트 우유 볼레로 더하 칼로리 걱정 없이 과일 레벨 여름 물론 위하 볼레로 아이스 만들 당류 간식 아이 너무 좋아하 볼레로 함께 아이스크림 부럽 볼레로 식단 관리 필요 니스 피플 또는 질병 때문 저칼로리 식품 당류 음료 필요 사람 유럽 인기 브랜드 식습관 자극적 변하 한국인 당류 섭취 대하 주의 필요 상황 그렇 하루 아침 당분 없이 자연인 며칠 지나 보상 심리 악순환 반복 볼레로 상큼 달달 국화과 허브 식물 추출 비아 사용 건강 더하 착하 단맛 체내 흡수 혈당 영향 설탕 대체 주목받 만큼 안심 드시 당류 음료 저칼로리 음료 들어가 설탕 대체재 고민 가요 볼레로 비아 비올 배당체 베이스 아세 적정 비율 기분 단맛 느끼 볼레로 글루텐 프리 프리 보존료 첨가 더욱 건강 드시 괜히 말하기 유난 건강 위하 식단 관리 괜히 주변 난리 경우 볼레로 가볍 가방 주머니 게다 맛있 친구 함께 나누 유난 보이 효과 편하 챙기 다니 수분 보충 준비 볼레로 클래 기호 따르 생수 드시 포장 구성 사이즈 가족 편하 즐기 볼레로 스틱 생수 바로 드시 포장 형태 간편 휴대 휴식 필요 시간 기분 전환 준비 가격 비싸 게다 매일 지속성 떨어지 볼레로 클래식 기준 그동안 매번 끓이 텀블러 편의점 카페 주문 직접 이동 볼레로 바로 착하 가격 편리함 갖추 품질 경영 시스템 바탕 원칙 절차 모두 포함 시스템 통합 통하 농장 식탁 소비자 안심 식품 드시 식품 안전 보장 식품 위해 요소 사전 예방 관리 식품 안전 관리 시스템 볼레로 제조 시설 위생적 안전 생산 볼레로 모두 성공 종료 통하 약속 드리 새롭 가장 먼저 선보이 먼저 새롭 볼레로 경험 맛보 바라 소개 한국 소비자 테스트 거치 가장 선호 가지 역시 선택 서포터 응원 빠르 시일 볼레로 들여오 새롭 볼레로 경험 선사 준비 일정 금액 이상 참여 하루 물마 시기 워터 플랜 함께 트라이 볼레로 전용 선물 드리 트라이 젖병 소재 사용 환경 친화 소재 변형 환경 호르몬 검출 소재 어떠 상황 워터 볼레로 즐기 안성맞춤 워터 활동적 건강 라이프 스타일 추구 사람 위하 볼레로 개발 스포츠 선수 개인 필요 의하 철저 식단 관리 사람 수분 보충 매우 중요 문제 많이 마시 솔루션 매번 시기 어려움 따르 마련 그래서 사람 원하 개발 당류 저칼로리 기본 볼레로 개발 초기 분말 형태 지향 플라스틱 병이 해변 오염 쓰레기 해변 쓰레기 유형 조사 결과 과대 포장 플라스틱 사용 발생 환경 오염 줄이 음료 완성품 아니 봉지 가루 형태 생각 볼레로 함께 지구 지키기 동참 지나 수많 유럽인 사랑받 개발 현재 계속 개발 전세계 소비자 볼레로 즐기 성공 진행 이벤트 성공 진행 이벤트 글로벌 시장 건강관리 우수 제품 수입 유통 푸드 라이프 스타일 회사 라이프 스타일 식습관 변화 인하 수시로 식단 관리 요구 하지만 대하 아쉬움 배고프 대하 괴로움 다시 되풀이 이벤트 단기적 포기 줄이 집중 제품 아니 즐거움 보장 지속 가능성 보장 제품 통하 건강 라이프 스타 일로 변화 만들 노력 볼레로 관심 애정 가지 주신 서포터 진심 감사 드리 볼레로 클래식 생수 또는 탄산수 그리 볼레로 스틱 희석 드시 준비 하지만 기호 맞추 물의 조절 시기 추천 드리 마시 칼로리 얼마나 볼레로 칼로리 가지 사이즈 마시 생수 볼레로 희석 마시 당분 볼레로 당류 국화과 허브 추출 착하 단맛 비아 로스 흡수 배출 때문 혈당 영향 미치 음용 주의 사항 볼레로 아세 성인 허용 섭취량 각각 매우 안전 물질 분류 볼레로 함유량 아세 희석 마시 경우 몸무게 성인 섭취 허용량 해당 대다수 경우 섭취 문제 평소 설탕 체제 경우 섭취량 줄이 권장 드리 유통 기한 어떻 볼레로 유통 기한 조일 직사 광선 피하 보관 더욱 배송 언제 성공적 끝나 영업 동안 결제 진행 순차적 배송 배송 진행 상황 소식 게시판 통하 전하 송지 결제 정보 변경 어떻 이미 마감일 내역 페이지 수정 교환 정책 어떻 리워드 수령 이내 와디 반환 정책 우선 교환 과정 경과 반환 어렵 리워드 수령 이후 손상 파손 불량 고시 교환 반환 불가 따르 리워드 하자 교환 반환 하나 신중히 결정 바라 리워드 수령 이후 고객 센터 신청 가능 교환 요청 정보 서포터 정보 일치 여부 확인 진행 리워드 하자 인하 교환 발생 비용 전액 메이커 부담 서포터 책임 사유 리워드 멸실 훼손 경우 단지 확인 위하 포장 훼손 제외 서포터 소비 의하 리워드 가치 감소 경우 시간 경과 인하 재판매 곤란 정도 리워드 가치 상실 경우 메이커 통하 교환 반환 접수 절차 없이 임의 반송 경우 단순 변심 경우 교환 반환 불가 단백 없이 바로 가슴살 비엔나 언제 조리 없이 바로 가슴살 소시지 서포터 최초 선보이 바로 제품 실온 보관 가능 이유 가지 과정 거치 때문 고온 고압 방울 스팀 살균 처리 가슴살 소시지 부드럽 유지 게다가 특수 필름 외부 공기 차단 식품 변질 요소 없애 무려 동안 오래 지속 직사 광선 피하 보관 여름철 이상 고온 일시 냉장 보관 권유 개봉 최대한 빨리 섭취 국내산 닭고기 함량 무려 이상 안심 드시 오리지널 단백질 청양 단백질 직장 생활 공부 하루 영양 밸런스 맞추 가슴살 비엔나 리워드 구성 가슴살 함께 섭취 단백질 가슴살 비엔나 오리지널 바로 가슴살 기준 수화물 과하 치우치 식단 변화 취지 추천 드리 식단 인위적 소시지 아니 풍미 느껴지 오리지널 톡톡 터지 재미 느끼 부드럽 소시지 청양 빨갛 매우 좋아하 팀장 최고 눈물 만들 아주 만족 매운맛 스트레스 자극적 종종 당기 그때 드시 매운맛 비엔나 샐러드 관리 매일 샐러드 지겹 비엔나소시지 느끼 비엔나 치즈 떡볶이 간식 아쉽 탄수화물 떡볶이 비엔나 소시지 비엔나 떡소 가능 고온 조리 안전 폴리프로필렌 소재 포장 내면 재질 만들 데우 바로 드시 맛있 전자 레인지 사용 정도 데우 이때 포장지 부풀 뜨겁 주의 바라 바로 실온 보관 가슴살 비엔나 혹여 매일 질리 가슴살 비엔나 소시지 만들 자신 선보이 식단 관리 사무실 일하 이동 회의 허기지 언제 바로 드시 가슴살 비엔나 안녕하 아침 주식회사 회사 실온 편식 전문 기업 어리 아침 엄마 급히 비닐봉지 주시 달걀 친구 떠들 수업 어느새 엄마 아침 발견 미안 마음 몰래 버리 달걀 마음 엄마 아침 언제나 신선 무균 기술 연구 개발 특허 실온 동안 보관 가능 달걀 가슴살 고구마 단호박 만들 요즘 아침 식사 거르 많이 계시 소비자 건강 식사 책임지 마음 편식 시장 뛰어들 아침 언제나 신선 철저 품질 관리 편식 제조 냉동 냉장 치부 가공 식품 실온 바꾸 연구 끊임없 테스트 통하 최고 감과 찾아내 출시 보람 느끼 제품 개발 연구 위하 이번 참여 와디 통하 후원금 모이 제품 개발 비용 재투자하 예정 다음 제품 평상시 힘들 바닷가 실온 보관 제품 만들 아침 주식회사 언제나 간편 제품 서포터 선보이 위하 최선 다하 연구 약속 드리 프로젝트 종료 결제 진행 종료 영업 동안 매일 오후 배송 시작 가능 순차 발송 택배 대하 통운 제주도 도서 산간 지역 추가 비용 리워드 선택 도서 산간 배송 추가 주세 관련 문의 아침 주식회사 고객 센터 달달 과즙 팡팡 과일 수수 주도 초당 수수 백초 수수 과일 퍼지 옥수수 함의 끝판 제주도 초당 수수 백초 수수 시작 순차적 배송 하루 최대 발송 가능 개수 대하 통운 택배 이용 포장 상태 종이 박스 포장 관련 문의 메이커 문의 이메일 문의 상담 가능 시간 평일 농부 부탁 고객 센터 정말 생으로 초당 수수 과일 수수 불리 정도 과일 아삭 감과 달달 자랑 물면 입안 수분 터지 감과 달달 매력적 개인 차이 보시 드시 취향 즐기 기가 가능 가요 초당 수수 당분 빠지 기가 서포터 전자 레인지 데우 드시 추천 드리 어떻 보관 수령 초당 수수 가장 속잎 제외 나머지 껍질 제거 흐르 먼지 헹구 그리고 당장 옥수수 남기 두고 모두 지퍼 혹은 반찬 혹은 보관 그리고 밀봉 초당 수수 냉장고 신선 냉장보관 최대 기간 당분 떨어지 초당 수수 오래 보관 방법 오래 보관 초당 수수 혹은 전자 레인지 데우 밀봉 냉동 보관 점차적 당도 떨어지 맛있 드시 최대한 빠르 시일 드시 권장 무료 배송 밥도둑 도둑 탄생 낙지 볶음 따로 맛있 낙지 쭈꾸미 만나 탱탱 캠핑 어울리 맛있 밥도둑 도둑 볶음 와디 최초 공개 낙지 쭈꾸미 엄선 조리 쭈꾸미 낙지 줄어들 탱글탱글 감이 유지 원물 수분 빼주 원물 수분 많이 머금 그만큼 중량 조리 시모 쪼그라들 그리고 분말 특제 가루 쭈꾸미 낙지 합하 특제 분말 가루 양념 겉돌 원물 베이 양념 그리고 정온 냉장 시간 배합 숙성 시간 가지 그렇 배합 시간 숙성 원물 상형 특제 양념 소스 배합 들어가 그리고 한번 정온 냉장 시간 배합 숙성 시간 가지 수년 만들 노하우 자체 개발 특제 비법 양념 사용 만들 때문 좋아하 매운맛 보통 신라 매운맛 감기 맛있 정도 아니 매운맛 드시 보시 권장 선택 후회 야식 볶음 드시 보신 브랜드 제품 한번 드시 보시 권장 어떻 다르 원물 얼마나 분명 느끼 야식 호불호 갈리 테스트 가지 브랜드 절대 아니 노하우 만들 진짜 맛있 야식 특제 양념 원물 그리고 배합 공정 거치 남다르 제조 공법 좋아하 맛있 자랑 요식업 업체 가공 식품 공급 손님 내놓 대하 고민 무수히 많이 제조사 비교 선택 맛과 서비스 우선 요식 업체 사장님 손잡 매년 거래 그만큼 대하 검증 반증 시간 축적 노하우 바탕 검증 탄생 불호 정말 맛있 매운맛 자랑 우선 당연히 인증 제조사 식품 제조 공장 안되 인증 사항 작업자 위생 관리 위생 대하 엄격 기준 가장 중요 생각 번째 약속 모든 원물 단계 세척 과정 거치 아주 중요 단계 세척 과정 절대로 우선 원물 망가지 공기 방울 때리 워터젯 버블 시스템 세척 세척 원물 물줄기 샤워 샤워 마치 원물 또다시 워터젯 버블 세척 진행하 정도 사실 사람 보다 훨씬 위생적 세척 하지만 아직 끝나 세척 과정 충분히 세척 원물 마지막 샤워 먹거리 준비 이렇게 세척 과정 거치 원물 마지막 선별 작업 이루어지 선별 관리자 위생 복장 완벽 갖추 혹시 모르 이물질 걸르 선별 작업 모두 거치 비로소 식품 만들 준비 시작 먹거리 무조건 안전 만들 신념 정량 소분 위하 자체 개발 도입 시스템 직접 설계 기기 기기 사람 일일 작업 소분 실제로 대기업 제외 대부분 식품 제조 시설 여전히 사람 필요 공정 유지 중량 어떻 원물 양념 많이 실상 별로 제품 만들 사실 중량 미달 제품 무게 센서 감지 하여가 없이 걸르 사람 역시 사람 정확 핵심 정량 정확히 지키 제조 시설 따르 어렵 정량 분기 원물 함량 더욱 높이 만들 때문 선보이 야식 드시 원물 중량 무려 이상 가장 이상적 원물 양념 중량 중원 가득 그렇 만들 싱겁 양념 들어가 그래서 낙지 쭈꾸미 비율 이상 가득 채우 아니 정직 인분 만들 물론 결정 이렇게 내드리 이익 정말 하지만 이번 리워드 통하 이익 위하 아니 좀더 소개 드시 보시 목표 그리고 정말 맛있 한번 다시 바라 진심 다하 마음 준비 리워드 이익 최소 한의 운영비 도로 리워드 돌리 그대로 드림 리워드 말씀드리 지금껏 수년 전국 이즈 대기업 식품 제조 납품 해오 식품 제조 공장 생산 시설 규모 제조사 지금껏 요식 업체 요구 사항 충족 거래처 원하 가공 식품 만들 납품 바쁘 제조사 갑자기 아프 이야기 조심 꺼내 안타깝 현재 가지 바꾸 시국 인하 고통 사람 사라지 기업 늘어나 영업시간 인원 제한 요식 업체 주점 결국 주로 거래 요식 업체 힘들 제조사 역시 일거리 힘들 마찬가지 직접 우리 브랜드 만들 제일 잘하 식품 제조 간의 노하우 생산력 바탕 만들 세상 알리 야식 안주 기본 야식 그리하 힘들 지금 한잔 땡기 볶음 구이 검증 피로 제대 만들 사람 즐겁 야식 만들 배경 통하 처음 선보이 볶음 양심 열정 선보이'"
      ]
     },
     "execution_count": 22,
     "metadata": {},
     "output_type": "execute_result"
    }
   ],
   "source": [
    "totalw"
   ]
  },
  {
   "cell_type": "code",
   "execution_count": 23,
   "metadata": {},
   "outputs": [],
   "source": [
    "Xdata=df[['text']].values\n",
    "Ydata=df[['label']].values"
   ]
  },
  {
   "cell_type": "code",
   "execution_count": 24,
   "metadata": {},
   "outputs": [
    {
     "data": {
      "text/plain": [
       "614"
      ]
     },
     "execution_count": 24,
     "metadata": {},
     "output_type": "execute_result"
    }
   ],
   "source": [
    "num=len(Xdata)*0.2\n",
    "num = int(num)\n",
    "num"
   ]
  },
  {
   "cell_type": "code",
   "execution_count": 25,
   "metadata": {},
   "outputs": [],
   "source": [
    "X_train=np.array(Xdata[:-num])\n",
    "Y_train=np.array(Ydata[:-num])\n",
    "x_test=np.array(Xdata[-num:])\n",
    "y_test=np.array(Ydata[-num:])"
   ]
  },
  {
   "cell_type": "code",
   "execution_count": 26,
   "metadata": {},
   "outputs": [
    {
     "data": {
      "text/plain": [
       "array([\"[이게 마늘 꽃이라구요?] 입안 가득 풍미 팡! 마늘종 페스토\\n    우리집 빵도둑!!! 깊고 진한 풍미의 향연을 느낄 수 있는 '마늘종페스토'\\n그리고 '썬드라이토마토'입니다.\\n로컬 농산물로 만들어가는 참신하고 매력적인 푸드를 지금 경험해보세요.\\n    \\n      지난 2월 용산 아이파크몰, 자투리마켓에서 깜짝 신제품을 첫 공개했습니다.정식 출시하기 전에 오프라인 마켓에서 집적 만나 뵙고 시식 평을 통해 더 좋은 제품으로 보완하고 싶었거든요!    한분 한분 시식평을 여쭈었고 정말 귀하고 값진 피드백들을 얻을 수 있었어요.첫 도전이었지만 뜨거운 반응 덕분에 마늘종 페스토는 전일 품절되었고 이후에도 구매 문의가 쇄도했어요.    많은 분들의 성원 덕분에 와디즈에 도전하기로 결심했고,소중한 피드백을 제품에 적!극! 반영하여 업그레이드하였습니다.온라인에서 정식으로 공개되는 마늘종페스토 & 썬드라이토마토를 와디즈에서 제일 처음 만나보세요.  마늘종으로 만든 페스토라구요?  네.. 푸드계의 신박기획..저희 쿠클리가 또 일냈습니다.이번 캐스팅은 마늘 농가에서도 가치를 외면받던 마늘종이에요. 마늘종은 마늘에 비하여 가치를 인정받지 못하는 농산물이지만사실은 우리가 먹는 마늘만큼 영양가도 풍부하고 엽산, 비타민 K 까지\\xa0갖추고 있답니다.  저희는 '넥스트로컬'에 참여하여 의성 지역조사 중, 의성이 마늘 최대 생산지임에도 불구하고마늘 수확 전 대부분의 마늘종이 버려진다는 사실을 알게 되었습니다.     저번 펀딩에서 국내산 등급외 양파를 이용한 '양파 카라멜라이징'으로 만나 뵈었던 것 기억하시나요?\\x08\\x08이번에도 농산물의 새로운 가치를 전파하기 위하여 저희가 나섰습니다.    만족도 5.0 의 자부심으로 다시 돌아온 두 번째 프로젝트는\\xa0마늘종을 이용한\\xa0'마늘종페스토'에요! 국내 농산물의 새로운 가치를 또 한 번 맛있게 소개해드릴께요. (쿠~야호!!!)   재택근무가 많아지고 주말에도 집에서 보내는 날이 많아진 요즘 시국!나를 위한 근사한 홈브런치 어떠세요?       빵이면 빵! 밥이면 밥! 면이면 면!한 스푼에 풍미 팡~! 마늘종페스토와 썬드라이토마토를 조합하여 정말 다양한 브런치 메뉴에 활용해 볼 수 있답니다!    시판 잼이나 소스의 식상함에서 벗어날 수 있는 손쉬운 요리들 추천해드릴께요!      열처리 없는 생 페스토는 유통기한은 짧아지지만 원재료 본연의 맛과 신선함이 살아있어 차원이 다른 맛을 냅니다.쿠클리는 생 페스토만을 고집하여 갈변 현상이 적고 초록 빛깔이 살아있는 신선한 페스토를 만듭니다.   또 생페스토이기 때문에 은은한 마늘종과 바질 향이 살아있고 상큼함 또한 느낄 수 있어요. 노력이 더 들더라도 자체생산,\\xa0소량 생산을 통해 집에서 갓 만든 것 같은 페스토를 만들고자 합니다.  페스토러버 서포터분들!!와디즈에 등장했을 때 얼른 겟해야 가장 프레시하고 맛있답니다.   마늘종페스토와 썬드라이토마토의 디테일한 원재료들을 소개할께요.합성 첨가물 및 착향료 등은 일체 없구요,재료 하나하나 따져 집적 수급한 건강한 농산물 및 재료들만 담겨 있습니다.  쿠클리 마늘종페스토는 마늘종에 바질과 레몬을 더하여 더욱 풍부한 맛을 냅니다.로스팅 된 캐슈넛의 고소함도 은은하게 느낄 수 있구요.소금은 최소화하고 그라나파다노, 파마산 두 가지 치즈를 사용하여 짭짤함을 잡아주었기 때문에그냥 먹기에도 좋고 다른 재료와 섞여도 간을 조절하기 쉽답니다!   쿠클리 썬드라이 토마토는 유기농\\xa0대추 방울토마토를 정성껏 건조하여 사용해요.토마토를 오랜시간 알맞은 온도로 건조하면 본연의 새콤달콤 + 짭조름한 맛이 극대화되고 수분이 날아가며 식감도 쫀득하게\\xa0변해요! 생토마토보다 영양가도 높아지는건 덤!또 엑스트라 버진 올리브유에 마늘과 바질, 오레가노 등의 허브와 함께 절여 향긋한 감칠맛을 느낄 수 있어요. 쿠클리는 서울시 청년과 로컬이 상생하는 프로젝트 <넥스트로컬>에 선정되어 국내의 농가와 협업하여 집적 주재료를 수급하고 있어요.국내산 농산물로 만드는 이탈리안 페스토라니 매력적이지 않나요? ‘쿠클리’의 제품은 공유주방 '위쿡'에서 철저한 위생관리하에 자체 생산합니다.이번 페스토는 신선함에 사활을 걸었기 때문에 와디즈 펀딩을 통해 적정 생산하고 신속하게 유통할 계획입니다.   마늘종을 현대인들의 입맛을 사로잡을 수 있는 식품으로 만드는 것은 쉽지만은 않았습니다.1여년 동안 고민하고 연구하며 여러 사람들에게 많은 도움을 구했습니다.다양한 제품개발 시도와 소비자 테스트 끝에 이탈리안 바질 페스토에서 착안한 마늘종페스토가 탄생하였습니다. 작년 말에 와디즈에서\\xa0‘양파 카라멜라이징’ 프로젝트를 진행하여 성공적인 첫 프로젝트를 선보인 이후마늘종 페스토로 다시 돌아왔답니다. (지금은 오늘의식탁에서 쿠클리로 팀명이 바뀌었어요 :)    ‘어쩌다 사장'이 되었지만 많은 분들의 응원과 호응 덕에 지금은 누구보다도 진지한 부부 창업단이 되었습니다.\\xa0 저번 펀딩에서도 지역 농가의 양파를 이용하여 ‘간편하고 맛있는 양파 카라멜라이징'이라는 새로운 경험을 선사해드렸던 것처럼 이번에도 지역 농가의 마늘종과 토마토를 이용하여 새로운 경험을 전해드리고자 합니다.\\xa0   특히 이번엔 외면받는 마늘종을 이용한 새로운 시도였기 때문에 농가에서의 수확에도 참여하면서 농부 분들과 함께 땀 흘리며 진심을 더하였습니다.\\xa0 저희가 만들어가는 먹거리들이 서포터님들 일상의 소소한 행복에 보탬이 되길 바랍니다. 쿠클리 마늘종페스토는 다른 데에 서는 쉽게 볼 수 없는 도전적인 제품이랍니다.와디즈 서포터 분들은 새로움을 받아들이시는 데에 열려 계시고 트랜드를 선도하는 먹리어답터 분들이 많으시기에 와디즈 펀딩을 통하여 제품 첫선을 보이게 되었답니다!   펀딩이 성공하게 된다면 계획은 다음과 같습니다! - 색다르고 맛있는 경험을 제공해줄 식품 패키지 생산 - 신선하게 제품을 전달할 배송 관련 비용 문의 채널 : 카카오톡 플러스친구/공식 인스타그램 DM으로 문의주세요.카카오톡 플러스친구 바로가기공식 인스타그램 바로가기  \"],\n",
       "      dtype=object)"
      ]
     },
     "execution_count": 26,
     "metadata": {},
     "output_type": "execute_result"
    }
   ],
   "source": [
    "X_train[0]"
   ]
  },
  {
   "cell_type": "code",
   "execution_count": null,
   "metadata": {},
   "outputs": [],
   "source": []
  },
  {
   "cell_type": "code",
   "execution_count": null,
   "metadata": {},
   "outputs": [],
   "source": []
  },
  {
   "cell_type": "code",
   "execution_count": null,
   "metadata": {},
   "outputs": [],
   "source": []
  },
  {
   "cell_type": "code",
   "execution_count": null,
   "metadata": {},
   "outputs": [],
   "source": []
  }
 ],
 "metadata": {
  "kernelspec": {
   "display_name": "Python 3",
   "language": "python",
   "name": "python3"
  },
  "language_info": {
   "codemirror_mode": {
    "name": "ipython",
    "version": 3
   },
   "file_extension": ".py",
   "mimetype": "text/x-python",
   "name": "python",
   "nbconvert_exporter": "python",
   "pygments_lexer": "ipython3",
   "version": "3.8.5"
  }
 },
 "nbformat": 4,
 "nbformat_minor": 4
}

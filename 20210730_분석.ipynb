{
 "cells": [
  {
   "cell_type": "markdown",
   "id": "b0feb369",
   "metadata": {},
   "source": [
    "# 0730 newDB 불러오기\n",
    "    - 시각화 해보자 "
   ]
  },
  {
   "cell_type": "code",
   "execution_count": 1,
   "id": "eddcf54b",
   "metadata": {},
   "outputs": [],
   "source": [
    "import requests\n",
    "from bs4 import BeautifulSoup as bsp\n",
    "import numpy as np\n",
    "import pandas as pd\n",
    "import matplotlib as mpl\n",
    "import matplotlib.pyplot as plt\n",
    "import sqlite3"
   ]
  },
  {
   "cell_type": "code",
   "execution_count": 2,
   "id": "f6d0f6bf",
   "metadata": {},
   "outputs": [],
   "source": [
    "# PYTHON으로 SQLITE3의 DB에 데이터 담기\n",
    "dbname='20210726_newDB.db'\n",
    "def insData(d, tblname='wadiznew'):\n",
    "    with sqlite3.connect(dbname) as conn:\n",
    "        cur=conn.cursor()\n",
    "        sql='select * from '+tblname+' where ncategory=\"'+d+'\"'\n",
    "        ckkey=cur.execute(sql).fetchall()\n",
    "        if ckkey:\n",
    "            return ckkey"
   ]
  },
  {
   "cell_type": "code",
   "execution_count": 3,
   "id": "378fa70a",
   "metadata": {},
   "outputs": [
    {
     "name": "stdout",
     "output_type": "stream",
     "text": [
      "data는  3069 개\n"
     ]
    }
   ],
   "source": [
    "# df 뽑아내는 함수\n",
    "def category(i):\n",
    "    cate=['테크·가전', '패션·잡화', '뷰티', '푸드', '홈리빙', '여행·레저', '스포츠·모빌리티', '공연·컬쳐', \n",
    "          '베이비·키즈', '반려동물', '게임·취미', '클래스', '출판', '디자인소품', '소셜·캠페인', '기부·후원', '모임']\n",
    "    data=insData(cate[i])\n",
    "    df=pd.DataFrame(data)\n",
    "    names=['idx','category','name','title','content','supporter','amount','percent','fund','start','end','numofpics','community','key']\n",
    "    df.columns=names\n",
    "    return df\n",
    "\n",
    "# 스포츠모빌리티 선택(6)\n",
    "df=category(1)\n",
    "print('data는 ', len(df), '개')"
   ]
  },
  {
   "cell_type": "code",
   "execution_count": 4,
   "id": "be6b99b0",
   "metadata": {
    "tags": []
   },
   "outputs": [
    {
     "data": {
      "text/html": [
       "<div>\n",
       "<style scoped>\n",
       "    .dataframe tbody tr th:only-of-type {\n",
       "        vertical-align: middle;\n",
       "    }\n",
       "\n",
       "    .dataframe tbody tr th {\n",
       "        vertical-align: top;\n",
       "    }\n",
       "\n",
       "    .dataframe thead th {\n",
       "        text-align: right;\n",
       "    }\n",
       "</style>\n",
       "<table border=\"1\" class=\"dataframe\">\n",
       "  <thead>\n",
       "    <tr style=\"text-align: right;\">\n",
       "      <th></th>\n",
       "      <th>idx</th>\n",
       "      <th>category</th>\n",
       "      <th>name</th>\n",
       "      <th>title</th>\n",
       "      <th>content</th>\n",
       "      <th>supporter</th>\n",
       "      <th>amount</th>\n",
       "      <th>percent</th>\n",
       "      <th>fund</th>\n",
       "      <th>start</th>\n",
       "      <th>end</th>\n",
       "      <th>numofpics</th>\n",
       "      <th>community</th>\n",
       "      <th>key</th>\n",
       "    </tr>\n",
       "  </thead>\n",
       "  <tbody>\n",
       "    <tr>\n",
       "      <th>0</th>\n",
       "      <td>2260</td>\n",
       "      <td>패션·잡화</td>\n",
       "      <td>카라</td>\n",
       "      <td>[5억달성] 슬링백과 백팩을 합치면?노트북 들어가는 방수 소가죽 빅슬링</td>\n",
       "      <td>\\n    전문기관에서 시행된 테스트에 통과된 자체 개발 방수 소가죽을 사용, 도시...</td>\n",
       "      <td>163</td>\n",
       "      <td>18,352,400</td>\n",
       "      <td>3670</td>\n",
       "      <td>500,000원</td>\n",
       "      <td>2021-06-02</td>\n",
       "      <td>2021-07-09</td>\n",
       "      <td>39</td>\n",
       "      <td>22</td>\n",
       "      <td>https://www.wadiz.kr/web/campaign/detail/10008...</td>\n",
       "    </tr>\n",
       "    <tr>\n",
       "      <th>1</th>\n",
       "      <td>2261</td>\n",
       "      <td>패션·잡화</td>\n",
       "      <td>(주)이랜드월드패션사업부</td>\n",
       "      <td>에블린에서 만든 심리스 브라! 가벼움과 볼륨감을 한번에 잡은 [힐링브라]</td>\n",
       "      <td>\\n    홑겹처럼 가볍게, 니플커버는 완벽하게, 볼륨은 UP! \\n단 하나도 놓치...</td>\n",
       "      <td>815</td>\n",
       "      <td>60,266,900</td>\n",
       "      <td>3013</td>\n",
       "      <td>2,000,000원</td>\n",
       "      <td>2021-06-29</td>\n",
       "      <td>2021-07-19</td>\n",
       "      <td>139</td>\n",
       "      <td>122</td>\n",
       "      <td>https://www.wadiz.kr/web/campaign/detail/104990</td>\n",
       "    </tr>\n",
       "    <tr>\n",
       "      <th>2</th>\n",
       "      <td>2262</td>\n",
       "      <td>패션·잡화</td>\n",
       "      <td>위플레이코리아(주)</td>\n",
       "      <td>와인러버의 잇아이템! 칠링백 겸용 와인캐리어 by 와인문화공간 성수</td>\n",
       "      <td>\\n    자유로운 두 손, 와인의 안정적인 이동과 함께 시원함까지 책임질 와인러버...</td>\n",
       "      <td>115</td>\n",
       "      <td>3,706,100</td>\n",
       "      <td>370</td>\n",
       "      <td>1,000,000원</td>\n",
       "      <td>2021-06-29</td>\n",
       "      <td>2021-07-12</td>\n",
       "      <td>44</td>\n",
       "      <td>14</td>\n",
       "      <td>https://www.wadiz.kr/web/campaign/detail/118441</td>\n",
       "    </tr>\n",
       "  </tbody>\n",
       "</table>\n",
       "</div>"
      ],
      "text/plain": [
       "    idx category           name                                     title  \\\n",
       "0  2260    패션·잡화             카라  [5억달성] 슬링백과 백팩을 합치면?노트북 들어가는 방수 소가죽 빅슬링    \n",
       "1  2261    패션·잡화  (주)이랜드월드패션사업부  에블린에서 만든 심리스 브라! 가벼움과 볼륨감을 한번에 잡은 [힐링브라]   \n",
       "2  2262    패션·잡화     위플레이코리아(주)     와인러버의 잇아이템! 칠링백 겸용 와인캐리어 by 와인문화공간 성수   \n",
       "\n",
       "                                             content supporter      amount  \\\n",
       "0  \\n    전문기관에서 시행된 테스트에 통과된 자체 개발 방수 소가죽을 사용, 도시...       163  18,352,400   \n",
       "1  \\n    홑겹처럼 가볍게, 니플커버는 완벽하게, 볼륨은 UP! \\n단 하나도 놓치...       815  60,266,900   \n",
       "2  \\n    자유로운 두 손, 와인의 안정적인 이동과 함께 시원함까지 책임질 와인러버...       115   3,706,100   \n",
       "\n",
       "  percent        fund       start         end numofpics community  \\\n",
       "0    3670    500,000원  2021-06-02  2021-07-09        39        22   \n",
       "1    3013  2,000,000원  2021-06-29  2021-07-19       139       122   \n",
       "2     370  1,000,000원  2021-06-29  2021-07-12        44        14   \n",
       "\n",
       "                                                 key  \n",
       "0  https://www.wadiz.kr/web/campaign/detail/10008...  \n",
       "1    https://www.wadiz.kr/web/campaign/detail/104990  \n",
       "2    https://www.wadiz.kr/web/campaign/detail/118441  "
      ]
     },
     "execution_count": 4,
     "metadata": {},
     "output_type": "execute_result"
    }
   ],
   "source": [
    "df.head(3)"
   ]
  },
  {
   "cell_type": "code",
   "execution_count": null,
   "id": "5c099b7e",
   "metadata": {},
   "outputs": [],
   "source": []
  },
  {
   "cell_type": "code",
   "execution_count": null,
   "id": "d68b7b5e",
   "metadata": {},
   "outputs": [],
   "source": []
  },
  {
   "cell_type": "code",
   "execution_count": null,
   "id": "bac7ac62",
   "metadata": {},
   "outputs": [],
   "source": []
  },
  {
   "cell_type": "code",
   "execution_count": null,
   "id": "34217720",
   "metadata": {},
   "outputs": [],
   "source": []
  },
  {
   "cell_type": "code",
   "execution_count": null,
   "id": "4b03dc01",
   "metadata": {},
   "outputs": [],
   "source": []
  }
 ],
 "metadata": {
  "kernelspec": {
   "display_name": "Python 3",
   "language": "python",
   "name": "python3"
  },
  "language_info": {
   "codemirror_mode": {
    "name": "ipython",
    "version": 3
   },
   "file_extension": ".py",
   "mimetype": "text/x-python",
   "name": "python",
   "nbconvert_exporter": "python",
   "pygments_lexer": "ipython3",
   "version": "3.7.0"
  }
 },
 "nbformat": 4,
 "nbformat_minor": 5
}

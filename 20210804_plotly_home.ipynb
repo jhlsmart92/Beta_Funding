{
 "cells": [
  {
   "cell_type": "code",
   "execution_count": 2,
   "id": "79821d9e",
   "metadata": {},
   "outputs": [],
   "source": [
    "# pickle 저장된 파일 불러오기\n",
    "import pickle\n",
    "with open('.category17.pkl', 'rb') as f:\n",
    "    fdf, fdf_home, fdf_food, fdf_fashion, fdf_beauty, fdf_tech, fdf_article, fdf_pet, fdf_social, fdf_travel, fdf_sport, fdf_curture, fdf_publishing, fdf_kid, fdf_class, fdf_game, fdf_donation, fdf_club = pickle.load(f)"
   ]
  },
  {
   "cell_type": "code",
   "execution_count": 3,
   "id": "8fd7edd4",
   "metadata": {
    "tags": []
   },
   "outputs": [
    {
     "data": {
      "text/html": [
       "<div>\n",
       "<style scoped>\n",
       "    .dataframe tbody tr th:only-of-type {\n",
       "        vertical-align: middle;\n",
       "    }\n",
       "\n",
       "    .dataframe tbody tr th {\n",
       "        vertical-align: top;\n",
       "    }\n",
       "\n",
       "    .dataframe thead th {\n",
       "        text-align: right;\n",
       "    }\n",
       "</style>\n",
       "<table border=\"1\" class=\"dataframe\">\n",
       "  <thead>\n",
       "    <tr style=\"text-align: right;\">\n",
       "      <th></th>\n",
       "      <th>ncategory</th>\n",
       "      <th>nname</th>\n",
       "      <th>ntitle</th>\n",
       "      <th>ncontent</th>\n",
       "      <th>nsupport</th>\n",
       "      <th>namount</th>\n",
       "      <th>npercent</th>\n",
       "      <th>nfund</th>\n",
       "      <th>nstart</th>\n",
       "      <th>nend</th>\n",
       "      <th>nnumofpics</th>\n",
       "      <th>ncommunity</th>\n",
       "      <th>encore</th>\n",
       "    </tr>\n",
       "    <tr>\n",
       "      <th>idx</th>\n",
       "      <th></th>\n",
       "      <th></th>\n",
       "      <th></th>\n",
       "      <th></th>\n",
       "      <th></th>\n",
       "      <th></th>\n",
       "      <th></th>\n",
       "      <th></th>\n",
       "      <th></th>\n",
       "      <th></th>\n",
       "      <th></th>\n",
       "      <th></th>\n",
       "      <th></th>\n",
       "    </tr>\n",
       "  </thead>\n",
       "  <tbody>\n",
       "    <tr>\n",
       "      <th>11121</th>\n",
       "      <td>홈리빙</td>\n",
       "      <td>(주)웰보우</td>\n",
       "      <td>[4억 신화, 1초 마법텀블러] 뽁!딱! 확달라진 꼬꼬마 9온즈</td>\n",
       "      <td>\\n    [1초 마법텀블러] 손안에 쏙~ 휴대성 업! 프리미엄 신상 꼬꼬마 9온즈...</td>\n",
       "      <td>201</td>\n",
       "      <td>9781300</td>\n",
       "      <td>978</td>\n",
       "      <td>1000000</td>\n",
       "      <td>2021-06-17</td>\n",
       "      <td>2021-07-12</td>\n",
       "      <td>72</td>\n",
       "      <td>35</td>\n",
       "      <td>0</td>\n",
       "    </tr>\n",
       "    <tr>\n",
       "      <th>11122</th>\n",
       "      <td>홈리빙</td>\n",
       "      <td>주식회사 지비스텔라</td>\n",
       "      <td>[12,550%달성] 트랜스포머 펠리칸스탠드가 마지막 로 돌아왔습니다</td>\n",
       "      <td>\\n    트랜스포머 펠리칸스탠드가 진화하여 마지막 로 돌아왔습니다! 여러분의 소중...</td>\n",
       "      <td>1325</td>\n",
       "      <td>90957400</td>\n",
       "      <td>9095</td>\n",
       "      <td>1000000</td>\n",
       "      <td>2021-06-29</td>\n",
       "      <td>2021-07-26</td>\n",
       "      <td>104</td>\n",
       "      <td>56</td>\n",
       "      <td>1</td>\n",
       "    </tr>\n",
       "    <tr>\n",
       "      <th>11123</th>\n",
       "      <td>홈리빙</td>\n",
       "      <td>주식회사케이티</td>\n",
       "      <td>Y X 오버랩 #제로웨이스트챌린지ㅣ패러글라이더로 우산과 판초를!</td>\n",
       "      <td>\\n    하늘을 날기 위해 견고하고 가벼운 기능성 소재로 만들어진 패러글라이더의 ...</td>\n",
       "      <td>357</td>\n",
       "      <td>16685000</td>\n",
       "      <td>417</td>\n",
       "      <td>4000000</td>\n",
       "      <td>2021-06-29</td>\n",
       "      <td>2021-07-05</td>\n",
       "      <td>61</td>\n",
       "      <td>32</td>\n",
       "      <td>0</td>\n",
       "    </tr>\n",
       "  </tbody>\n",
       "</table>\n",
       "</div>"
      ],
      "text/plain": [
       "      ncategory       nname                                  ntitle  \\\n",
       "idx                                                                   \n",
       "11121       홈리빙      (주)웰보우     [4억 신화, 1초 마법텀블러] 뽁!딱! 확달라진 꼬꼬마 9온즈   \n",
       "11122       홈리빙  주식회사 지비스텔라  [12,550%달성] 트랜스포머 펠리칸스탠드가 마지막 로 돌아왔습니다   \n",
       "11123       홈리빙     주식회사케이티     Y X 오버랩 #제로웨이스트챌린지ㅣ패러글라이더로 우산과 판초를!   \n",
       "\n",
       "                                                ncontent  nsupport   namount  \\\n",
       "idx                                                                            \n",
       "11121  \\n    [1초 마법텀블러] 손안에 쏙~ 휴대성 업! 프리미엄 신상 꼬꼬마 9온즈...       201   9781300   \n",
       "11122  \\n    트랜스포머 펠리칸스탠드가 진화하여 마지막 로 돌아왔습니다! 여러분의 소중...      1325  90957400   \n",
       "11123  \\n    하늘을 날기 위해 견고하고 가벼운 기능성 소재로 만들어진 패러글라이더의 ...       357  16685000   \n",
       "\n",
       "       npercent    nfund      nstart        nend  nnumofpics  ncommunity  \\\n",
       "idx                                                                        \n",
       "11121       978  1000000  2021-06-17  2021-07-12          72          35   \n",
       "11122      9095  1000000  2021-06-29  2021-07-26         104          56   \n",
       "11123       417  4000000  2021-06-29  2021-07-05          61          32   \n",
       "\n",
       "       encore  \n",
       "idx            \n",
       "11121       0  \n",
       "11122       1  \n",
       "11123       0  "
      ]
     },
     "execution_count": 3,
     "metadata": {},
     "output_type": "execute_result"
    }
   ],
   "source": [
    "fdf_home.head(3)"
   ]
  },
  {
   "cell_type": "code",
   "execution_count": 6,
   "id": "e85ae792-dccd-4b70-84e8-31663d1c78f2",
   "metadata": {},
   "outputs": [
    {
     "name": "stdout",
     "output_type": "stream",
     "text": [
      "Collecting wordcloud\n",
      "  Downloading wordcloud-1.8.1-cp37-cp37m-win_amd64.whl (154 kB)\n",
      "Requirement already satisfied: numpy>=1.6.1 in c:\\users\\pc\\anaconda3\\envs\\py37\\lib\\site-packages (from wordcloud) (1.21.1)\n",
      "Requirement already satisfied: pillow in c:\\users\\pc\\anaconda3\\envs\\py37\\lib\\site-packages (from wordcloud) (8.3.1)\n",
      "Requirement already satisfied: matplotlib in c:\\users\\pc\\anaconda3\\envs\\py37\\lib\\site-packages (from wordcloud) (3.4.2)\n",
      "Requirement already satisfied: kiwisolver>=1.0.1 in c:\\users\\pc\\anaconda3\\envs\\py37\\lib\\site-packages (from matplotlib->wordcloud) (1.3.1)\n",
      "Requirement already satisfied: python-dateutil>=2.7 in c:\\users\\pc\\anaconda3\\envs\\py37\\lib\\site-packages (from matplotlib->wordcloud) (2.8.2)\n",
      "Requirement already satisfied: pyparsing>=2.2.1 in c:\\users\\pc\\anaconda3\\envs\\py37\\lib\\site-packages (from matplotlib->wordcloud) (2.4.7)\n",
      "Requirement already satisfied: cycler>=0.10 in c:\\users\\pc\\anaconda3\\envs\\py37\\lib\\site-packages (from matplotlib->wordcloud) (0.10.0)\n",
      "Requirement already satisfied: six in c:\\users\\pc\\anaconda3\\envs\\py37\\lib\\site-packages (from cycler>=0.10->matplotlib->wordcloud) (1.15.0)\n",
      "Installing collected packages: wordcloud\n",
      "Successfully installed wordcloud-1.8.1\n",
      "Note: you may need to restart the kernel to use updated packages.\n"
     ]
    }
   ],
   "source": [
    "pip install wordcloud"
   ]
  },
  {
   "cell_type": "code",
   "execution_count": 8,
   "id": "66bb280c-58be-4a91-b0af-b57c41d862b3",
   "metadata": {},
   "outputs": [
    {
     "name": "stdout",
     "output_type": "stream",
     "text": [
      "Collecting plotly\n",
      "  Downloading plotly-5.1.0-py2.py3-none-any.whl (20.6 MB)\n",
      "Requirement already satisfied: six in c:\\users\\pc\\anaconda3\\envs\\py37\\lib\\site-packages (from plotly) (1.15.0)\n",
      "Collecting tenacity>=6.2.0\n",
      "  Downloading tenacity-8.0.1-py3-none-any.whl (24 kB)\n",
      "Installing collected packages: tenacity, plotly\n",
      "Successfully installed plotly-5.1.0 tenacity-8.0.1\n",
      "Note: you may need to restart the kernel to use updated packages.\n"
     ]
    }
   ],
   "source": [
    "pip install plotly"
   ]
  },
  {
   "cell_type": "code",
   "execution_count": 9,
   "id": "5d335dc3",
   "metadata": {},
   "outputs": [
    {
     "data": {
      "text/html": [
       "        <script type=\"text/javascript\">\n",
       "        window.PlotlyConfig = {MathJaxConfig: 'local'};\n",
       "        if (window.MathJax) {MathJax.Hub.Config({SVG: {font: \"STIX-Web\"}});}\n",
       "        if (typeof require !== 'undefined') {\n",
       "        require.undef(\"plotly\");\n",
       "        requirejs.config({\n",
       "            paths: {\n",
       "                'plotly': ['https://cdn.plot.ly/plotly-2.2.0.min']\n",
       "            }\n",
       "        });\n",
       "        require(['plotly'], function(Plotly) {\n",
       "            window._Plotly = Plotly;\n",
       "        });\n",
       "        }\n",
       "        </script>\n",
       "        "
      ]
     },
     "metadata": {},
     "output_type": "display_data"
    }
   ],
   "source": [
    "# 플로틀리 시각화 시작\n",
    "import numpy as np\n",
    "import pandas as pd\n",
    "from wordcloud import WordCloud\n",
    "\n",
    "from plotly.offline import init_notebook_mode, iplot, plot\n",
    "init_notebook_mode(connected=True)\n",
    "\n",
    "import plotly.io as pio\n",
    "import plotly.graph_objs as go\n",
    "import plotly.express as px\n",
    "import plotly.figure_factory as ff\n",
    "from plotly.subplots import make_subplots\n",
    "from plotly.validators.scatter.marker import SymbolValidator"
   ]
  },
  {
   "cell_type": "code",
   "execution_count": null,
   "id": "9420fcca",
   "metadata": {},
   "outputs": [],
   "source": [
    "fig1= px.scatter(fdf, x=fdf.ncategory, y=fdf.namount, color='ncategory')\n",
    "fig1.show()"
   ]
  },
  {
   "cell_type": "code",
   "execution_count": null,
   "id": "34fa3337",
   "metadata": {},
   "outputs": [],
   "source": []
  }
 ],
 "metadata": {
  "kernelspec": {
   "display_name": "Python 3",
   "language": "python",
   "name": "python3"
  },
  "language_info": {
   "codemirror_mode": {
    "name": "ipython",
    "version": 3
   },
   "file_extension": ".py",
   "mimetype": "text/x-python",
   "name": "python",
   "nbconvert_exporter": "python",
   "pygments_lexer": "ipython3",
   "version": "3.7.0"
  }
 },
 "nbformat": 4,
 "nbformat_minor": 5
}

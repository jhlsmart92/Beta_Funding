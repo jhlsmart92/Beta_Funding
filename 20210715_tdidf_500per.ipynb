{
 "cells": [
  {
   "cell_type": "markdown",
   "metadata": {},
   "source": [
    "## 0715_1: 500percent 이상 1_tfidf"
   ]
  },
  {
   "cell_type": "code",
   "execution_count": 1,
   "metadata": {},
   "outputs": [],
   "source": [
    "import requests\n",
    "from bs4 import BeautifulSoup as bsp\n",
    "import numpy as np\n",
    "import pandas as pd\n",
    "import matplotlib as mpl\n",
    "import matplotlib.pyplot as plt\n",
    "import sqlite3\n",
    "\n",
    "from matplotlib import font_manager,rc\n",
    "font_path=\"C:\\Windows\\Fonts\\malgun.ttf\"\n",
    "font=font_manager.FontProperties(fname=font_path).get_name()\n",
    "rc('font',family=font)\n",
    "\n",
    "from eunjeon import Mecab\n",
    "tagger=Mecab()"
   ]
  },
  {
   "cell_type": "code",
   "execution_count": 2,
   "metadata": {},
   "outputs": [],
   "source": [
    "def tknWord(txt,cntlimit=1):\n",
    "    kpos=tagger.pos(txt)\n",
    "    cate=['NNG','MAG','VV','NNP','NNB','VA','VCP','VCN','MAC','MAJ','SF','VV+EC','VV+EP','EP','XR','VV+ETM']\n",
    "    tkn=[]\n",
    "    #print(kpos)\n",
    "    for k in kpos:\n",
    "        if(k[1] in cate):\n",
    "            if(len(k[0])>cntlimit):\n",
    "                tkn.append(k[0])\n",
    "    return tkn"
   ]
  },
  {
   "cell_type": "code",
   "execution_count": 3,
   "metadata": {},
   "outputs": [],
   "source": [
    "# PYTHON으로 SQLITE3의 DB에 데이터 담기\n",
    "dbname='20210630_wadizDB_최종.db'\n",
    "def insData(d, tblname='wadiztable'):\n",
    "    with sqlite3.connect(dbname) as conn:\n",
    "        cur=conn.cursor()\n",
    "        sql='select * from '+tblname+' where ncategory=\"'+d+'\"'\n",
    "        ckkey=cur.execute(sql).fetchall()\n",
    "        if ckkey:\n",
    "            return ckkey"
   ]
  },
  {
   "cell_type": "code",
   "execution_count": 4,
   "metadata": {},
   "outputs": [],
   "source": [
    "def category(d):\n",
    "    data=insData(d)\n",
    "    df=pd.DataFrame(data)\n",
    "    names=['idx','category','title','content','supporter','amount','percent','key']\n",
    "    df.columns=names\n",
    "    df['label']=0\n",
    "    df['percent']=np.array(df['percent']).astype('int')\n",
    "    for i, per in enumerate(df['percent']):\n",
    "        if per >= 500:\n",
    "            df['label'].iloc[i] = 1\n",
    "    return df"
   ]
  },
  {
   "cell_type": "code",
   "execution_count": 5,
   "metadata": {
    "tags": []
   },
   "outputs": [
    {
     "name": "stderr",
     "output_type": "stream",
     "text": [
      "C:\\ProgramData\\Anaconda3\\envs\\py37\\lib\\site-packages\\pandas\\core\\indexing.py:1732: SettingWithCopyWarning: \n",
      "A value is trying to be set on a copy of a slice from a DataFrame\n",
      "\n",
      "See the caveats in the documentation: https://pandas.pydata.org/pandas-docs/stable/user_guide/indexing.html#returning-a-view-versus-a-copy\n",
      "  self._setitem_single_block(indexer, value, name)\n"
     ]
    },
    {
     "data": {
      "text/html": [
       "<div>\n",
       "<style scoped>\n",
       "    .dataframe tbody tr th:only-of-type {\n",
       "        vertical-align: middle;\n",
       "    }\n",
       "\n",
       "    .dataframe tbody tr th {\n",
       "        vertical-align: top;\n",
       "    }\n",
       "\n",
       "    .dataframe thead th {\n",
       "        text-align: right;\n",
       "    }\n",
       "</style>\n",
       "<table border=\"1\" class=\"dataframe\">\n",
       "  <thead>\n",
       "    <tr style=\"text-align: right;\">\n",
       "      <th></th>\n",
       "      <th>idx</th>\n",
       "      <th>category</th>\n",
       "      <th>title</th>\n",
       "      <th>content</th>\n",
       "      <th>supporter</th>\n",
       "      <th>amount</th>\n",
       "      <th>percent</th>\n",
       "      <th>key</th>\n",
       "      <th>label</th>\n",
       "    </tr>\n",
       "  </thead>\n",
       "  <tbody>\n",
       "    <tr>\n",
       "      <th>0</th>\n",
       "      <td>15179</td>\n",
       "      <td>스포츠·모빌리티</td>\n",
       "      <td>기능성수건과 면수건의 장점을 모두 합쳤다! 신개념 휴대용 수건 트래부스트</td>\n",
       "      <td>\\n    여름 휴가 계획하시나요? 수건먼저 챙겨야죠! 기능성수건의 건조능력과, 면...</td>\n",
       "      <td>371</td>\n",
       "      <td>17,322,700</td>\n",
       "      <td>3464</td>\n",
       "      <td>https://www.wadiz.kr/web/campaign/detail/112053</td>\n",
       "      <td>1</td>\n",
       "    </tr>\n",
       "    <tr>\n",
       "      <th>1</th>\n",
       "      <td>15180</td>\n",
       "      <td>스포츠·모빌리티</td>\n",
       "      <td>고생하는 내차에도 보약한첩!! 내차에도 자연에도 가격또한 착한 엔진보호탕</td>\n",
       "      <td>\\n    비싼 돈 주고 다른 연료 첨가제 쓰고 써봐도 별 차이도, 체감도 안 되신...</td>\n",
       "      <td>99</td>\n",
       "      <td>1,731,900</td>\n",
       "      <td>173</td>\n",
       "      <td>https://www.wadiz.kr/web/campaign/detail/107804</td>\n",
       "      <td>0</td>\n",
       "    </tr>\n",
       "    <tr>\n",
       "      <th>2</th>\n",
       "      <td>15181</td>\n",
       "      <td>스포츠·모빌리티</td>\n",
       "      <td>[1억8천앵콜]힘들게 테이핑 말고, 발목압박 테이핑양말&amp;종아리압박 슬리브</td>\n",
       "      <td>\\n    모든 스포츠게임의 승패는 아주 미세한 부분에서 승패가 갈리곤 합니다. [...</td>\n",
       "      <td>1,030</td>\n",
       "      <td>32,274,600</td>\n",
       "      <td>6454</td>\n",
       "      <td>https://www.wadiz.kr/web/campaign/detail/109697</td>\n",
       "      <td>1</td>\n",
       "    </tr>\n",
       "  </tbody>\n",
       "</table>\n",
       "</div>"
      ],
      "text/plain": [
       "     idx  category                                     title  \\\n",
       "0  15179  스포츠·모빌리티  기능성수건과 면수건의 장점을 모두 합쳤다! 신개념 휴대용 수건 트래부스트   \n",
       "1  15180  스포츠·모빌리티  고생하는 내차에도 보약한첩!! 내차에도 자연에도 가격또한 착한 엔진보호탕   \n",
       "2  15181  스포츠·모빌리티  [1억8천앵콜]힘들게 테이핑 말고, 발목압박 테이핑양말&종아리압박 슬리브   \n",
       "\n",
       "                                             content supporter      amount  \\\n",
       "0  \\n    여름 휴가 계획하시나요? 수건먼저 챙겨야죠! 기능성수건의 건조능력과, 면...       371  17,322,700   \n",
       "1  \\n    비싼 돈 주고 다른 연료 첨가제 쓰고 써봐도 별 차이도, 체감도 안 되신...        99   1,731,900   \n",
       "2  \\n    모든 스포츠게임의 승패는 아주 미세한 부분에서 승패가 갈리곤 합니다. [...     1,030  32,274,600   \n",
       "\n",
       "   percent                                              key  label  \n",
       "0     3464  https://www.wadiz.kr/web/campaign/detail/112053      1  \n",
       "1      173  https://www.wadiz.kr/web/campaign/detail/107804      0  \n",
       "2     6454  https://www.wadiz.kr/web/campaign/detail/109697      1  "
      ]
     },
     "execution_count": 5,
     "metadata": {},
     "output_type": "execute_result"
    }
   ],
   "source": [
    "cate=['테크·가전', '패션·잡화', '뷰티', '푸드', '홈리빙', '여행·레저', '스포츠·모빌리티', '공연·컬쳐', \n",
    "          '베이비·키즈', '반려동물', '게임·취미', '클래스', '출판', '디자인소품', '소셜·캠페인', '기부·후원', '모임']\n",
    "\n",
    "df=category(cate[6])\n",
    "df.head(3)"
   ]
  },
  {
   "cell_type": "code",
   "execution_count": 6,
   "metadata": {
    "collapsed": true,
    "jupyter": {
     "outputs_hidden": true
    },
    "tags": []
   },
   "outputs": [
    {
     "data": {
      "text/html": [
       "<div>\n",
       "<style scoped>\n",
       "    .dataframe tbody tr th:only-of-type {\n",
       "        vertical-align: middle;\n",
       "    }\n",
       "\n",
       "    .dataframe tbody tr th {\n",
       "        vertical-align: top;\n",
       "    }\n",
       "\n",
       "    .dataframe thead th {\n",
       "        text-align: right;\n",
       "    }\n",
       "</style>\n",
       "<table border=\"1\" class=\"dataframe\">\n",
       "  <thead>\n",
       "    <tr style=\"text-align: right;\">\n",
       "      <th></th>\n",
       "      <th>idx</th>\n",
       "      <th>category</th>\n",
       "      <th>title</th>\n",
       "      <th>content</th>\n",
       "      <th>supporter</th>\n",
       "      <th>amount</th>\n",
       "      <th>percent</th>\n",
       "      <th>key</th>\n",
       "      <th>label</th>\n",
       "      <th>text</th>\n",
       "    </tr>\n",
       "  </thead>\n",
       "  <tbody>\n",
       "    <tr>\n",
       "      <th>0</th>\n",
       "      <td>15179</td>\n",
       "      <td>스포츠·모빌리티</td>\n",
       "      <td>기능성수건과 면수건의 장점을 모두 합쳤다! 신개념 휴대용 수건 트래부스트</td>\n",
       "      <td>\\n    여름 휴가 계획하시나요? 수건먼저 챙겨야죠! 기능성수건의 건조능력과, 면...</td>\n",
       "      <td>371</td>\n",
       "      <td>17,322,700</td>\n",
       "      <td>3464</td>\n",
       "      <td>https://www.wadiz.kr/web/campaign/detail/112053</td>\n",
       "      <td>1</td>\n",
       "      <td>기능성수건과 면수건의 장점을 모두 합쳤다! 신개념 휴대용 수건 트래부스트\\n    ...</td>\n",
       "    </tr>\n",
       "    <tr>\n",
       "      <th>1</th>\n",
       "      <td>15180</td>\n",
       "      <td>스포츠·모빌리티</td>\n",
       "      <td>고생하는 내차에도 보약한첩!! 내차에도 자연에도 가격또한 착한 엔진보호탕</td>\n",
       "      <td>\\n    비싼 돈 주고 다른 연료 첨가제 쓰고 써봐도 별 차이도, 체감도 안 되신...</td>\n",
       "      <td>99</td>\n",
       "      <td>1,731,900</td>\n",
       "      <td>173</td>\n",
       "      <td>https://www.wadiz.kr/web/campaign/detail/107804</td>\n",
       "      <td>0</td>\n",
       "      <td>고생하는 내차에도 보약한첩!! 내차에도 자연에도 가격또한 착한 엔진보호탕\\n    ...</td>\n",
       "    </tr>\n",
       "    <tr>\n",
       "      <th>2</th>\n",
       "      <td>15181</td>\n",
       "      <td>스포츠·모빌리티</td>\n",
       "      <td>[1억8천앵콜]힘들게 테이핑 말고, 발목압박 테이핑양말&amp;종아리압박 슬리브</td>\n",
       "      <td>\\n    모든 스포츠게임의 승패는 아주 미세한 부분에서 승패가 갈리곤 합니다. [...</td>\n",
       "      <td>1,030</td>\n",
       "      <td>32,274,600</td>\n",
       "      <td>6454</td>\n",
       "      <td>https://www.wadiz.kr/web/campaign/detail/109697</td>\n",
       "      <td>1</td>\n",
       "      <td>[1억8천앵콜]힘들게 테이핑 말고, 발목압박 테이핑양말&amp;종아리압박 슬리브\\n    ...</td>\n",
       "    </tr>\n",
       "  </tbody>\n",
       "</table>\n",
       "</div>"
      ],
      "text/plain": [
       "     idx  category                                     title  \\\n",
       "0  15179  스포츠·모빌리티  기능성수건과 면수건의 장점을 모두 합쳤다! 신개념 휴대용 수건 트래부스트   \n",
       "1  15180  스포츠·모빌리티  고생하는 내차에도 보약한첩!! 내차에도 자연에도 가격또한 착한 엔진보호탕   \n",
       "2  15181  스포츠·모빌리티  [1억8천앵콜]힘들게 테이핑 말고, 발목압박 테이핑양말&종아리압박 슬리브   \n",
       "\n",
       "                                             content supporter      amount  \\\n",
       "0  \\n    여름 휴가 계획하시나요? 수건먼저 챙겨야죠! 기능성수건의 건조능력과, 면...       371  17,322,700   \n",
       "1  \\n    비싼 돈 주고 다른 연료 첨가제 쓰고 써봐도 별 차이도, 체감도 안 되신...        99   1,731,900   \n",
       "2  \\n    모든 스포츠게임의 승패는 아주 미세한 부분에서 승패가 갈리곤 합니다. [...     1,030  32,274,600   \n",
       "\n",
       "   percent                                              key  label  \\\n",
       "0     3464  https://www.wadiz.kr/web/campaign/detail/112053      1   \n",
       "1      173  https://www.wadiz.kr/web/campaign/detail/107804      0   \n",
       "2     6454  https://www.wadiz.kr/web/campaign/detail/109697      1   \n",
       "\n",
       "                                                text  \n",
       "0  기능성수건과 면수건의 장점을 모두 합쳤다! 신개념 휴대용 수건 트래부스트\\n    ...  \n",
       "1  고생하는 내차에도 보약한첩!! 내차에도 자연에도 가격또한 착한 엔진보호탕\\n    ...  \n",
       "2  [1억8천앵콜]힘들게 테이핑 말고, 발목압박 테이핑양말&종아리압박 슬리브\\n    ...  "
      ]
     },
     "execution_count": 6,
     "metadata": {},
     "output_type": "execute_result"
    }
   ],
   "source": [
    "tdf = df.copy()\n",
    "tdf['text'] = tdf['title'] + tdf['content']\n",
    "\n",
    "tdf.head(3)"
   ]
  },
  {
   "cell_type": "code",
   "execution_count": 7,
   "metadata": {},
   "outputs": [
    {
     "data": {
      "image/png": "[encoded data removed]",
      "text/plain": [
       "<Figure size 432x288 with 1 Axes>"
      ]
     },
     "metadata": {
      "needs_background": "light"
     },
     "output_type": "display_data"
    }
   ],
   "source": [
    "# label 비율 확인\n",
    "label=tdf['label']\n",
    "label.value_counts().plot(kind = 'bar')\n",
    "\n",
    "label=np.array(label)"
   ]
  },
  {
   "cell_type": "markdown",
   "metadata": {},
   "source": [
    "###### 전처리 ######"
   ]
  },
  {
   "cell_type": "code",
   "execution_count": 8,
   "metadata": {},
   "outputs": [],
   "source": [
    "from sklearn.model_selection import train_test_split\n",
    "from sklearn.preprocessing import MinMaxScaler\n",
    "from keras.preprocessing.text import Tokenizer"
   ]
  },
  {
   "cell_type": "code",
   "execution_count": 9,
   "metadata": {},
   "outputs": [],
   "source": [
    "# 불용어 list\n",
    "stopwordsstr = '아 휴 아이구 아이쿠 아이고 어 나 우리 저희 따라 의해 을 를 에 의 가 으로 로 에게 뿐이다 의거하여 근거하여 입각하여 기준으로 예하면 예를 들면 예를 들자면 저 소인 소생 저희 지말고 하지마 하지마라 다른 물론 또한 그리고 비길수 없다 해서는 안된다 뿐만 아니라 만이 아니다 만은 아니다 막론하고 관계없이 그치지 않다 그러나 그런데 하지만 든간에 논하지 않다 따지지 않다 설사 비록 더라도 아니면 만 못하다 하는 편이 낫다 불문하고 향하여 향해서 향하다 쪽으로 틈타 이용하여 타다 오르다 제외하고 이 외에 이 밖에 하여야 비로소 한다면 몰라도 외에도 이곳 여기 부터 기점으로 따라서 할 생각이다 하려고하다 이리하여 그리하여 그렇게 함으로써 하지만 일때 할때 앞에서 중에서 보는데서 으로써 로써 까지 해야한다 일것이다 반드시 할줄알다 할수있다 할수있어 임에 틀림없다 한다면 등 등등 제 겨우 단지 다만 할뿐 딩동 댕그 대해서 대하여 대하면 훨씬 얼마나 얼마만큼 얼마큼 남짓 여 얼마간 약간 다소 좀 조금 다수 몇 얼마 지만 하물며 또한 그러나 그렇지만 하지만 이외에도 대해 말하자면 뿐이다 다음에 반대로 반대로 말하자면 이와 반대로 바꾸어서 말하면 바꾸어서 한다면 만약 그렇지않으면 까악 툭 딱 삐걱거리다 보드득 비걱거리다 꽈당 응당 해야한다 에 가서 각 각각 여러분 각종 각자 제각기 하도록하다 와 과 그러므로 그래서 고로 한 까닭에 하기 때문에 거니와 이지만 대하여 관하여 관한 과연 실로 아니나다를가 생각한대로 진짜로 한적이있다 하곤하였다 하 하하 허허 아하 거바 와 오 왜 어째서 무엇때문에 어찌 하겠는가 무슨 어디 어느곳 더군다나 하물며 더욱이는 어느때 언제 야 이봐 어이 여보시오 흐흐 흥 휴 헉헉 헐떡헐떡 영차 여차 어기여차 끙끙 아야 앗 아야 콸콸 졸졸 좍좍 뚝뚝 주룩주룩 솨 우르르 그래도 또 그리고 바꾸어말하면 바꾸어말하자면 혹은 혹시 답다 및 그에 따르는 때가 되어 즉 지든지 설령 가령 하더라도 할지라도 일지라도 지든지 몇 거의 하마터면 인젠 이젠 된바에야 된이상 만큼 어찌됏든 그위에 게다가 점에서 보아 비추어 보아 고려하면 하게될것이다 일것이다 비교적 좀 보다더 비하면 시키다 하게하다 할만하다 의해서 연이서 이어서 잇따라 뒤따라 뒤이어 결국 의지하여 기대여 통하여 자마자 더욱더 불구하고 얼마든지 마음대로 주저하지 않고 곧 즉시 바로 당장 하자마자 밖에 안된다 하면된다 그래 그렇지 요컨대 다시 말하자면 바꿔 말하면 즉 구체적으로 말하자면 시작하여 시초에 이상 허 헉 허걱 바와같이 해도좋다 해도된다 게다가 더구나 하물며 와르르 팍 퍽 펄렁 동안 이래 하고있었다 이었다 에서 로부터 까지 예하면 했어요 해요 함께 같이 더불어 마저 마저도 양자 모두 습니다 가까스로 하려고하다 즈음하여 다른 다른 방면으로 해봐요 습니까 했어요 말할것도 없고 무릎쓰고 개의치않고 하는것만 못하다 하는것이 낫다 매 매번 들 모 어느것 어느 로써 갖고말하자면 어디 어느쪽 어느것 어느해 어느 년도 라 해도 언젠가 어떤것 어느것 저기 저쪽 저것 그때 그럼 그러면 요만한걸 그래 그때 저것만큼 그저 이르기까지 할 줄 안다 할 힘이 있다 너 너희 당신 어찌 설마 차라리 할지언정 할지라도 할망정 할지언정 구토하다 게우다 토하다 메쓰겁다 옆사람 퉤 쳇 의거하여 근거하여 의해 따라 힘입어 그 다음 버금 두번째로 기타 첫번째로 나머지는 그중에서 견지에서 형식으로 쓰여 입장에서 위해서 단지 의해되다 하도록시키다 뿐만아니라 반대로 전후 전자 앞의것 잠시 잠깐 하면서 그렇지만 다음에 그러한즉 그런즉 남들 아무거나 어찌하든지 같다 비슷하다 예컨대 이럴정도로 어떻게 만약 만일 위에서 서술한바와같이 인 듯하다 하지 않는다면 만약에 무엇 무슨 어느 어떤 아래윗 조차 한데 그럼에도 불구하고 여전히 심지어 까지도 조차도 하지 않도록 않기 위하여 때 시각 무렵 시간 동안 어때 어떠한 하여금 네 예 우선 누구 누가 알겠는가 아무도 줄은모른다 줄은 몰랏다 하는 김에 겸사겸사 하는바 그런 까닭에 한 이유는 그러니 그러니까 때문에 그 너희 그들 너희들 타인 것 것들 너 위하여 공동으로 동시에 하기 위하여 어찌하여 무엇때문에 붕붕 윙윙 나 우리 엉엉 휘익 윙윙 오호 아하 어쨋든 만 못하다 하기보다는 차라리 하는 편이 낫다 흐흐 놀라다 상대적으로 말하자면 마치 아니라면 쉿 그렇지 않으면 그렇지 않다면 안 그러면 아니었다면 하든지 아니면 이라면 좋아 알았어 하는것도 그만이다 어쩔수 없다 하나 일 일반적으로 일단 한켠으로는 오자마자 이렇게되면 이와같다면 전부 한마디 한항목 근거로 하기에 아울러 하지 않도록 않기 위해서 이르기까지 이 되다 로 인하여 까닭으로 이유만으로 이로 인하여 그래서 이 때문에 그러므로 그런 까닭에 알 수 있다 결론을 낼 수 있다 으로 인하여 있다 어떤것 관계가 있다 관련이 있다 연관되다 어떤것들 에 대해 이리하여 그리하여 여부 하기보다는 하느니 하면 할수록 운운 이러이러하다 하구나 하도다 다시말하면 다음으로 에 있다 에 달려 있다 우리 우리들 오히려 하기는한데 어떻게 어떻해 어찌됏어 어때 어째서 본대로 자 이 이쪽 여기 이것 이번 이렇게말하자면 이런 이러한 이와 같은 요만큼 요만한 것 얼마 안 되는 것 이만큼 이 정도의 이렇게 많은 것 이와 같다 이때 이렇구나 것과 같이 끼익 삐걱 따위 와 같은 사람들 부류의 사람들 왜냐하면 중의하나 오직 오로지 에 한하다 하기만 하면 도착하다 까지 미치다 도달하다 정도에 이르다 할 지경이다 결과에 이르다 관해서는 여러분 하고 있다 한 후 혼자 자기 자기집 자신 우에 종합한것과같이 총적으로 보면 총적으로 말하면 총적으로 대로 하다 으로서 참 그만이다 할 따름이다 쿵 탕탕 쾅쾅 둥둥 봐 봐라 아이야 아니 와아 응 아이 참나 년 월 일 령 영 일 이 삼 사 오 육 륙 칠 팔 구 이천육 이천칠 이천팔 이천구 하나 둘 셋 넷 다섯 여섯 일곱 여덟 아홉 령 영 이 있 하 것 들 그 되 수 이 보 않 없 나 사람 주 아니 등 같 우리 때 년 가 한 지 대하 오 말 일 그렇 위하 때문 그것 두 말하 알 그러나 받 못하 일 그런 또 문제 더 사회 많 그리고 좋 크 따르 중 나오 가지 씨 시키 만들 지금 생각하 그러 속 하나 집 살 모르 적 월 데 자신 안 어떤 내 내 경우 명 생각 시간 그녀 다시 이런 앞 보이 번 나 다른 어떻 여자 개 전 들 사실 이렇 점 싶 말 정도 좀 원 잘 통하 놓'\n",
    "stopwords = stopwordsstr.split()\n",
    "\n",
    "# x_train에서 불용어 제거\n",
    "x_prep = []\n",
    "for sentence in tdf['text']:\n",
    "    temp_X = tknWord(sentence)\n",
    "    temp_X_tr_stop = [word for word in temp_X if not word in stopwords] \n",
    "    x_prep.append(temp_X_tr_stop)"
   ]
  },
  {
   "cell_type": "code",
   "execution_count": 10,
   "metadata": {},
   "outputs": [],
   "source": [
    "corpus=[' '.join(r) for r in x_prep]"
   ]
  },
  {
   "cell_type": "markdown",
   "metadata": {},
   "source": [
    "############## TFIDF #################"
   ]
  },
  {
   "cell_type": "code",
   "execution_count": 11,
   "metadata": {
    "tags": []
   },
   "outputs": [],
   "source": [
    "from sklearn.feature_extraction.text import CountVectorizer\n",
    "from sklearn.feature_extraction.text import TfidfVectorizer\n",
    "\n",
    "tfmodel=TfidfVectorizer(min_df=3, max_features = 1000)\n",
    "tfmodel.fit(corpus)\n",
    "keys=tfmodel.vocabulary_\n",
    "# sorted(keys.items())\n",
    "\n",
    "wmap=tfmodel.transform(corpus).toarray()\n",
    "# wdf=pd.DataFrame(wmap,columns=keys.keys())\n",
    "# wdf"
   ]
  },
  {
   "cell_type": "code",
   "execution_count": 12,
   "metadata": {},
   "outputs": [
    {
     "data": {
      "text/plain": [
       "((758, 1, 1000), (758,))"
      ]
     },
     "execution_count": 12,
     "metadata": {},
     "output_type": "execute_result"
    }
   ],
   "source": [
    "# LSTM에 맞는 3차원 형태로 데이터 변형\n",
    "wmap=wmap[:,None,:]\n",
    "wmap.shape, label.shape"
   ]
  },
  {
   "cell_type": "code",
   "execution_count": 13,
   "metadata": {
    "tags": []
   },
   "outputs": [
    {
     "data": {
      "text/plain": [
       "array([[[0.        , 0.        , 0.00995464, ..., 0.07935109,\n",
       "         0.04796147, 0.        ]],\n",
       "\n",
       "       [[0.22578064, 0.        , 0.        , ..., 0.        ,\n",
       "         0.        , 0.        ]],\n",
       "\n",
       "       [[0.        , 0.        , 0.01746961, ..., 0.        ,\n",
       "         0.02805622, 0.02898836]]])"
      ]
     },
     "execution_count": 13,
     "metadata": {},
     "output_type": "execute_result"
    }
   ],
   "source": [
    "wmap[:3]"
   ]
  },
  {
   "cell_type": "markdown",
   "metadata": {},
   "source": [
    "############ 딥러닝 모델 ##################`"
   ]
  },
  {
   "cell_type": "code",
   "execution_count": 14,
   "metadata": {},
   "outputs": [],
   "source": [
    "from tensorflow.keras.layers import Input, Embedding, LSTM, Dense, Dropout\n",
    "from tensorflow.keras.models import Model, Sequential, load_model\n",
    "from tensorflow.keras.callbacks import EarlyStopping, ModelCheckpoint\n",
    "from tensorflow.keras.optimizers import Adam\n",
    "from tensorflow.keras import regularizers"
   ]
  },
  {
   "cell_type": "code",
   "execution_count": 15,
   "metadata": {
    "tags": []
   },
   "outputs": [
    {
     "data": {
      "text/plain": [
       "((606, 1, 1000), (152, 1, 1000), (606,))"
      ]
     },
     "execution_count": 15,
     "metadata": {},
     "output_type": "execute_result"
    }
   ],
   "source": [
    "# train_test_split 및 shape 확인\n",
    "x_train,x_test,y_train,y_test=train_test_split(wmap,label,test_size=0.2,shuffle=True,random_state=11)\n",
    "x_train.shape, x_test.shape, y_train.shape"
   ]
  },
  {
   "cell_type": "code",
   "execution_count": 16,
   "metadata": {},
   "outputs": [
    {
     "data": {
      "text/plain": [
       "(array([749, 125,  44,  63, 552]), array([610, 223, 350, 397, 271]))"
      ]
     },
     "execution_count": 16,
     "metadata": {},
     "output_type": "execute_result"
    }
   ],
   "source": [
    "from sklearn.model_selection import ShuffleSplit\n",
    "\n",
    "rs = ShuffleSplit(n_splits=5, test_size=.2, random_state=0)\n",
    "for train_index, test_index in rs.split(wmap):\n",
    "    x_train, x_test = wmap[train_index], wmap[test_index]\n",
    "    y_train, y_test = label[train_index], label[test_index]\n",
    "    \n",
    "train_index[:5], test_index[:5]"
   ]
  },
  {
   "cell_type": "code",
   "execution_count": 17,
   "metadata": {
    "tags": []
   },
   "outputs": [
    {
     "name": "stdout",
     "output_type": "stream",
     "text": [
      "Model: \"sequential\"\n",
      "_________________________________________________________________\n",
      "Layer (type)                 Output Shape              Param #   \n",
      "=================================================================\n",
      "lstm (LSTM)                  (None, 64)                272640    \n",
      "_________________________________________________________________\n",
      "dense (Dense)                (None, 1)                 65        \n",
      "=================================================================\n",
      "Total params: 272,705\n",
      "Trainable params: 272,705\n",
      "Non-trainable params: 0\n",
      "_________________________________________________________________\n",
      "Epoch 1/20\n",
      "31/31 [==============================] - 2s 5ms/step - loss: 0.2493 - accuracy: 0.5215\n",
      "Epoch 2/20\n",
      "31/31 [==============================] - 0s 5ms/step - loss: 0.2446 - accuracy: 0.5594\n",
      "Epoch 3/20\n",
      "31/31 [==============================] - 0s 5ms/step - loss: 0.2367 - accuracy: 0.6007\n",
      "Epoch 4/20\n",
      "31/31 [==============================] - 0s 5ms/step - loss: 0.2230 - accuracy: 0.7261\n",
      "Epoch 5/20\n",
      "31/31 [==============================] - 0s 5ms/step - loss: 0.2015 - accuracy: 0.7987\n",
      "Epoch 6/20\n",
      "31/31 [==============================] - 0s 4ms/step - loss: 0.1755 - accuracy: 0.8416\n",
      "Epoch 7/20\n",
      "31/31 [==============================] - 0s 5ms/step - loss: 0.1494 - accuracy: 0.8647\n",
      "Epoch 8/20\n",
      "31/31 [==============================] - 0s 5ms/step - loss: 0.1272 - accuracy: 0.8845\n",
      "Epoch 9/20\n",
      "31/31 [==============================] - 0s 4ms/step - loss: 0.1093 - accuracy: 0.8977\n",
      "Epoch 10/20\n",
      "31/31 [==============================] - 0s 5ms/step - loss: 0.0956 - accuracy: 0.9059\n",
      "Epoch 11/20\n",
      "31/31 [==============================] - 0s 10ms/step - loss: 0.0828 - accuracy: 0.9208\n",
      "Epoch 12/20\n",
      "31/31 [==============================] - 0s 6ms/step - loss: 0.0749 - accuracy: 0.9257\n",
      "Epoch 13/20\n",
      "31/31 [==============================] - 0s 5ms/step - loss: 0.0656 - accuracy: 0.9406\n",
      "Epoch 14/20\n",
      "31/31 [==============================] - 0s 6ms/step - loss: 0.0584 - accuracy: 0.9439\n",
      "Epoch 15/20\n",
      "31/31 [==============================] - 0s 6ms/step - loss: 0.0522 - accuracy: 0.9538\n",
      "Epoch 16/20\n",
      "31/31 [==============================] - 0s 8ms/step - loss: 0.0464 - accuracy: 0.9571\n",
      "Epoch 17/20\n",
      "31/31 [==============================] - 0s 5ms/step - loss: 0.0426 - accuracy: 0.9620\n",
      "Epoch 18/20\n",
      "31/31 [==============================] - 0s 6ms/step - loss: 0.0377 - accuracy: 0.9686\n",
      "Epoch 19/20\n",
      "31/31 [==============================] - 0s 6ms/step - loss: 0.0349 - accuracy: 0.9703\n",
      "Epoch 20/20\n",
      "31/31 [==============================] - 0s 5ms/step - loss: 0.0313 - accuracy: 0.9736\n"
     ]
    }
   ],
   "source": [
    "model=Sequential()\n",
    "model.add(LSTM(64,input_shape=(x_train.shape[1],x_train.shape[2]),activation='relu'))\n",
    "model.add(Dense(1,activation='sigmoid'))\n",
    "model.summary()\n",
    "\n",
    "model.compile(loss=\"mse\",optimizer=\"adam\",metrics=['accuracy'])\n",
    "hist=model.fit(x_train,y_train,epochs=20,batch_size=20)"
   ]
  },
  {
   "cell_type": "code",
   "execution_count": 18,
   "metadata": {
    "tags": []
   },
   "outputs": [
    {
     "data": {
      "text/plain": [
       "array([[0.03],\n",
       "       [0.79],\n",
       "       [0.32],\n",
       "       [0.11],\n",
       "       [0.17],\n",
       "       [0.7 ],\n",
       "       [0.71],\n",
       "       [0.88],\n",
       "       [0.97],\n",
       "       [0.64],\n",
       "       [0.78],\n",
       "       [0.32],\n",
       "       [0.03],\n",
       "       [0.13],\n",
       "       [0.81],\n",
       "       [0.52],\n",
       "       [0.06],\n",
       "       [0.49],\n",
       "       [0.18],\n",
       "       [0.66],\n",
       "       [0.79],\n",
       "       [0.94],\n",
       "       [0.75],\n",
       "       [0.95],\n",
       "       [0.49],\n",
       "       [0.06],\n",
       "       [0.96],\n",
       "       [0.67],\n",
       "       [0.9 ],\n",
       "       [0.1 ]], dtype=float32)"
      ]
     },
     "execution_count": 18,
     "metadata": {},
     "output_type": "execute_result"
    }
   ],
   "source": [
    "pred = model.predict(x_test)\n",
    "np.round(pred,2)[:30]"
   ]
  },
  {
   "cell_type": "code",
   "execution_count": 19,
   "metadata": {},
   "outputs": [
    {
     "data": {
      "text/plain": [
       "0.631578947368421"
      ]
     },
     "execution_count": 19,
     "metadata": {},
     "output_type": "execute_result"
    }
   ],
   "source": [
    "# model.accuracy가 안되서 직접 0,1 변환한다음 정확도 계산해보기\n",
    "pred2=np.where(pred<0.5,0,pred)\n",
    "pred2=np.where(pred2>=0.5,1,pred2)\n",
    "\n",
    "pred2=pred2.reshape(-1,)\n",
    "\n",
    "(pred2 == y_test).sum() / y_test.shape[0]"
   ]
  },
  {
   "cell_type": "markdown",
   "metadata": {},
   "source": [
    "######### 상위 정확도 게시글 찾기 #######"
   ]
  },
  {
   "cell_type": "code",
   "execution_count": 20,
   "metadata": {},
   "outputs": [
    {
     "data": {
      "text/plain": [
       "(array([  8,  21,  23,  26,  28,  42,  47,  48,  51,  53,  61,  62,  66,\n",
       "         67,  79,  86,  89, 101, 104, 106, 107, 108, 109, 112, 117, 122,\n",
       "        125, 127, 128, 129, 131, 137, 139, 144, 145, 151], dtype=int64),\n",
       " array([  0,  12,  32,  38,  60, 119, 134, 140], dtype=int64))"
      ]
     },
     "execution_count": 20,
     "metadata": {},
     "output_type": "execute_result"
    }
   ],
   "source": [
    "one= np.where(pred>0.9)[0]\n",
    "zero= np.where(pred<0.05)[0]\n",
    "one, zero"
   ]
  },
  {
   "cell_type": "code",
   "execution_count": 34,
   "metadata": {},
   "outputs": [
    {
     "data": {
      "text/plain": [
       "(array([ 8, 21, 23], dtype=int64), array([119, 134, 140], dtype=int64))"
      ]
     },
     "execution_count": 34,
     "metadata": {},
     "output_type": "execute_result"
    }
   ],
   "source": [
    "test_one=one[:3]\n",
    "test_zero=zero[-3:]\n",
    "\n",
    "test_one, test_zero"
   ]
  },
  {
   "cell_type": "markdown",
   "metadata": {},
   "source": [
    "######### 테스트 게시글 넣고 결과 출력하기 ############"
   ]
  },
  {
   "cell_type": "code",
   "execution_count": 35,
   "metadata": {},
   "outputs": [
    {
     "name": "stdout",
     "output_type": "stream",
     "text": [
      "     idx  category                                 title  \\\n",
      "8  15187  스포츠·모빌리티  [프리미엄 차량용방향제] 디자인과 향 모두 잡았다 | 타이거다즐러   \n",
      "\n",
      "                                             content supporter     amount  \\\n",
      "8  \\n    똑같이 생긴 차량용 방향제의 디자인과 향에 지치셨나요? 세련됨으로 압도하...       105  4,268,900   \n",
      "\n",
      "   percent                                              key  label  \\\n",
      "8      426  https://www.wadiz.kr/web/campaign/detail/116456      0   \n",
      "\n",
      "                                                text  \n",
      "8  [프리미엄 차량용방향제] 디자인과 향 모두 잡았다 | 타이거다즐러\\n    똑같이 ...  \n",
      "      idx  category                       title  \\\n",
      "21  15200  스포츠·모빌리티  크기가 줄어드는 똑똑한  전동킥보드, 나노휠 N   \n",
      "\n",
      "                                              content supporter     amount  \\\n",
      "21  \\n    보관할 땐 작게, 사용할 땐 넓게! \\n사용자의 편의를 생각하는 똑똑한 ...         4  1,258,000   \n",
      "\n",
      "    percent                                              key  label  \\\n",
      "21       25  https://www.wadiz.kr/web/campaign/detail/106527      0   \n",
      "\n",
      "                                                 text  \n",
      "21  크기가 줄어드는 똑똑한  전동킥보드, 나노휠 N\\n    보관할 땐 작게, 사용할 ...  \n",
      "      idx  category                                    title  \\\n",
      "23  15202  스포츠·모빌리티  500만원짜리 필라테스 기구를 9만원으로 내방에! 2020 홈트 끝판왕   \n",
      "\n",
      "                                              content supporter       amount  \\\n",
      "23  \\n    헬스장이나 필라테스 센터에 다니고 싶은데, 고수들 사이에서 초보티 날까봐...     4,444  403,574,201   \n",
      "\n",
      "    percent                                             key  label  \\\n",
      "23    40357  https://www.wadiz.kr/web/campaign/detail/55164      1   \n",
      "\n",
      "                                                 text  \n",
      "23  500만원짜리 필라테스 기구를 9만원으로 내방에! 2020 홈트 끝판왕\\n    헬...  \n"
     ]
    }
   ],
   "source": [
    "# 90% 이상 게시글(예측 : 1) 확인해보기 -> 3개 중 1개 맞춤\n",
    "for i in test_one:\n",
    "    print(tdf[tdf.index == i])"
   ]
  },
  {
   "cell_type": "code",
   "execution_count": 33,
   "metadata": {},
   "outputs": [
    {
     "name": "stdout",
     "output_type": "stream",
     "text": [
      "       idx  category                               title  \\\n",
      "119  15298  스포츠·모빌리티  [5점만점 앵콜 ]필드의 비밀병기 DR.PC.1830 롤링퍼터   \n",
      "\n",
      "                                               content supporter      amount  \\\n",
      "119  \\n    시작은 했는데, 점점 더 어려운 골프. 미스샷으로 타수를 잃어버리는 수많...        64  18,639,000   \n",
      "\n",
      "     percent                                              key  label  \\\n",
      "119     3727  https://www.wadiz.kr/web/campaign/detail/109344      1   \n",
      "\n",
      "                                                  text  \n",
      "119  [5점만점 앵콜 ]필드의 비밀병기 DR.PC.1830 롤링퍼터\\n    시작은 했는...  \n",
      "       idx  category                                     title  \\\n",
      "134  15313  스포츠·모빌리티  [6900%앵콜]렌즈교체 3초면 끝!! 대한민국 자덕을 위한 스포츠고글    \n",
      "\n",
      "                                               content supporter      amount  \\\n",
      "134  \\n    발상의 전환! 이제는 렌즈교체가 아닌 템플(다리)을 교체해 보세요. 한국...       329  32,454,500   \n",
      "\n",
      "     percent                                              key  label  \\\n",
      "134     3245  https://www.wadiz.kr/web/campaign/detail/107096      1   \n",
      "\n",
      "                                                  text  \n",
      "134  [6900%앵콜]렌즈교체 3초면 끝!! 대한민국 자덕을 위한 스포츠고글 \\n    ...  \n",
      "       idx  category                                   title  \\\n",
      "140  15319  스포츠·모빌리티  골프클럽은 1개인데 기능은 2가지라고? [DR.PC1830 롤링퍼터]   \n",
      "\n",
      "                                               content supporter      amount  \\\n",
      "140  \\n    시작은 했는데, 점점 더 어려운 골프. 미스샷으로 타수를 잃어버리는 수많...        63  15,703,500   \n",
      "\n",
      "     percent                                             key  label  \\\n",
      "140     3140  https://www.wadiz.kr/web/campaign/detail/95129      1   \n",
      "\n",
      "                                                  text  \n",
      "140  골프클럽은 1개인데 기능은 2가지라고? [DR.PC1830 롤링퍼터]\\n    시작...  \n"
     ]
    }
   ],
   "source": [
    "# 5% 이하 게시글(예측 : 0) 확인해보기 -> 3개 중 0개 맞춤\n",
    "for i in test_zero:\n",
    "    print(tdf[tdf.index == i])"
   ]
  }
 ],
 "metadata": {
  "kernelspec": {
   "display_name": "Python 3",
   "language": "python",
   "name": "python3"
  },
  "language_info": {
   "codemirror_mode": {
    "name": "ipython",
    "version": 3
   },
   "file_extension": ".py",
   "mimetype": "text/x-python",
   "name": "python",
   "nbconvert_exporter": "python",
   "pygments_lexer": "ipython3",
   "version": "3.8.5"
  }
 },
 "nbformat": 4,
 "nbformat_minor": 5
}

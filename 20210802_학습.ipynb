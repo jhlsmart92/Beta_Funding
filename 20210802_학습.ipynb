{
 "cells": [
  {
   "cell_type": "code",
   "execution_count": 6,
   "id": "e7dd5102-f209-4489-86ca-b9eaced44039",
   "metadata": {},
   "outputs": [
    {
     "name": "stdout",
     "output_type": "stream",
     "text": [
      "Collecting numpy==1.19.5\n",
      "  Using cached numpy-1.19.5-cp37-cp37m-win_amd64.whl (13.2 MB)\n",
      "Installing collected packages: numpy\n",
      "Successfully installed numpy-1.19.5\n",
      "Note: you may need to restart the kernel to use updated packages.\n"
     ]
    },
    {
     "name": "stderr",
     "output_type": "stream",
     "text": [
      "  WARNING: The script f2py.exe is installed in 'C:\\Users\\pc\\AppData\\Roaming\\Python\\Python37\\Scripts' which is not on PATH.\n",
      "  Consider adding this directory to PATH or, if you prefer to suppress this warning, use --no-warn-script-location.\n"
     ]
    }
   ],
   "source": [
    "!pip install --user numpy==1.19.5"
   ]
  },
  {
   "cell_type": "code",
   "execution_count": 1,
   "id": "c41ffaf2-cbd3-4693-8526-8552f46a2eb0",
   "metadata": {},
   "outputs": [],
   "source": [
    "import numpy as np\n",
    "import pandas as pd\n",
    "import matplotlib as mpl\n",
    "import matplotlib.pyplot as plt\n",
    "\n",
    "from tensorflow.keras.layers import Input, Embedding, LSTM, Dense, Dropout\n",
    "from tensorflow.keras.models import Model, Sequential, load_model\n",
    "from tensorflow.keras.callbacks import EarlyStopping, ModelCheckpoint\n",
    "from tensorflow.keras.optimizers import Adam\n",
    "from tensorflow.keras import regularizers"
   ]
  },
  {
   "cell_type": "code",
   "execution_count": 2,
   "id": "276576d2-0009-4770-b162-d8500009350d",
   "metadata": {},
   "outputs": [],
   "source": [
    "# pickle 저장된 파일 불러오기\n",
    "import pickle\n",
    "with open('.train_test.pkl', 'rb') as f:\n",
    "    x_train, x_test, y_train, y_test = pickle.load(f)"
   ]
  },
  {
   "cell_type": "code",
   "execution_count": 3,
   "id": "344538a2-b350-4f89-a6e7-60489d3d38a9",
   "metadata": {},
   "outputs": [
    {
     "data": {
      "text/plain": [
       "((606, 1, 1000), (152, 1, 1000), (606,))"
      ]
     },
     "execution_count": 3,
     "metadata": {},
     "output_type": "execute_result"
    }
   ],
   "source": [
    "x_train.shape, x_test.shape, y_train.shape"
   ]
  },
  {
   "cell_type": "code",
   "execution_count": 4,
   "id": "eaba9e8c-a089-49a7-87ac-618f371a1380",
   "metadata": {},
   "outputs": [
    {
     "name": "stdout",
     "output_type": "stream",
     "text": [
      "Model: \"sequential\"\n",
      "_________________________________________________________________\n",
      "Layer (type)                 Output Shape              Param #   \n",
      "=================================================================\n",
      "lstm (LSTM)                  (None, 64)                272640    \n",
      "_________________________________________________________________\n",
      "dense (Dense)                (None, 1)                 65        \n",
      "=================================================================\n",
      "Total params: 272,705\n",
      "Trainable params: 272,705\n",
      "Non-trainable params: 0\n",
      "_________________________________________________________________\n",
      "Epoch 1/50\n",
      "31/31 [==============================] - 2s 3ms/step - loss: 0.2299 - accuracy: 0.8036\n",
      "Epoch 2/50\n",
      "31/31 [==============================] - 0s 3ms/step - loss: 0.1807 - accuracy: 0.8251\n",
      "Epoch 3/50\n",
      "31/31 [==============================] - 0s 3ms/step - loss: 0.1529 - accuracy: 0.8251\n",
      "Epoch 4/50\n",
      "31/31 [==============================] - 0s 3ms/step - loss: 0.1443 - accuracy: 0.8251\n",
      "Epoch 5/50\n",
      "31/31 [==============================] - 0s 3ms/step - loss: 0.1384 - accuracy: 0.8251\n",
      "Epoch 6/50\n",
      "31/31 [==============================] - 0s 3ms/step - loss: 0.1327 - accuracy: 0.8251\n",
      "Epoch 7/50\n",
      "31/31 [==============================] - 0s 3ms/step - loss: 0.1265 - accuracy: 0.8251\n",
      "Epoch 8/50\n",
      "31/31 [==============================] - 0s 3ms/step - loss: 0.1186 - accuracy: 0.8333\n",
      "Epoch 9/50\n",
      "31/31 [==============================] - 0s 3ms/step - loss: 0.1101 - accuracy: 0.8482\n",
      "Epoch 10/50\n",
      "31/31 [==============================] - 0s 3ms/step - loss: 0.1022 - accuracy: 0.8581\n",
      "Epoch 11/50\n",
      "31/31 [==============================] - 0s 3ms/step - loss: 0.0950 - accuracy: 0.8696\n",
      "Epoch 12/50\n",
      "31/31 [==============================] - 0s 3ms/step - loss: 0.0887 - accuracy: 0.8762\n",
      "Epoch 13/50\n",
      "31/31 [==============================] - 0s 4ms/step - loss: 0.0839 - accuracy: 0.8861\n",
      "Epoch 14/50\n",
      "31/31 [==============================] - 0s 4ms/step - loss: 0.0786 - accuracy: 0.8960\n",
      "Epoch 15/50\n",
      "31/31 [==============================] - 0s 3ms/step - loss: 0.0743 - accuracy: 0.9026\n",
      "Epoch 16/50\n",
      "31/31 [==============================] - 0s 3ms/step - loss: 0.0701 - accuracy: 0.9109\n",
      "Epoch 17/50\n",
      "31/31 [==============================] - 0s 3ms/step - loss: 0.0670 - accuracy: 0.9142\n",
      "Epoch 18/50\n",
      "31/31 [==============================] - 0s 3ms/step - loss: 0.0637 - accuracy: 0.9208\n",
      "Epoch 19/50\n",
      "31/31 [==============================] - 0s 4ms/step - loss: 0.0620 - accuracy: 0.9158\n",
      "Epoch 20/50\n",
      "31/31 [==============================] - 0s 3ms/step - loss: 0.0585 - accuracy: 0.9290\n",
      "Epoch 21/50\n",
      "31/31 [==============================] - 0s 3ms/step - loss: 0.0569 - accuracy: 0.9208\n",
      "Epoch 22/50\n",
      "31/31 [==============================] - 0s 3ms/step - loss: 0.0546 - accuracy: 0.9389\n",
      "Epoch 23/50\n",
      "31/31 [==============================] - 0s 3ms/step - loss: 0.0527 - accuracy: 0.9455\n",
      "Epoch 24/50\n",
      "31/31 [==============================] - 0s 4ms/step - loss: 0.0507 - accuracy: 0.9455\n",
      "Epoch 25/50\n",
      "31/31 [==============================] - 0s 4ms/step - loss: 0.0492 - accuracy: 0.9472\n",
      "Epoch 26/50\n",
      "31/31 [==============================] - 0s 3ms/step - loss: 0.0471 - accuracy: 0.9505\n",
      "Epoch 27/50\n",
      "31/31 [==============================] - 0s 3ms/step - loss: 0.0457 - accuracy: 0.9505\n",
      "Epoch 28/50\n",
      "31/31 [==============================] - 0s 4ms/step - loss: 0.0445 - accuracy: 0.9554\n",
      "Epoch 29/50\n",
      "31/31 [==============================] - 0s 4ms/step - loss: 0.0431 - accuracy: 0.9620\n",
      "Epoch 30/50\n",
      "31/31 [==============================] - 0s 3ms/step - loss: 0.0411 - accuracy: 0.9653\n",
      "Epoch 31/50\n",
      "31/31 [==============================] - 0s 4ms/step - loss: 0.0403 - accuracy: 0.9670\n",
      "Epoch 32/50\n",
      "31/31 [==============================] - 0s 3ms/step - loss: 0.0386 - accuracy: 0.9620\n",
      "Epoch 33/50\n",
      "31/31 [==============================] - 0s 3ms/step - loss: 0.0381 - accuracy: 0.9620\n",
      "Epoch 34/50\n",
      "31/31 [==============================] - 0s 4ms/step - loss: 0.0370 - accuracy: 0.9604\n",
      "Epoch 35/50\n",
      "31/31 [==============================] - 0s 4ms/step - loss: 0.0354 - accuracy: 0.9686\n",
      "Epoch 36/50\n",
      "31/31 [==============================] - 0s 3ms/step - loss: 0.0345 - accuracy: 0.9703\n",
      "Epoch 37/50\n",
      "31/31 [==============================] - 0s 3ms/step - loss: 0.0335 - accuracy: 0.9719\n",
      "Epoch 38/50\n",
      "31/31 [==============================] - 0s 3ms/step - loss: 0.0324 - accuracy: 0.9736\n",
      "Epoch 39/50\n",
      "31/31 [==============================] - 0s 3ms/step - loss: 0.0323 - accuracy: 0.9736\n",
      "Epoch 40/50\n",
      "31/31 [==============================] - 0s 3ms/step - loss: 0.0315 - accuracy: 0.9686\n",
      "Epoch 41/50\n",
      "31/31 [==============================] - 0s 3ms/step - loss: 0.0299 - accuracy: 0.9736\n",
      "Epoch 42/50\n",
      "31/31 [==============================] - 0s 4ms/step - loss: 0.0293 - accuracy: 0.9785\n",
      "Epoch 43/50\n",
      "31/31 [==============================] - 0s 4ms/step - loss: 0.0283 - accuracy: 0.9719\n",
      "Epoch 44/50\n",
      "31/31 [==============================] - 0s 3ms/step - loss: 0.0277 - accuracy: 0.9752\n",
      "Epoch 45/50\n",
      "31/31 [==============================] - 0s 3ms/step - loss: 0.0270 - accuracy: 0.9785\n",
      "Epoch 46/50\n",
      "31/31 [==============================] - 0s 3ms/step - loss: 0.0266 - accuracy: 0.9785\n",
      "Epoch 47/50\n",
      "31/31 [==============================] - 0s 3ms/step - loss: 0.0257 - accuracy: 0.9802\n",
      "Epoch 48/50\n",
      "31/31 [==============================] - 0s 3ms/step - loss: 0.0259 - accuracy: 0.9802\n",
      "Epoch 49/50\n",
      "31/31 [==============================] - 0s 3ms/step - loss: 0.0246 - accuracy: 0.9785\n",
      "Epoch 50/50\n",
      "31/31 [==============================] - 0s 3ms/step - loss: 0.0245 - accuracy: 0.9802\n"
     ]
    }
   ],
   "source": [
    "model=Sequential()\n",
    "model.add(LSTM(64,input_shape=(x_train.shape[1],x_train.shape[2]),activation='relu'))\n",
    "model.add(Dense(1,activation='sigmoid'))\n",
    "model.summary()\n",
    "\n",
    "model.compile(loss=\"mse\",optimizer=\"adam\",metrics=['accuracy'])\n",
    "hist=model.fit(x_train,y_train,epochs=50,batch_size=20)"
   ]
  },
  {
   "cell_type": "code",
   "execution_count": 5,
   "id": "ce33774f-1b73-4abf-a1ea-887533ee8076",
   "metadata": {},
   "outputs": [
    {
     "data": {
      "image/png": "[encoded data removed]",
      "text/plain": [
       "<Figure size 432x288 with 1 Axes>"
      ]
     },
     "metadata": {
      "needs_background": "light"
     },
     "output_type": "display_data"
    }
   ],
   "source": [
    "accu = plt.subplot()\n",
    "\n",
    "accu.plot(hist.history['accuracy'], 'b', label='acc')\n",
    "\n",
    "accu.set_xlabel('epoch')\n",
    "accu.legend(loc='upper left')\n",
    "\n",
    "accu.plot(hist.history['loss'], 'r', label='loss')\n",
    "accu.set_xlabel('epoch')\n",
    "accu.legend(loc='upper left')\n",
    "\n",
    "plt.show()"
   ]
  },
  {
   "cell_type": "code",
   "execution_count": 6,
   "id": "5e1ab6b9-53f9-4c57-b1a7-4d6fcec686c3",
   "metadata": {},
   "outputs": [
    {
     "name": "stdout",
     "output_type": "stream",
     "text": [
      "INFO:tensorflow:Assets written to: sports_0802\\assets\n"
     ]
    }
   ],
   "source": [
    "# 학습모델 저장\n",
    "model.save(\"sports_0802\")\n",
    "\n",
    "# loaded_model = load_model(\"mecab_1\")"
   ]
  },
  {
   "cell_type": "code",
   "execution_count": null,
   "id": "770f4fe6-9164-4755-98d4-c03c0ae61bf0",
   "metadata": {},
   "outputs": [],
   "source": []
  },
  {
   "cell_type": "code",
   "execution_count": null,
   "id": "e2627b35-1d50-493d-89c4-03282f32fc38",
   "metadata": {},
   "outputs": [],
   "source": []
  }
 ],
 "metadata": {
  "kernelspec": {
   "display_name": "Python 3",
   "language": "python",
   "name": "python3"
  },
  "language_info": {
   "codemirror_mode": {
    "name": "ipython",
    "version": 3
   },
   "file_extension": ".py",
   "mimetype": "text/x-python",
   "name": "python",
   "nbconvert_exporter": "python",
   "pygments_lexer": "ipython3",
   "version": "3.7.0"
  }
 },
 "nbformat": 4,
 "nbformat_minor": 5
}

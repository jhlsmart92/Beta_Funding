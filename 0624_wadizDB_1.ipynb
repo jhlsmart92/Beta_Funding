{
 "cells": [
  {
   "cell_type": "code",
   "execution_count": 6,
   "id": "84ff3427-5c5e-47eb-8d32-5d2cc03ebc6b",
   "metadata": {},
   "outputs": [],
   "source": [
    "import requests\n",
    "from bs4 import BeautifulSoup as bsp\n",
    "import numpy as np\n",
    "import pandas as pd\n",
    "import matplotlib as mpl\n",
    "import matplotlib.pyplot as plt\n",
    "import sqlite3\n",
    "\n",
    "import json\n",
    "import time\n",
    "from datetime import datetime, timedelta\n",
    "from selenium import webdriver"
   ]
  },
  {
   "cell_type": "code",
   "execution_count": 138,
   "id": "3c13cbf1-2b0d-4896-b50f-e68219def5b7",
   "metadata": {},
   "outputs": [],
   "source": [
    "# PYTHON으로 SQLITE3의 DB에 데이터 담기\n",
    "dbname='wadiz.db'\n",
    "def insData(d, tblname='wadiztable'):\n",
    "    with sqlite3.connect(dbname) as conn:\n",
    "        cur=conn.cursor()\n",
    "        sql='select nkey from '+tblname+' where nkey=\"'+d[-1]+'\"'\n",
    "        ckkey=cur.execute(sql).fetchall()\n",
    "        if ckkey:\n",
    "            print('-',end='')\n",
    "        \n",
    "        else:\n",
    "            insql='insert into '+tblname+' (ntitle,ncontent,npercent,namount,nsup,nkey) values (?,?,?,?,?,?)'\n",
    "            cur.execute(insql,d)\n",
    "            print('.',end='')"
   ]
  },
  {
   "cell_type": "code",
   "execution_count": 2,
   "id": "8a4b9297-a766-4e9d-a004-523b143a1c26",
   "metadata": {},
   "outputs": [],
   "source": [
    "# 무한 스크롤 코드\n",
    "driver = webdriver.Chrome('C:\\work37\\hackerton\\chromedriver.exe')\n",
    "driver.get(\"https://www.wadiz.kr/web/wreward/category/288?keyword=&endYn=ALL&order=recommend\") \n",
    "\n",
    "elements = driver.find_element_by_xpath(f'//*[@id=\"main-app\"]/div[2]/div/div[5]/div[2]/div[2]/div/button')\n",
    "time.sleep(0.5)\n",
    "driver.execute_script(\"arguments[0].click();\", elements)\n",
    "time.sleep(0.5)\n",
    "\n",
    "SCROLL_PAUSE_TIME = 1\n",
    "last_height = driver.execute_script(\"return document.body.scrollHeight\")\n",
    "\n",
    "while True:\n",
    "    driver.execute_script(\"window.scrollTo(0, document.body.scrollHeight);\")\n",
    "    time.sleep(SCROLL_PAUSE_TIME)\n",
    "    driver.execute_script(\"window.scrollTo(0, document.body.scrollHeight-50);\")\n",
    "    time.sleep(SCROLL_PAUSE_TIME)\n",
    "    new_height = driver.execute_script(\"return document.body.scrollHeight\")\n",
    "    \n",
    "    if new_height == last_height:\n",
    "        break\n",
    "    last_height = new_height"
   ]
  },
  {
   "cell_type": "code",
   "execution_count": 23,
   "id": "bd51ffae-6a41-4a39-bff7-d6b7f7118456",
   "metadata": {},
   "outputs": [],
   "source": [
    "# 무한 스크롤 된 상태에서 주소 담는 코드\n",
    "hrefs=[]\n",
    "tables =driver.find_element_by_class_name('CommonCard_container__e_ebQ') \n",
    "table =tables.find_element_by_class_name('CardLink_link__1k83H')\n",
    "elems = table.find_elements_by_xpath(\"//a[@href]\")\n",
    "for elem in elems:\n",
    "    hrefs.append(elem.get_attribute(\"href\"))"
   ]
  },
  {
   "cell_type": "code",
   "execution_count": 4,
   "id": "478d12ca-1fc7-4e08-8264-68c43d8016ab",
   "metadata": {
    "tags": []
   },
   "outputs": [],
   "source": [
    "hrefs=[]\n",
    "tables =driver.find_elements_by_class_name(\"CommonCard_image__vaqkf\")\n",
    "for table in tables:\n",
    "    hrefs.append(table.get_attribute('href'))\n",
    "len(hrefs)"
   ]
  },
  {
   "cell_type": "code",
   "execution_count": 139,
   "id": "206ee1f5-1b3f-4b92-a9dd-bee564614d0c",
   "metadata": {
    "tags": []
   },
   "outputs": [
    {
     "name": "stdout",
     "output_type": "stream",
     "text": [
      "........................................................................................................................................................................................................"
     ]
    }
   ],
   "source": [
    "for i in range(200):\n",
    "    url = hrefs[i]\n",
    "    reqheader = {'User-Agent':'Mozilla/5.0 (Windows NT 10.0;Win64; x64) AppleWebKit/537.36 (KHTML, like Gecko) Chrome/71.0.3578.98 Safari/537.36'} \n",
    "    src=requests.get(url,headers=reqheader)\n",
    "    cont=src.content.strip() \n",
    "    html=bsp(cont,'html.parser')\n",
    "\n",
    "    title=html.select('h2.title a')\n",
    "    ntitle=title[0].text\n",
    "\n",
    "    contents=html.select('.inner-contents p')\n",
    "    cont=[]\n",
    "    for content in contents:\n",
    "            cont.append(content.text)\n",
    "    ncontent=' '.join(cont)\n",
    "\n",
    "    percent=html.select('p.achievement-rate strong')\n",
    "    npercent=percent[0].text\n",
    "\n",
    "    amount=html.select('p.total-amount strong')\n",
    "    namount=amount[0].text\n",
    "\n",
    "    support=html.select('p.total-supporter strong')\n",
    "    nsup=support[0].text\n",
    "\n",
    "    nkey= url[-6:]\n",
    "\n",
    "    d=(ntitle, ncontent, npercent, namount, nsup, nkey)\n",
    "    insData(d)"
   ]
  }
 ],
 "metadata": {
  "kernelspec": {
   "display_name": "Python 3",
   "language": "python",
   "name": "python3"
  },
  "language_info": {
   "codemirror_mode": {
    "name": "ipython",
    "version": 3
   },
   "file_extension": ".py",
   "mimetype": "text/x-python",
   "name": "python",
   "nbconvert_exporter": "python",
   "pygments_lexer": "ipython3",
   "version": "3.8.8"
  }
 },
 "nbformat": 4,
 "nbformat_minor": 5
}

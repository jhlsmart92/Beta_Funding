{
 "cells": [
  {
   "cell_type": "code",
   "execution_count": 1,
   "id": "82ec9623-eed6-4107-b1ce-9b7dd0bbc632",
   "metadata": {},
   "outputs": [],
   "source": [
    "import numpy as np\n",
    "import pandas as pd\n",
    "import matplotlib as mpl\n",
    "import matplotlib.pyplot as plt\n",
    "import sqlite3"
   ]
  },
  {
   "cell_type": "code",
   "execution_count": 2,
   "id": "608118cf-d47c-4305-8a3f-ec2b42d4b8c2",
   "metadata": {},
   "outputs": [
    {
     "data": {
      "text/plain": [
       "((606, 1, 1000), (152, 1, 1000), (606,))"
      ]
     },
     "execution_count": 2,
     "metadata": {},
     "output_type": "execute_result"
    }
   ],
   "source": [
    "# pickle 저장된 파일 불러오기\n",
    "import pickle\n",
    "with open('.train_test.pkl', 'rb') as f:\n",
    "    x_train, x_test, y_train, y_test = pickle.load(f)\n",
    "x_train.shape, x_test.shape, y_train.shape"
   ]
  },
  {
   "cell_type": "code",
   "execution_count": 3,
   "id": "51742094-7b57-4d43-a5f8-e09c177ed7bb",
   "metadata": {},
   "outputs": [
    {
     "data": {
      "text/plain": [
       "array([[[0.01668803, 0.        , 0.03097   , ..., 0.        ,\n",
       "         0.        , 0.        ]],\n",
       "\n",
       "       [[0.00750562, 0.        , 0.03714424, ..., 0.        ,\n",
       "         0.02237014, 0.        ]],\n",
       "\n",
       "       [[0.04386014, 0.        , 0.01356609, ..., 0.        ,\n",
       "         0.        , 0.01125551]],\n",
       "\n",
       "       ...,\n",
       "\n",
       "       [[0.        , 0.        , 0.06719503, ..., 0.        ,\n",
       "         0.        , 0.        ]],\n",
       "\n",
       "       [[0.        , 0.        , 0.10777964, ..., 0.        ,\n",
       "         0.        , 0.        ]],\n",
       "\n",
       "       [[0.        , 0.        , 0.06757165, ..., 0.        ,\n",
       "         0.        , 0.        ]]])"
      ]
     },
     "execution_count": 3,
     "metadata": {},
     "output_type": "execute_result"
    }
   ],
   "source": [
    "x_train"
   ]
  },
  {
   "cell_type": "code",
   "execution_count": null,
   "id": "3d1f3ca7-c071-411a-aede-4ff873e19234",
   "metadata": {},
   "outputs": [],
   "source": []
  },
  {
   "cell_type": "code",
   "execution_count": 4,
   "id": "0fcf7f22-22f4-4863-bef5-542d6791dbd8",
   "metadata": {},
   "outputs": [],
   "source": [
    "# 저장된 딥러닝 모델 불러오기\n",
    "from tensorflow.keras.models import load_model\n",
    "loaded_model = load_model(\"sports_0802\")"
   ]
  },
  {
   "cell_type": "code",
   "execution_count": null,
   "id": "dc35d2da-e2b9-4b89-9f50-118fee234301",
   "metadata": {},
   "outputs": [],
   "source": []
  },
  {
   "cell_type": "code",
   "execution_count": null,
   "id": "b5652aed-8e8f-4b42-bb77-1532acb3cf5e",
   "metadata": {},
   "outputs": [],
   "source": []
  },
  {
   "cell_type": "code",
   "execution_count": 5,
   "id": "6390d38f-66ba-4f9f-837b-732b65f7b64e",
   "metadata": {},
   "outputs": [
    {
     "data": {
      "text/plain": [
       "array([[0.05],\n",
       "       [0.01],\n",
       "       [0.01],\n",
       "       [0.  ],\n",
       "       [0.  ],\n",
       "       [0.05],\n",
       "       [0.01],\n",
       "       [0.9 ],\n",
       "       [0.94],\n",
       "       [0.  ],\n",
       "       [0.2 ],\n",
       "       [0.  ],\n",
       "       [0.01],\n",
       "       [0.14],\n",
       "       [0.  ],\n",
       "       [0.  ],\n",
       "       [0.03],\n",
       "       [0.  ],\n",
       "       [0.04],\n",
       "       [0.06],\n",
       "       [0.02],\n",
       "       [0.9 ],\n",
       "       [0.82],\n",
       "       [0.03],\n",
       "       [0.  ],\n",
       "       [0.  ],\n",
       "       [0.06],\n",
       "       [0.  ],\n",
       "       [0.  ],\n",
       "       [0.01]], dtype=float32)"
      ]
     },
     "execution_count": 5,
     "metadata": {},
     "output_type": "execute_result"
    }
   ],
   "source": [
    "pred = loaded_model.predict(x_test)\n",
    "np.round(pred,2)[:30]"
   ]
  },
  {
   "cell_type": "code",
   "execution_count": 6,
   "id": "1bd97e6c-7087-49d4-92d0-0b3264d392b7",
   "metadata": {},
   "outputs": [
    {
     "data": {
      "text/plain": [
       "0.8026315789473685"
      ]
     },
     "execution_count": 6,
     "metadata": {},
     "output_type": "execute_result"
    }
   ],
   "source": [
    "# model.accuracy가 안되서 직접 0,1 변환한다음 정확도 계산해보기\n",
    "pred2=np.where(pred<0.5,0,pred) # 0.5 미만 0\n",
    "pred2=np.where(pred2>=0.5,1,pred2) # 0.5 이상 1\n",
    "\n",
    "pred2=pred2.reshape(-1,)\n",
    "(pred2 == y_test).sum() / y_test.shape[0]"
   ]
  },
  {
   "cell_type": "markdown",
   "id": "0962780a-7e36-4dd5-9b67-228ee7406d1a",
   "metadata": {},
   "source": [
    "####### 상위 정확도 찾기 #########"
   ]
  },
  {
   "cell_type": "code",
   "execution_count": 7,
   "id": "64eacc61-ef38-42b4-8e29-83408c984879",
   "metadata": {},
   "outputs": [
    {
     "data": {
      "text/plain": [
       "(array([  8,  21,  86, 100, 103, 107, 112, 117, 127, 137], dtype=int64),\n",
       " array([  1,   2,   3,   4,   6,   9,  11,  12,  14,  15,  16,  17,  18,\n",
       "         20,  23,  24,  25,  27,  28,  29,  30,  31,  32,  33,  34,  35,\n",
       "         36,  37,  38,  40,  43,  44,  49,  54,  55,  56,  57,  58,  63,\n",
       "         64,  68,  69,  72,  74,  75,  76,  78,  80,  83,  87,  90,  91,\n",
       "         92,  93,  94,  96,  97,  98,  99, 102, 105, 113, 114, 115, 120,\n",
       "        123, 124, 126, 129, 133, 134, 135, 138, 140, 144, 145, 147, 148,\n",
       "        149, 151], dtype=int64))"
      ]
     },
     "execution_count": 7,
     "metadata": {},
     "output_type": "execute_result"
    }
   ],
   "source": [
    "one= np.where(pred>0.9)[0]\n",
    "zero= np.where(pred<0.05)[0]\n",
    "one, zero"
   ]
  },
  {
   "cell_type": "code",
   "execution_count": 8,
   "id": "aecd14e6-0054-4c5e-a5f5-685ed72dc67a",
   "metadata": {},
   "outputs": [
    {
     "data": {
      "text/plain": [
       "(array([ 8, 21, 86], dtype=int64), array([148, 149, 151], dtype=int64))"
      ]
     },
     "execution_count": 8,
     "metadata": {},
     "output_type": "execute_result"
    }
   ],
   "source": [
    "# 1인거 3개, 0인거 3개 추출\n",
    "test_one=one[:3]\n",
    "test_zero=zero[-3:]\n",
    "\n",
    "test_one, test_zero"
   ]
  },
  {
   "cell_type": "markdown",
   "id": "5b8ac04e-eabb-4f25-94ca-ebb976f349ca",
   "metadata": {},
   "source": [
    "#####3 확인하기 #####"
   ]
  },
  {
   "cell_type": "code",
   "execution_count": 9,
   "id": "f2b16388-6e5f-419c-a39a-0e913ce97844",
   "metadata": {},
   "outputs": [
    {
     "name": "stdout",
     "output_type": "stream",
     "text": [
      "data는  758 개\n"
     ]
    },
    {
     "name": "stderr",
     "output_type": "stream",
     "text": [
      "C:\\Users\\pc\\anaconda3\\envs\\py37\\lib\\site-packages\\pandas\\core\\indexing.py:1732: SettingWithCopyWarning: \n",
      "A value is trying to be set on a copy of a slice from a DataFrame\n",
      "\n",
      "See the caveats in the documentation: https://pandas.pydata.org/pandas-docs/stable/user_guide/indexing.html#returning-a-view-versus-a-copy\n",
      "  self._setitem_single_block(indexer, value, name)\n"
     ]
    }
   ],
   "source": [
    "# PYTHON으로 SQLITE3의 DB에 데이터 담기\n",
    "dbname='20210726_newDB.db'\n",
    "def insData(d, tblname='wadiznew'):\n",
    "    with sqlite3.connect(dbname) as conn:\n",
    "        cur=conn.cursor()\n",
    "        sql='select * from '+tblname+' where ncategory=\"'+d+'\"'\n",
    "        ckkey=cur.execute(sql).fetchall()\n",
    "        if ckkey:\n",
    "            return ckkey\n",
    "        \n",
    "# df 뽑아내는 함수\n",
    "def category(i):\n",
    "    cate=['테크·가전', '패션·잡화', '뷰티', '푸드', '홈리빙', '여행·레저', '스포츠·모빌리티', '공연·컬쳐', \n",
    "          '베이비·키즈', '반려동물', '게임·취미', '클래스', '출판', '디자인소품', '소셜·캠페인', '기부·후원', '모임']\n",
    "    data=insData(cate[i])\n",
    "    df=pd.DataFrame(data)\n",
    "    names=['idx','category','name','title','content','supporter','amount','percent','fund','start','end','numofpics','community','key']\n",
    "    df.columns=names\n",
    "    encore = \"앵콜\"\n",
    "    df['label'] = 0\n",
    "\n",
    "    for i, title in enumerate(df['title']):\n",
    "        if title.find(encore) > 0:\n",
    "            df['label'].iloc[i] = 1\n",
    "    return df\n",
    "\n",
    "# 확인용으로 tdf 만들기\n",
    "# 스포츠모빌리티 선택(6)\n",
    "df=category(6)\n",
    "print('data는 ', len(df), '개')\n",
    "tdf=df.copy()"
   ]
  },
  {
   "cell_type": "code",
   "execution_count": 10,
   "id": "d725ceb5-2860-417c-8142-c9c19d41e075",
   "metadata": {},
   "outputs": [
    {
     "name": "stdout",
     "output_type": "stream",
     "text": [
      "              name  label\n",
      "8  타이거다즐러 (올어바웃어스)      0\n",
      "        name  label\n",
      "21  주식회사 나노휠      0\n",
      "        name  label\n",
      "86  (주)에스앤에프      1\n",
      "------------------------------\n",
      "        name  label\n",
      "148  (주)태서전기      1\n",
      "                      name  label\n",
      "149  주식회사 비브로 (VIVRO Inc.)      0\n",
      "         name  label\n",
      "151  (주) 핸드허그      0\n"
     ]
    }
   ],
   "source": [
    "# (예측 : 1) 확인해보기 -> 실제 3개 중 2개 (2/3 맞춤)\n",
    "for i in test_one:\n",
    "    print(tdf[tdf.index == i][['name','label']])\n",
    "print('-'*30)   \n",
    "\n",
    "# (예측 : 0) 확인해보기 -> 실제 3개 중 2개 (2/3 맞춤)\n",
    "for j in test_zero:\n",
    "    print(tdf[tdf.index == j][['name','label']])"
   ]
  },
  {
   "cell_type": "code",
   "execution_count": null,
   "id": "3e6258c5-186f-47d8-8d28-8cb8d8bf2769",
   "metadata": {},
   "outputs": [],
   "source": []
  },
  {
   "cell_type": "code",
   "execution_count": null,
   "id": "08ffd48f-d2f4-4e0d-8672-8be611e53ee5",
   "metadata": {},
   "outputs": [],
   "source": []
  }
 ],
 "metadata": {
  "kernelspec": {
   "display_name": "Python 3",
   "language": "python",
   "name": "python3"
  },
  "language_info": {
   "codemirror_mode": {
    "name": "ipython",
    "version": 3
   },
   "file_extension": ".py",
   "mimetype": "text/x-python",
   "name": "python",
   "nbconvert_exporter": "python",
   "pygments_lexer": "ipython3",
   "version": "3.7.0"
  }
 },
 "nbformat": 4,
 "nbformat_minor": 5
}
